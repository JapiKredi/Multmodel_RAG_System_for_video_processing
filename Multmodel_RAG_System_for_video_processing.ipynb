{
  "nbformat": 4,
  "nbformat_minor": 0,
  "metadata": {
    "colab": {
      "provenance": [],
      "authorship_tag": "ABX9TyMPk6fnp4AXHw6gj3Zeq7dX",
      "include_colab_link": true
    },
    "kernelspec": {
      "name": "python3",
      "display_name": "Python 3"
    },
    "language_info": {
      "name": "python"
    }
  },
  "cells": [
    {
      "cell_type": "markdown",
      "metadata": {
        "id": "view-in-github",
        "colab_type": "text"
      },
      "source": [
        "<a href=\"https://colab.research.google.com/github/JapiKredi/Multmodel_RAG_System_for_video_processing/blob/main/Multmodel_RAG_System_for_video_processing.ipynb\" target=\"_parent\"><img src=\"https://colab.research.google.com/assets/colab-badge.svg\" alt=\"Open In Colab\"/></a>"
      ]
    },
    {
      "cell_type": "markdown",
      "source": [
        "1. llamaindex framework\n",
        "2. Lancedb\n",
        "3. LLM model(GPT-4V)\n",
        "4. GEMINI-PRO-VISION"
      ],
      "metadata": {
        "id": "TsnRZtXrm1Mq"
      }
    },
    {
      "cell_type": "markdown",
      "source": [
        "Steps:\n",
        "1. Download video from YouTube, process and store it.\n",
        "\n",
        "2. Build Multi-Modal index and vector store for both texts and images.\n",
        "\n",
        "3. Retrieve relevant images and context, use both to augment the prompt.\n",
        "\n",
        "4. Using GPT4V for reasoning the correlations between the input query and augmented data and generating final response."
      ],
      "metadata": {
        "id": "oOqe1ElEm7HP"
      }
    },
    {
      "cell_type": "code",
      "execution_count": 2,
      "metadata": {
        "colab": {
          "base_uri": "https://localhost:8080/"
        },
        "id": "vzWto2nMmQ6y",
        "outputId": "55ca148a-d824-4fa6-9cea-f648f4d7a23d"
      },
      "outputs": [
        {
          "output_type": "stream",
          "name": "stdout",
          "text": [
            "Requirement already satisfied: llama-index-vector-stores-lancedb in /usr/local/lib/python3.10/dist-packages (0.1.3)\n",
            "Requirement already satisfied: lancedb<0.6.0,>=0.5.1 in /usr/local/lib/python3.10/dist-packages (from llama-index-vector-stores-lancedb) (0.5.7)\n",
            "Requirement already satisfied: llama-index-core<0.11.0,>=0.10.1 in /usr/local/lib/python3.10/dist-packages (from llama-index-vector-stores-lancedb) (0.10.30)\n",
            "Requirement already satisfied: deprecation in /usr/local/lib/python3.10/dist-packages (from lancedb<0.6.0,>=0.5.1->llama-index-vector-stores-lancedb) (2.1.0)\n",
            "Requirement already satisfied: pylance==0.9.18 in /usr/local/lib/python3.10/dist-packages (from lancedb<0.6.0,>=0.5.1->llama-index-vector-stores-lancedb) (0.9.18)\n",
            "Requirement already satisfied: ratelimiter~=1.0 in /usr/local/lib/python3.10/dist-packages (from lancedb<0.6.0,>=0.5.1->llama-index-vector-stores-lancedb) (1.2.0.post0)\n",
            "Requirement already satisfied: retry>=0.9.2 in /usr/local/lib/python3.10/dist-packages (from lancedb<0.6.0,>=0.5.1->llama-index-vector-stores-lancedb) (0.9.2)\n",
            "Requirement already satisfied: tqdm>=4.27.0 in /usr/local/lib/python3.10/dist-packages (from lancedb<0.6.0,>=0.5.1->llama-index-vector-stores-lancedb) (4.66.2)\n",
            "Requirement already satisfied: pydantic>=1.10 in /usr/local/lib/python3.10/dist-packages (from lancedb<0.6.0,>=0.5.1->llama-index-vector-stores-lancedb) (2.7.0)\n",
            "Requirement already satisfied: attrs>=21.3.0 in /usr/local/lib/python3.10/dist-packages (from lancedb<0.6.0,>=0.5.1->llama-index-vector-stores-lancedb) (23.2.0)\n",
            "Requirement already satisfied: semver>=3.0 in /usr/local/lib/python3.10/dist-packages (from lancedb<0.6.0,>=0.5.1->llama-index-vector-stores-lancedb) (3.0.2)\n",
            "Requirement already satisfied: cachetools in /usr/local/lib/python3.10/dist-packages (from lancedb<0.6.0,>=0.5.1->llama-index-vector-stores-lancedb) (5.3.3)\n",
            "Requirement already satisfied: pyyaml>=6.0 in /usr/local/lib/python3.10/dist-packages (from lancedb<0.6.0,>=0.5.1->llama-index-vector-stores-lancedb) (6.0.1)\n",
            "Requirement already satisfied: click>=8.1.7 in /usr/local/lib/python3.10/dist-packages (from lancedb<0.6.0,>=0.5.1->llama-index-vector-stores-lancedb) (8.1.7)\n",
            "Requirement already satisfied: requests>=2.31.0 in /usr/local/lib/python3.10/dist-packages (from lancedb<0.6.0,>=0.5.1->llama-index-vector-stores-lancedb) (2.31.0)\n",
            "Requirement already satisfied: overrides>=0.7 in /usr/local/lib/python3.10/dist-packages (from lancedb<0.6.0,>=0.5.1->llama-index-vector-stores-lancedb) (7.7.0)\n",
            "Requirement already satisfied: pyarrow>=12 in /usr/local/lib/python3.10/dist-packages (from pylance==0.9.18->lancedb<0.6.0,>=0.5.1->llama-index-vector-stores-lancedb) (14.0.2)\n",
            "Requirement already satisfied: numpy>=1.22 in /usr/local/lib/python3.10/dist-packages (from pylance==0.9.18->lancedb<0.6.0,>=0.5.1->llama-index-vector-stores-lancedb) (1.25.2)\n",
            "Requirement already satisfied: SQLAlchemy[asyncio]>=1.4.49 in /usr/local/lib/python3.10/dist-packages (from llama-index-core<0.11.0,>=0.10.1->llama-index-vector-stores-lancedb) (2.0.29)\n",
            "Requirement already satisfied: aiohttp<4.0.0,>=3.8.6 in /usr/local/lib/python3.10/dist-packages (from llama-index-core<0.11.0,>=0.10.1->llama-index-vector-stores-lancedb) (3.9.5)\n",
            "Requirement already satisfied: dataclasses-json in /usr/local/lib/python3.10/dist-packages (from llama-index-core<0.11.0,>=0.10.1->llama-index-vector-stores-lancedb) (0.6.4)\n",
            "Requirement already satisfied: deprecated>=1.2.9.3 in /usr/local/lib/python3.10/dist-packages (from llama-index-core<0.11.0,>=0.10.1->llama-index-vector-stores-lancedb) (1.2.14)\n",
            "Requirement already satisfied: dirtyjson<2.0.0,>=1.0.8 in /usr/local/lib/python3.10/dist-packages (from llama-index-core<0.11.0,>=0.10.1->llama-index-vector-stores-lancedb) (1.0.8)\n",
            "Requirement already satisfied: fsspec>=2023.5.0 in /usr/local/lib/python3.10/dist-packages (from llama-index-core<0.11.0,>=0.10.1->llama-index-vector-stores-lancedb) (2023.6.0)\n",
            "Requirement already satisfied: httpx in /usr/local/lib/python3.10/dist-packages (from llama-index-core<0.11.0,>=0.10.1->llama-index-vector-stores-lancedb) (0.27.0)\n",
            "Requirement already satisfied: llamaindex-py-client<0.2.0,>=0.1.18 in /usr/local/lib/python3.10/dist-packages (from llama-index-core<0.11.0,>=0.10.1->llama-index-vector-stores-lancedb) (0.1.18)\n",
            "Requirement already satisfied: nest-asyncio<2.0.0,>=1.5.8 in /usr/local/lib/python3.10/dist-packages (from llama-index-core<0.11.0,>=0.10.1->llama-index-vector-stores-lancedb) (1.6.0)\n",
            "Requirement already satisfied: networkx>=3.0 in /usr/local/lib/python3.10/dist-packages (from llama-index-core<0.11.0,>=0.10.1->llama-index-vector-stores-lancedb) (3.3)\n",
            "Requirement already satisfied: nltk<4.0.0,>=3.8.1 in /usr/local/lib/python3.10/dist-packages (from llama-index-core<0.11.0,>=0.10.1->llama-index-vector-stores-lancedb) (3.8.1)\n",
            "Requirement already satisfied: openai>=1.1.0 in /usr/local/lib/python3.10/dist-packages (from llama-index-core<0.11.0,>=0.10.1->llama-index-vector-stores-lancedb) (1.23.2)\n",
            "Requirement already satisfied: pandas in /usr/local/lib/python3.10/dist-packages (from llama-index-core<0.11.0,>=0.10.1->llama-index-vector-stores-lancedb) (2.0.3)\n",
            "Requirement already satisfied: pillow>=9.0.0 in /usr/local/lib/python3.10/dist-packages (from llama-index-core<0.11.0,>=0.10.1->llama-index-vector-stores-lancedb) (10.3.0)\n",
            "Requirement already satisfied: tenacity<9.0.0,>=8.2.0 in /usr/local/lib/python3.10/dist-packages (from llama-index-core<0.11.0,>=0.10.1->llama-index-vector-stores-lancedb) (8.2.3)\n",
            "Requirement already satisfied: tiktoken>=0.3.3 in /usr/local/lib/python3.10/dist-packages (from llama-index-core<0.11.0,>=0.10.1->llama-index-vector-stores-lancedb) (0.6.0)\n",
            "Requirement already satisfied: typing-extensions>=4.5.0 in /usr/local/lib/python3.10/dist-packages (from llama-index-core<0.11.0,>=0.10.1->llama-index-vector-stores-lancedb) (4.11.0)\n",
            "Requirement already satisfied: typing-inspect>=0.8.0 in /usr/local/lib/python3.10/dist-packages (from llama-index-core<0.11.0,>=0.10.1->llama-index-vector-stores-lancedb) (0.9.0)\n",
            "Requirement already satisfied: wrapt in /usr/local/lib/python3.10/dist-packages (from llama-index-core<0.11.0,>=0.10.1->llama-index-vector-stores-lancedb) (1.14.1)\n",
            "Requirement already satisfied: aiosignal>=1.1.2 in /usr/local/lib/python3.10/dist-packages (from aiohttp<4.0.0,>=3.8.6->llama-index-core<0.11.0,>=0.10.1->llama-index-vector-stores-lancedb) (1.3.1)\n",
            "Requirement already satisfied: frozenlist>=1.1.1 in /usr/local/lib/python3.10/dist-packages (from aiohttp<4.0.0,>=3.8.6->llama-index-core<0.11.0,>=0.10.1->llama-index-vector-stores-lancedb) (1.4.1)\n",
            "Requirement already satisfied: multidict<7.0,>=4.5 in /usr/local/lib/python3.10/dist-packages (from aiohttp<4.0.0,>=3.8.6->llama-index-core<0.11.0,>=0.10.1->llama-index-vector-stores-lancedb) (6.0.5)\n",
            "Requirement already satisfied: yarl<2.0,>=1.0 in /usr/local/lib/python3.10/dist-packages (from aiohttp<4.0.0,>=3.8.6->llama-index-core<0.11.0,>=0.10.1->llama-index-vector-stores-lancedb) (1.9.4)\n",
            "Requirement already satisfied: async-timeout<5.0,>=4.0 in /usr/local/lib/python3.10/dist-packages (from aiohttp<4.0.0,>=3.8.6->llama-index-core<0.11.0,>=0.10.1->llama-index-vector-stores-lancedb) (4.0.3)\n",
            "Requirement already satisfied: anyio in /usr/local/lib/python3.10/dist-packages (from httpx->llama-index-core<0.11.0,>=0.10.1->llama-index-vector-stores-lancedb) (3.7.1)\n",
            "Requirement already satisfied: certifi in /usr/local/lib/python3.10/dist-packages (from httpx->llama-index-core<0.11.0,>=0.10.1->llama-index-vector-stores-lancedb) (2024.2.2)\n",
            "Requirement already satisfied: httpcore==1.* in /usr/local/lib/python3.10/dist-packages (from httpx->llama-index-core<0.11.0,>=0.10.1->llama-index-vector-stores-lancedb) (1.0.5)\n",
            "Requirement already satisfied: idna in /usr/local/lib/python3.10/dist-packages (from httpx->llama-index-core<0.11.0,>=0.10.1->llama-index-vector-stores-lancedb) (3.7)\n",
            "Requirement already satisfied: sniffio in /usr/local/lib/python3.10/dist-packages (from httpx->llama-index-core<0.11.0,>=0.10.1->llama-index-vector-stores-lancedb) (1.3.1)\n",
            "Requirement already satisfied: h11<0.15,>=0.13 in /usr/local/lib/python3.10/dist-packages (from httpcore==1.*->httpx->llama-index-core<0.11.0,>=0.10.1->llama-index-vector-stores-lancedb) (0.14.0)\n",
            "Requirement already satisfied: joblib in /usr/local/lib/python3.10/dist-packages (from nltk<4.0.0,>=3.8.1->llama-index-core<0.11.0,>=0.10.1->llama-index-vector-stores-lancedb) (1.4.0)\n",
            "Requirement already satisfied: regex>=2021.8.3 in /usr/local/lib/python3.10/dist-packages (from nltk<4.0.0,>=3.8.1->llama-index-core<0.11.0,>=0.10.1->llama-index-vector-stores-lancedb) (2023.12.25)\n",
            "Requirement already satisfied: distro<2,>=1.7.0 in /usr/lib/python3/dist-packages (from openai>=1.1.0->llama-index-core<0.11.0,>=0.10.1->llama-index-vector-stores-lancedb) (1.7.0)\n",
            "Requirement already satisfied: annotated-types>=0.4.0 in /usr/local/lib/python3.10/dist-packages (from pydantic>=1.10->lancedb<0.6.0,>=0.5.1->llama-index-vector-stores-lancedb) (0.6.0)\n",
            "Requirement already satisfied: pydantic-core==2.18.1 in /usr/local/lib/python3.10/dist-packages (from pydantic>=1.10->lancedb<0.6.0,>=0.5.1->llama-index-vector-stores-lancedb) (2.18.1)\n",
            "Requirement already satisfied: charset-normalizer<4,>=2 in /usr/local/lib/python3.10/dist-packages (from requests>=2.31.0->lancedb<0.6.0,>=0.5.1->llama-index-vector-stores-lancedb) (3.3.2)\n",
            "Requirement already satisfied: urllib3<3,>=1.21.1 in /usr/local/lib/python3.10/dist-packages (from requests>=2.31.0->lancedb<0.6.0,>=0.5.1->llama-index-vector-stores-lancedb) (2.0.7)\n",
            "Requirement already satisfied: decorator>=3.4.2 in /usr/local/lib/python3.10/dist-packages (from retry>=0.9.2->lancedb<0.6.0,>=0.5.1->llama-index-vector-stores-lancedb) (4.4.2)\n",
            "Requirement already satisfied: py<2.0.0,>=1.4.26 in /usr/local/lib/python3.10/dist-packages (from retry>=0.9.2->lancedb<0.6.0,>=0.5.1->llama-index-vector-stores-lancedb) (1.11.0)\n",
            "Requirement already satisfied: greenlet!=0.4.17 in /usr/local/lib/python3.10/dist-packages (from SQLAlchemy[asyncio]>=1.4.49->llama-index-core<0.11.0,>=0.10.1->llama-index-vector-stores-lancedb) (3.0.3)\n",
            "Requirement already satisfied: mypy-extensions>=0.3.0 in /usr/local/lib/python3.10/dist-packages (from typing-inspect>=0.8.0->llama-index-core<0.11.0,>=0.10.1->llama-index-vector-stores-lancedb) (1.0.0)\n",
            "Requirement already satisfied: marshmallow<4.0.0,>=3.18.0 in /usr/local/lib/python3.10/dist-packages (from dataclasses-json->llama-index-core<0.11.0,>=0.10.1->llama-index-vector-stores-lancedb) (3.21.1)\n",
            "Requirement already satisfied: packaging in /usr/local/lib/python3.10/dist-packages (from deprecation->lancedb<0.6.0,>=0.5.1->llama-index-vector-stores-lancedb) (24.0)\n",
            "Requirement already satisfied: python-dateutil>=2.8.2 in /usr/local/lib/python3.10/dist-packages (from pandas->llama-index-core<0.11.0,>=0.10.1->llama-index-vector-stores-lancedb) (2.8.2)\n",
            "Requirement already satisfied: pytz>=2020.1 in /usr/local/lib/python3.10/dist-packages (from pandas->llama-index-core<0.11.0,>=0.10.1->llama-index-vector-stores-lancedb) (2023.4)\n",
            "Requirement already satisfied: tzdata>=2022.1 in /usr/local/lib/python3.10/dist-packages (from pandas->llama-index-core<0.11.0,>=0.10.1->llama-index-vector-stores-lancedb) (2024.1)\n",
            "Requirement already satisfied: exceptiongroup in /usr/local/lib/python3.10/dist-packages (from anyio->httpx->llama-index-core<0.11.0,>=0.10.1->llama-index-vector-stores-lancedb) (1.2.0)\n",
            "Requirement already satisfied: six>=1.5 in /usr/local/lib/python3.10/dist-packages (from python-dateutil>=2.8.2->pandas->llama-index-core<0.11.0,>=0.10.1->llama-index-vector-stores-lancedb) (1.16.0)\n",
            "Requirement already satisfied: llama-index-multi-modal-llms-openai in /usr/local/lib/python3.10/dist-packages (0.1.5)\n",
            "Requirement already satisfied: llama-index-core<0.11.0,>=0.10.1 in /usr/local/lib/python3.10/dist-packages (from llama-index-multi-modal-llms-openai) (0.10.30)\n",
            "Requirement already satisfied: llama-index-llms-openai<0.2.0,>=0.1.1 in /usr/local/lib/python3.10/dist-packages (from llama-index-multi-modal-llms-openai) (0.1.16)\n",
            "Requirement already satisfied: PyYAML>=6.0.1 in /usr/local/lib/python3.10/dist-packages (from llama-index-core<0.11.0,>=0.10.1->llama-index-multi-modal-llms-openai) (6.0.1)\n",
            "Requirement already satisfied: SQLAlchemy[asyncio]>=1.4.49 in /usr/local/lib/python3.10/dist-packages (from llama-index-core<0.11.0,>=0.10.1->llama-index-multi-modal-llms-openai) (2.0.29)\n",
            "Requirement already satisfied: aiohttp<4.0.0,>=3.8.6 in /usr/local/lib/python3.10/dist-packages (from llama-index-core<0.11.0,>=0.10.1->llama-index-multi-modal-llms-openai) (3.9.5)\n",
            "Requirement already satisfied: dataclasses-json in /usr/local/lib/python3.10/dist-packages (from llama-index-core<0.11.0,>=0.10.1->llama-index-multi-modal-llms-openai) (0.6.4)\n",
            "Requirement already satisfied: deprecated>=1.2.9.3 in /usr/local/lib/python3.10/dist-packages (from llama-index-core<0.11.0,>=0.10.1->llama-index-multi-modal-llms-openai) (1.2.14)\n",
            "Requirement already satisfied: dirtyjson<2.0.0,>=1.0.8 in /usr/local/lib/python3.10/dist-packages (from llama-index-core<0.11.0,>=0.10.1->llama-index-multi-modal-llms-openai) (1.0.8)\n",
            "Requirement already satisfied: fsspec>=2023.5.0 in /usr/local/lib/python3.10/dist-packages (from llama-index-core<0.11.0,>=0.10.1->llama-index-multi-modal-llms-openai) (2023.6.0)\n",
            "Requirement already satisfied: httpx in /usr/local/lib/python3.10/dist-packages (from llama-index-core<0.11.0,>=0.10.1->llama-index-multi-modal-llms-openai) (0.27.0)\n",
            "Requirement already satisfied: llamaindex-py-client<0.2.0,>=0.1.18 in /usr/local/lib/python3.10/dist-packages (from llama-index-core<0.11.0,>=0.10.1->llama-index-multi-modal-llms-openai) (0.1.18)\n",
            "Requirement already satisfied: nest-asyncio<2.0.0,>=1.5.8 in /usr/local/lib/python3.10/dist-packages (from llama-index-core<0.11.0,>=0.10.1->llama-index-multi-modal-llms-openai) (1.6.0)\n",
            "Requirement already satisfied: networkx>=3.0 in /usr/local/lib/python3.10/dist-packages (from llama-index-core<0.11.0,>=0.10.1->llama-index-multi-modal-llms-openai) (3.3)\n",
            "Requirement already satisfied: nltk<4.0.0,>=3.8.1 in /usr/local/lib/python3.10/dist-packages (from llama-index-core<0.11.0,>=0.10.1->llama-index-multi-modal-llms-openai) (3.8.1)\n",
            "Requirement already satisfied: numpy in /usr/local/lib/python3.10/dist-packages (from llama-index-core<0.11.0,>=0.10.1->llama-index-multi-modal-llms-openai) (1.25.2)\n",
            "Requirement already satisfied: openai>=1.1.0 in /usr/local/lib/python3.10/dist-packages (from llama-index-core<0.11.0,>=0.10.1->llama-index-multi-modal-llms-openai) (1.23.2)\n",
            "Requirement already satisfied: pandas in /usr/local/lib/python3.10/dist-packages (from llama-index-core<0.11.0,>=0.10.1->llama-index-multi-modal-llms-openai) (2.0.3)\n",
            "Requirement already satisfied: pillow>=9.0.0 in /usr/local/lib/python3.10/dist-packages (from llama-index-core<0.11.0,>=0.10.1->llama-index-multi-modal-llms-openai) (10.3.0)\n",
            "Requirement already satisfied: requests>=2.31.0 in /usr/local/lib/python3.10/dist-packages (from llama-index-core<0.11.0,>=0.10.1->llama-index-multi-modal-llms-openai) (2.31.0)\n",
            "Requirement already satisfied: tenacity<9.0.0,>=8.2.0 in /usr/local/lib/python3.10/dist-packages (from llama-index-core<0.11.0,>=0.10.1->llama-index-multi-modal-llms-openai) (8.2.3)\n",
            "Requirement already satisfied: tiktoken>=0.3.3 in /usr/local/lib/python3.10/dist-packages (from llama-index-core<0.11.0,>=0.10.1->llama-index-multi-modal-llms-openai) (0.6.0)\n",
            "Requirement already satisfied: tqdm<5.0.0,>=4.66.1 in /usr/local/lib/python3.10/dist-packages (from llama-index-core<0.11.0,>=0.10.1->llama-index-multi-modal-llms-openai) (4.66.2)\n",
            "Requirement already satisfied: typing-extensions>=4.5.0 in /usr/local/lib/python3.10/dist-packages (from llama-index-core<0.11.0,>=0.10.1->llama-index-multi-modal-llms-openai) (4.11.0)\n",
            "Requirement already satisfied: typing-inspect>=0.8.0 in /usr/local/lib/python3.10/dist-packages (from llama-index-core<0.11.0,>=0.10.1->llama-index-multi-modal-llms-openai) (0.9.0)\n",
            "Requirement already satisfied: wrapt in /usr/local/lib/python3.10/dist-packages (from llama-index-core<0.11.0,>=0.10.1->llama-index-multi-modal-llms-openai) (1.14.1)\n",
            "Requirement already satisfied: aiosignal>=1.1.2 in /usr/local/lib/python3.10/dist-packages (from aiohttp<4.0.0,>=3.8.6->llama-index-core<0.11.0,>=0.10.1->llama-index-multi-modal-llms-openai) (1.3.1)\n",
            "Requirement already satisfied: attrs>=17.3.0 in /usr/local/lib/python3.10/dist-packages (from aiohttp<4.0.0,>=3.8.6->llama-index-core<0.11.0,>=0.10.1->llama-index-multi-modal-llms-openai) (23.2.0)\n",
            "Requirement already satisfied: frozenlist>=1.1.1 in /usr/local/lib/python3.10/dist-packages (from aiohttp<4.0.0,>=3.8.6->llama-index-core<0.11.0,>=0.10.1->llama-index-multi-modal-llms-openai) (1.4.1)\n",
            "Requirement already satisfied: multidict<7.0,>=4.5 in /usr/local/lib/python3.10/dist-packages (from aiohttp<4.0.0,>=3.8.6->llama-index-core<0.11.0,>=0.10.1->llama-index-multi-modal-llms-openai) (6.0.5)\n",
            "Requirement already satisfied: yarl<2.0,>=1.0 in /usr/local/lib/python3.10/dist-packages (from aiohttp<4.0.0,>=3.8.6->llama-index-core<0.11.0,>=0.10.1->llama-index-multi-modal-llms-openai) (1.9.4)\n",
            "Requirement already satisfied: async-timeout<5.0,>=4.0 in /usr/local/lib/python3.10/dist-packages (from aiohttp<4.0.0,>=3.8.6->llama-index-core<0.11.0,>=0.10.1->llama-index-multi-modal-llms-openai) (4.0.3)\n",
            "Requirement already satisfied: pydantic>=1.10 in /usr/local/lib/python3.10/dist-packages (from llamaindex-py-client<0.2.0,>=0.1.18->llama-index-core<0.11.0,>=0.10.1->llama-index-multi-modal-llms-openai) (2.7.0)\n",
            "Requirement already satisfied: anyio in /usr/local/lib/python3.10/dist-packages (from httpx->llama-index-core<0.11.0,>=0.10.1->llama-index-multi-modal-llms-openai) (3.7.1)\n",
            "Requirement already satisfied: certifi in /usr/local/lib/python3.10/dist-packages (from httpx->llama-index-core<0.11.0,>=0.10.1->llama-index-multi-modal-llms-openai) (2024.2.2)\n",
            "Requirement already satisfied: httpcore==1.* in /usr/local/lib/python3.10/dist-packages (from httpx->llama-index-core<0.11.0,>=0.10.1->llama-index-multi-modal-llms-openai) (1.0.5)\n",
            "Requirement already satisfied: idna in /usr/local/lib/python3.10/dist-packages (from httpx->llama-index-core<0.11.0,>=0.10.1->llama-index-multi-modal-llms-openai) (3.7)\n",
            "Requirement already satisfied: sniffio in /usr/local/lib/python3.10/dist-packages (from httpx->llama-index-core<0.11.0,>=0.10.1->llama-index-multi-modal-llms-openai) (1.3.1)\n",
            "Requirement already satisfied: h11<0.15,>=0.13 in /usr/local/lib/python3.10/dist-packages (from httpcore==1.*->httpx->llama-index-core<0.11.0,>=0.10.1->llama-index-multi-modal-llms-openai) (0.14.0)\n",
            "Requirement already satisfied: click in /usr/local/lib/python3.10/dist-packages (from nltk<4.0.0,>=3.8.1->llama-index-core<0.11.0,>=0.10.1->llama-index-multi-modal-llms-openai) (8.1.7)\n",
            "Requirement already satisfied: joblib in /usr/local/lib/python3.10/dist-packages (from nltk<4.0.0,>=3.8.1->llama-index-core<0.11.0,>=0.10.1->llama-index-multi-modal-llms-openai) (1.4.0)\n",
            "Requirement already satisfied: regex>=2021.8.3 in /usr/local/lib/python3.10/dist-packages (from nltk<4.0.0,>=3.8.1->llama-index-core<0.11.0,>=0.10.1->llama-index-multi-modal-llms-openai) (2023.12.25)\n",
            "Requirement already satisfied: distro<2,>=1.7.0 in /usr/lib/python3/dist-packages (from openai>=1.1.0->llama-index-core<0.11.0,>=0.10.1->llama-index-multi-modal-llms-openai) (1.7.0)\n",
            "Requirement already satisfied: charset-normalizer<4,>=2 in /usr/local/lib/python3.10/dist-packages (from requests>=2.31.0->llama-index-core<0.11.0,>=0.10.1->llama-index-multi-modal-llms-openai) (3.3.2)\n",
            "Requirement already satisfied: urllib3<3,>=1.21.1 in /usr/local/lib/python3.10/dist-packages (from requests>=2.31.0->llama-index-core<0.11.0,>=0.10.1->llama-index-multi-modal-llms-openai) (2.0.7)\n",
            "Requirement already satisfied: greenlet!=0.4.17 in /usr/local/lib/python3.10/dist-packages (from SQLAlchemy[asyncio]>=1.4.49->llama-index-core<0.11.0,>=0.10.1->llama-index-multi-modal-llms-openai) (3.0.3)\n",
            "Requirement already satisfied: mypy-extensions>=0.3.0 in /usr/local/lib/python3.10/dist-packages (from typing-inspect>=0.8.0->llama-index-core<0.11.0,>=0.10.1->llama-index-multi-modal-llms-openai) (1.0.0)\n",
            "Requirement already satisfied: marshmallow<4.0.0,>=3.18.0 in /usr/local/lib/python3.10/dist-packages (from dataclasses-json->llama-index-core<0.11.0,>=0.10.1->llama-index-multi-modal-llms-openai) (3.21.1)\n",
            "Requirement already satisfied: python-dateutil>=2.8.2 in /usr/local/lib/python3.10/dist-packages (from pandas->llama-index-core<0.11.0,>=0.10.1->llama-index-multi-modal-llms-openai) (2.8.2)\n",
            "Requirement already satisfied: pytz>=2020.1 in /usr/local/lib/python3.10/dist-packages (from pandas->llama-index-core<0.11.0,>=0.10.1->llama-index-multi-modal-llms-openai) (2023.4)\n",
            "Requirement already satisfied: tzdata>=2022.1 in /usr/local/lib/python3.10/dist-packages (from pandas->llama-index-core<0.11.0,>=0.10.1->llama-index-multi-modal-llms-openai) (2024.1)\n",
            "Requirement already satisfied: exceptiongroup in /usr/local/lib/python3.10/dist-packages (from anyio->httpx->llama-index-core<0.11.0,>=0.10.1->llama-index-multi-modal-llms-openai) (1.2.0)\n",
            "Requirement already satisfied: packaging>=17.0 in /usr/local/lib/python3.10/dist-packages (from marshmallow<4.0.0,>=3.18.0->dataclasses-json->llama-index-core<0.11.0,>=0.10.1->llama-index-multi-modal-llms-openai) (24.0)\n",
            "Requirement already satisfied: annotated-types>=0.4.0 in /usr/local/lib/python3.10/dist-packages (from pydantic>=1.10->llamaindex-py-client<0.2.0,>=0.1.18->llama-index-core<0.11.0,>=0.10.1->llama-index-multi-modal-llms-openai) (0.6.0)\n",
            "Requirement already satisfied: pydantic-core==2.18.1 in /usr/local/lib/python3.10/dist-packages (from pydantic>=1.10->llamaindex-py-client<0.2.0,>=0.1.18->llama-index-core<0.11.0,>=0.10.1->llama-index-multi-modal-llms-openai) (2.18.1)\n",
            "Requirement already satisfied: six>=1.5 in /usr/local/lib/python3.10/dist-packages (from python-dateutil>=2.8.2->pandas->llama-index-core<0.11.0,>=0.10.1->llama-index-multi-modal-llms-openai) (1.16.0)\n"
          ]
        }
      ],
      "source": [
        "%pip install llama-index-vector-stores-lancedb\n",
        "%pip install llama-index-multi-modal-llms-openai"
      ]
    },
    {
      "cell_type": "code",
      "source": [
        "%pip install llama-index-embeddings-clip\n",
        "!pip install speech_recognition\n",
        "!pip install SpeechRecognition\n",
        "!pip install pytube"
      ],
      "metadata": {
        "colab": {
          "base_uri": "https://localhost:8080/"
        },
        "id": "ytdy3sxQm-KY",
        "outputId": "a1ac553e-6d03-4b6c-f160-059a68fbde23"
      },
      "execution_count": 7,
      "outputs": [
        {
          "output_type": "stream",
          "name": "stdout",
          "text": [
            "Requirement already satisfied: llama-index-embeddings-clip in /usr/local/lib/python3.10/dist-packages (0.1.5)\n",
            "Requirement already satisfied: ftfy<7.0.0,>=6.1.3 in /usr/local/lib/python3.10/dist-packages (from llama-index-embeddings-clip) (6.2.0)\n",
            "Requirement already satisfied: llama-index-core<0.11.0,>=0.10.1 in /usr/local/lib/python3.10/dist-packages (from llama-index-embeddings-clip) (0.10.30)\n",
            "Requirement already satisfied: pillow<11.0.0,>=10.2.0 in /usr/local/lib/python3.10/dist-packages (from llama-index-embeddings-clip) (10.3.0)\n",
            "Requirement already satisfied: torch<3.0.0,>=2.1.2 in /usr/local/lib/python3.10/dist-packages (from llama-index-embeddings-clip) (2.2.1+cu121)\n",
            "Requirement already satisfied: torchvision<0.18.0,>=0.17.0 in /usr/local/lib/python3.10/dist-packages (from llama-index-embeddings-clip) (0.17.1+cu121)\n",
            "Requirement already satisfied: wcwidth<0.3.0,>=0.2.12 in /usr/local/lib/python3.10/dist-packages (from ftfy<7.0.0,>=6.1.3->llama-index-embeddings-clip) (0.2.13)\n",
            "Requirement already satisfied: PyYAML>=6.0.1 in /usr/local/lib/python3.10/dist-packages (from llama-index-core<0.11.0,>=0.10.1->llama-index-embeddings-clip) (6.0.1)\n",
            "Requirement already satisfied: SQLAlchemy[asyncio]>=1.4.49 in /usr/local/lib/python3.10/dist-packages (from llama-index-core<0.11.0,>=0.10.1->llama-index-embeddings-clip) (2.0.29)\n",
            "Requirement already satisfied: aiohttp<4.0.0,>=3.8.6 in /usr/local/lib/python3.10/dist-packages (from llama-index-core<0.11.0,>=0.10.1->llama-index-embeddings-clip) (3.9.5)\n",
            "Requirement already satisfied: dataclasses-json in /usr/local/lib/python3.10/dist-packages (from llama-index-core<0.11.0,>=0.10.1->llama-index-embeddings-clip) (0.6.4)\n",
            "Requirement already satisfied: deprecated>=1.2.9.3 in /usr/local/lib/python3.10/dist-packages (from llama-index-core<0.11.0,>=0.10.1->llama-index-embeddings-clip) (1.2.14)\n",
            "Requirement already satisfied: dirtyjson<2.0.0,>=1.0.8 in /usr/local/lib/python3.10/dist-packages (from llama-index-core<0.11.0,>=0.10.1->llama-index-embeddings-clip) (1.0.8)\n",
            "Requirement already satisfied: fsspec>=2023.5.0 in /usr/local/lib/python3.10/dist-packages (from llama-index-core<0.11.0,>=0.10.1->llama-index-embeddings-clip) (2023.6.0)\n",
            "Requirement already satisfied: httpx in /usr/local/lib/python3.10/dist-packages (from llama-index-core<0.11.0,>=0.10.1->llama-index-embeddings-clip) (0.27.0)\n",
            "Requirement already satisfied: llamaindex-py-client<0.2.0,>=0.1.18 in /usr/local/lib/python3.10/dist-packages (from llama-index-core<0.11.0,>=0.10.1->llama-index-embeddings-clip) (0.1.18)\n",
            "Requirement already satisfied: nest-asyncio<2.0.0,>=1.5.8 in /usr/local/lib/python3.10/dist-packages (from llama-index-core<0.11.0,>=0.10.1->llama-index-embeddings-clip) (1.6.0)\n",
            "Requirement already satisfied: networkx>=3.0 in /usr/local/lib/python3.10/dist-packages (from llama-index-core<0.11.0,>=0.10.1->llama-index-embeddings-clip) (3.3)\n",
            "Requirement already satisfied: nltk<4.0.0,>=3.8.1 in /usr/local/lib/python3.10/dist-packages (from llama-index-core<0.11.0,>=0.10.1->llama-index-embeddings-clip) (3.8.1)\n",
            "Requirement already satisfied: numpy in /usr/local/lib/python3.10/dist-packages (from llama-index-core<0.11.0,>=0.10.1->llama-index-embeddings-clip) (1.25.2)\n",
            "Requirement already satisfied: openai>=1.1.0 in /usr/local/lib/python3.10/dist-packages (from llama-index-core<0.11.0,>=0.10.1->llama-index-embeddings-clip) (1.23.2)\n",
            "Requirement already satisfied: pandas in /usr/local/lib/python3.10/dist-packages (from llama-index-core<0.11.0,>=0.10.1->llama-index-embeddings-clip) (2.0.3)\n",
            "Requirement already satisfied: requests>=2.31.0 in /usr/local/lib/python3.10/dist-packages (from llama-index-core<0.11.0,>=0.10.1->llama-index-embeddings-clip) (2.31.0)\n",
            "Requirement already satisfied: tenacity<9.0.0,>=8.2.0 in /usr/local/lib/python3.10/dist-packages (from llama-index-core<0.11.0,>=0.10.1->llama-index-embeddings-clip) (8.2.3)\n",
            "Requirement already satisfied: tiktoken>=0.3.3 in /usr/local/lib/python3.10/dist-packages (from llama-index-core<0.11.0,>=0.10.1->llama-index-embeddings-clip) (0.6.0)\n",
            "Requirement already satisfied: tqdm<5.0.0,>=4.66.1 in /usr/local/lib/python3.10/dist-packages (from llama-index-core<0.11.0,>=0.10.1->llama-index-embeddings-clip) (4.66.2)\n",
            "Requirement already satisfied: typing-extensions>=4.5.0 in /usr/local/lib/python3.10/dist-packages (from llama-index-core<0.11.0,>=0.10.1->llama-index-embeddings-clip) (4.11.0)\n",
            "Requirement already satisfied: typing-inspect>=0.8.0 in /usr/local/lib/python3.10/dist-packages (from llama-index-core<0.11.0,>=0.10.1->llama-index-embeddings-clip) (0.9.0)\n",
            "Requirement already satisfied: wrapt in /usr/local/lib/python3.10/dist-packages (from llama-index-core<0.11.0,>=0.10.1->llama-index-embeddings-clip) (1.14.1)\n",
            "Requirement already satisfied: filelock in /usr/local/lib/python3.10/dist-packages (from torch<3.0.0,>=2.1.2->llama-index-embeddings-clip) (3.13.4)\n",
            "Requirement already satisfied: sympy in /usr/local/lib/python3.10/dist-packages (from torch<3.0.0,>=2.1.2->llama-index-embeddings-clip) (1.12)\n",
            "Requirement already satisfied: jinja2 in /usr/local/lib/python3.10/dist-packages (from torch<3.0.0,>=2.1.2->llama-index-embeddings-clip) (3.1.3)\n",
            "Requirement already satisfied: nvidia-cuda-nvrtc-cu12==12.1.105 in /usr/local/lib/python3.10/dist-packages (from torch<3.0.0,>=2.1.2->llama-index-embeddings-clip) (12.1.105)\n",
            "Requirement already satisfied: nvidia-cuda-runtime-cu12==12.1.105 in /usr/local/lib/python3.10/dist-packages (from torch<3.0.0,>=2.1.2->llama-index-embeddings-clip) (12.1.105)\n",
            "Requirement already satisfied: nvidia-cuda-cupti-cu12==12.1.105 in /usr/local/lib/python3.10/dist-packages (from torch<3.0.0,>=2.1.2->llama-index-embeddings-clip) (12.1.105)\n",
            "Requirement already satisfied: nvidia-cudnn-cu12==8.9.2.26 in /usr/local/lib/python3.10/dist-packages (from torch<3.0.0,>=2.1.2->llama-index-embeddings-clip) (8.9.2.26)\n",
            "Requirement already satisfied: nvidia-cublas-cu12==12.1.3.1 in /usr/local/lib/python3.10/dist-packages (from torch<3.0.0,>=2.1.2->llama-index-embeddings-clip) (12.1.3.1)\n",
            "Requirement already satisfied: nvidia-cufft-cu12==11.0.2.54 in /usr/local/lib/python3.10/dist-packages (from torch<3.0.0,>=2.1.2->llama-index-embeddings-clip) (11.0.2.54)\n",
            "Requirement already satisfied: nvidia-curand-cu12==10.3.2.106 in /usr/local/lib/python3.10/dist-packages (from torch<3.0.0,>=2.1.2->llama-index-embeddings-clip) (10.3.2.106)\n",
            "Requirement already satisfied: nvidia-cusolver-cu12==11.4.5.107 in /usr/local/lib/python3.10/dist-packages (from torch<3.0.0,>=2.1.2->llama-index-embeddings-clip) (11.4.5.107)\n",
            "Requirement already satisfied: nvidia-cusparse-cu12==12.1.0.106 in /usr/local/lib/python3.10/dist-packages (from torch<3.0.0,>=2.1.2->llama-index-embeddings-clip) (12.1.0.106)\n",
            "Requirement already satisfied: nvidia-nccl-cu12==2.19.3 in /usr/local/lib/python3.10/dist-packages (from torch<3.0.0,>=2.1.2->llama-index-embeddings-clip) (2.19.3)\n",
            "Requirement already satisfied: nvidia-nvtx-cu12==12.1.105 in /usr/local/lib/python3.10/dist-packages (from torch<3.0.0,>=2.1.2->llama-index-embeddings-clip) (12.1.105)\n",
            "Requirement already satisfied: triton==2.2.0 in /usr/local/lib/python3.10/dist-packages (from torch<3.0.0,>=2.1.2->llama-index-embeddings-clip) (2.2.0)\n",
            "Requirement already satisfied: nvidia-nvjitlink-cu12 in /usr/local/lib/python3.10/dist-packages (from nvidia-cusolver-cu12==11.4.5.107->torch<3.0.0,>=2.1.2->llama-index-embeddings-clip) (12.4.127)\n",
            "Requirement already satisfied: aiosignal>=1.1.2 in /usr/local/lib/python3.10/dist-packages (from aiohttp<4.0.0,>=3.8.6->llama-index-core<0.11.0,>=0.10.1->llama-index-embeddings-clip) (1.3.1)\n",
            "Requirement already satisfied: attrs>=17.3.0 in /usr/local/lib/python3.10/dist-packages (from aiohttp<4.0.0,>=3.8.6->llama-index-core<0.11.0,>=0.10.1->llama-index-embeddings-clip) (23.2.0)\n",
            "Requirement already satisfied: frozenlist>=1.1.1 in /usr/local/lib/python3.10/dist-packages (from aiohttp<4.0.0,>=3.8.6->llama-index-core<0.11.0,>=0.10.1->llama-index-embeddings-clip) (1.4.1)\n",
            "Requirement already satisfied: multidict<7.0,>=4.5 in /usr/local/lib/python3.10/dist-packages (from aiohttp<4.0.0,>=3.8.6->llama-index-core<0.11.0,>=0.10.1->llama-index-embeddings-clip) (6.0.5)\n",
            "Requirement already satisfied: yarl<2.0,>=1.0 in /usr/local/lib/python3.10/dist-packages (from aiohttp<4.0.0,>=3.8.6->llama-index-core<0.11.0,>=0.10.1->llama-index-embeddings-clip) (1.9.4)\n",
            "Requirement already satisfied: async-timeout<5.0,>=4.0 in /usr/local/lib/python3.10/dist-packages (from aiohttp<4.0.0,>=3.8.6->llama-index-core<0.11.0,>=0.10.1->llama-index-embeddings-clip) (4.0.3)\n",
            "Requirement already satisfied: pydantic>=1.10 in /usr/local/lib/python3.10/dist-packages (from llamaindex-py-client<0.2.0,>=0.1.18->llama-index-core<0.11.0,>=0.10.1->llama-index-embeddings-clip) (2.7.0)\n",
            "Requirement already satisfied: anyio in /usr/local/lib/python3.10/dist-packages (from httpx->llama-index-core<0.11.0,>=0.10.1->llama-index-embeddings-clip) (3.7.1)\n",
            "Requirement already satisfied: certifi in /usr/local/lib/python3.10/dist-packages (from httpx->llama-index-core<0.11.0,>=0.10.1->llama-index-embeddings-clip) (2024.2.2)\n",
            "Requirement already satisfied: httpcore==1.* in /usr/local/lib/python3.10/dist-packages (from httpx->llama-index-core<0.11.0,>=0.10.1->llama-index-embeddings-clip) (1.0.5)\n",
            "Requirement already satisfied: idna in /usr/local/lib/python3.10/dist-packages (from httpx->llama-index-core<0.11.0,>=0.10.1->llama-index-embeddings-clip) (3.7)\n",
            "Requirement already satisfied: sniffio in /usr/local/lib/python3.10/dist-packages (from httpx->llama-index-core<0.11.0,>=0.10.1->llama-index-embeddings-clip) (1.3.1)\n",
            "Requirement already satisfied: h11<0.15,>=0.13 in /usr/local/lib/python3.10/dist-packages (from httpcore==1.*->httpx->llama-index-core<0.11.0,>=0.10.1->llama-index-embeddings-clip) (0.14.0)\n",
            "Requirement already satisfied: click in /usr/local/lib/python3.10/dist-packages (from nltk<4.0.0,>=3.8.1->llama-index-core<0.11.0,>=0.10.1->llama-index-embeddings-clip) (8.1.7)\n",
            "Requirement already satisfied: joblib in /usr/local/lib/python3.10/dist-packages (from nltk<4.0.0,>=3.8.1->llama-index-core<0.11.0,>=0.10.1->llama-index-embeddings-clip) (1.4.0)\n",
            "Requirement already satisfied: regex>=2021.8.3 in /usr/local/lib/python3.10/dist-packages (from nltk<4.0.0,>=3.8.1->llama-index-core<0.11.0,>=0.10.1->llama-index-embeddings-clip) (2023.12.25)\n",
            "Requirement already satisfied: distro<2,>=1.7.0 in /usr/lib/python3/dist-packages (from openai>=1.1.0->llama-index-core<0.11.0,>=0.10.1->llama-index-embeddings-clip) (1.7.0)\n",
            "Requirement already satisfied: charset-normalizer<4,>=2 in /usr/local/lib/python3.10/dist-packages (from requests>=2.31.0->llama-index-core<0.11.0,>=0.10.1->llama-index-embeddings-clip) (3.3.2)\n",
            "Requirement already satisfied: urllib3<3,>=1.21.1 in /usr/local/lib/python3.10/dist-packages (from requests>=2.31.0->llama-index-core<0.11.0,>=0.10.1->llama-index-embeddings-clip) (2.0.7)\n",
            "Requirement already satisfied: greenlet!=0.4.17 in /usr/local/lib/python3.10/dist-packages (from SQLAlchemy[asyncio]>=1.4.49->llama-index-core<0.11.0,>=0.10.1->llama-index-embeddings-clip) (3.0.3)\n",
            "Requirement already satisfied: mypy-extensions>=0.3.0 in /usr/local/lib/python3.10/dist-packages (from typing-inspect>=0.8.0->llama-index-core<0.11.0,>=0.10.1->llama-index-embeddings-clip) (1.0.0)\n",
            "Requirement already satisfied: marshmallow<4.0.0,>=3.18.0 in /usr/local/lib/python3.10/dist-packages (from dataclasses-json->llama-index-core<0.11.0,>=0.10.1->llama-index-embeddings-clip) (3.21.1)\n",
            "Requirement already satisfied: MarkupSafe>=2.0 in /usr/local/lib/python3.10/dist-packages (from jinja2->torch<3.0.0,>=2.1.2->llama-index-embeddings-clip) (2.1.5)\n",
            "Requirement already satisfied: python-dateutil>=2.8.2 in /usr/local/lib/python3.10/dist-packages (from pandas->llama-index-core<0.11.0,>=0.10.1->llama-index-embeddings-clip) (2.8.2)\n",
            "Requirement already satisfied: pytz>=2020.1 in /usr/local/lib/python3.10/dist-packages (from pandas->llama-index-core<0.11.0,>=0.10.1->llama-index-embeddings-clip) (2023.4)\n",
            "Requirement already satisfied: tzdata>=2022.1 in /usr/local/lib/python3.10/dist-packages (from pandas->llama-index-core<0.11.0,>=0.10.1->llama-index-embeddings-clip) (2024.1)\n",
            "Requirement already satisfied: mpmath>=0.19 in /usr/local/lib/python3.10/dist-packages (from sympy->torch<3.0.0,>=2.1.2->llama-index-embeddings-clip) (1.3.0)\n",
            "Requirement already satisfied: exceptiongroup in /usr/local/lib/python3.10/dist-packages (from anyio->httpx->llama-index-core<0.11.0,>=0.10.1->llama-index-embeddings-clip) (1.2.0)\n",
            "Requirement already satisfied: packaging>=17.0 in /usr/local/lib/python3.10/dist-packages (from marshmallow<4.0.0,>=3.18.0->dataclasses-json->llama-index-core<0.11.0,>=0.10.1->llama-index-embeddings-clip) (24.0)\n",
            "Requirement already satisfied: annotated-types>=0.4.0 in /usr/local/lib/python3.10/dist-packages (from pydantic>=1.10->llamaindex-py-client<0.2.0,>=0.1.18->llama-index-core<0.11.0,>=0.10.1->llama-index-embeddings-clip) (0.6.0)\n",
            "Requirement already satisfied: pydantic-core==2.18.1 in /usr/local/lib/python3.10/dist-packages (from pydantic>=1.10->llamaindex-py-client<0.2.0,>=0.1.18->llama-index-core<0.11.0,>=0.10.1->llama-index-embeddings-clip) (2.18.1)\n",
            "Requirement already satisfied: six>=1.5 in /usr/local/lib/python3.10/dist-packages (from python-dateutil>=2.8.2->pandas->llama-index-core<0.11.0,>=0.10.1->llama-index-embeddings-clip) (1.16.0)\n",
            "\u001b[31mERROR: Could not find a version that satisfies the requirement speech_recognition (from versions: none)\u001b[0m\u001b[31m\n",
            "\u001b[0m\u001b[31mERROR: No matching distribution found for speech_recognition\u001b[0m\u001b[31m\n",
            "\u001b[0mRequirement already satisfied: SpeechRecognition in /usr/local/lib/python3.10/dist-packages (3.10.3)\n",
            "Requirement already satisfied: requests>=2.26.0 in /usr/local/lib/python3.10/dist-packages (from SpeechRecognition) (2.31.0)\n",
            "Requirement already satisfied: typing-extensions in /usr/local/lib/python3.10/dist-packages (from SpeechRecognition) (4.11.0)\n",
            "Requirement already satisfied: charset-normalizer<4,>=2 in /usr/local/lib/python3.10/dist-packages (from requests>=2.26.0->SpeechRecognition) (3.3.2)\n",
            "Requirement already satisfied: idna<4,>=2.5 in /usr/local/lib/python3.10/dist-packages (from requests>=2.26.0->SpeechRecognition) (3.7)\n",
            "Requirement already satisfied: urllib3<3,>=1.21.1 in /usr/local/lib/python3.10/dist-packages (from requests>=2.26.0->SpeechRecognition) (2.0.7)\n",
            "Requirement already satisfied: certifi>=2017.4.17 in /usr/local/lib/python3.10/dist-packages (from requests>=2.26.0->SpeechRecognition) (2024.2.2)\n",
            "Collecting pytube\n",
            "  Downloading pytube-15.0.0-py3-none-any.whl (57 kB)\n",
            "\u001b[2K     \u001b[90m━━━━━━━━━━━━━━━━━━━━━━━━━━━━━━━━━━━━━━━━\u001b[0m \u001b[32m57.6/57.6 kB\u001b[0m \u001b[31m2.3 MB/s\u001b[0m eta \u001b[36m0:00:00\u001b[0m\n",
            "\u001b[?25hInstalling collected packages: pytube\n",
            "Successfully installed pytube-15.0.0\n"
          ]
        }
      ]
    },
    {
      "cell_type": "code",
      "source": [
        "%pip install llama_index ftfy regex tqdm\n",
        "%pip install -U openai-whisper\n",
        "%pip install git+https://github.com/openai/CLIP.git\n",
        "%pip install torch torchvision\n",
        "%pip install matplotlib scikit-image\n",
        "%pip install lancedb\n",
        "%pip install moviepy\n",
        "%pip install pytube\n",
        "%pip install pydub\n",
        "%pip install SpeechRecognition\n",
        "%pip install ffmpeg-python\n",
        "%pip install soundfile"
      ],
      "metadata": {
        "colab": {
          "base_uri": "https://localhost:8080/"
        },
        "id": "ahvwxPtwnGDT",
        "outputId": "9b01b88a-a3bd-4bca-cc69-bb80076ed8cc"
      },
      "execution_count": 1,
      "outputs": [
        {
          "output_type": "stream",
          "name": "stdout",
          "text": [
            "Requirement already satisfied: llama_index in /usr/local/lib/python3.10/dist-packages (0.10.30)\n",
            "Requirement already satisfied: ftfy in /usr/local/lib/python3.10/dist-packages (6.2.0)\n",
            "Requirement already satisfied: regex in /usr/local/lib/python3.10/dist-packages (2023.12.25)\n",
            "Requirement already satisfied: tqdm in /usr/local/lib/python3.10/dist-packages (4.66.2)\n",
            "Requirement already satisfied: llama-index-agent-openai<0.3.0,>=0.1.4 in /usr/local/lib/python3.10/dist-packages (from llama_index) (0.2.2)\n",
            "Requirement already satisfied: llama-index-cli<0.2.0,>=0.1.2 in /usr/local/lib/python3.10/dist-packages (from llama_index) (0.1.12)\n",
            "Requirement already satisfied: llama-index-core<0.11.0,>=0.10.30 in /usr/local/lib/python3.10/dist-packages (from llama_index) (0.10.30)\n",
            "Requirement already satisfied: llama-index-embeddings-openai<0.2.0,>=0.1.5 in /usr/local/lib/python3.10/dist-packages (from llama_index) (0.1.8)\n",
            "Requirement already satisfied: llama-index-indices-managed-llama-cloud<0.2.0,>=0.1.2 in /usr/local/lib/python3.10/dist-packages (from llama_index) (0.1.5)\n",
            "Requirement already satisfied: llama-index-legacy<0.10.0,>=0.9.48 in /usr/local/lib/python3.10/dist-packages (from llama_index) (0.9.48)\n",
            "Requirement already satisfied: llama-index-llms-openai<0.2.0,>=0.1.13 in /usr/local/lib/python3.10/dist-packages (from llama_index) (0.1.16)\n",
            "Requirement already satisfied: llama-index-multi-modal-llms-openai<0.2.0,>=0.1.3 in /usr/local/lib/python3.10/dist-packages (from llama_index) (0.1.5)\n",
            "Requirement already satisfied: llama-index-program-openai<0.2.0,>=0.1.3 in /usr/local/lib/python3.10/dist-packages (from llama_index) (0.1.5)\n",
            "Requirement already satisfied: llama-index-question-gen-openai<0.2.0,>=0.1.2 in /usr/local/lib/python3.10/dist-packages (from llama_index) (0.1.3)\n",
            "Requirement already satisfied: llama-index-readers-file<0.2.0,>=0.1.4 in /usr/local/lib/python3.10/dist-packages (from llama_index) (0.1.19)\n",
            "Requirement already satisfied: llama-index-readers-llama-parse<0.2.0,>=0.1.2 in /usr/local/lib/python3.10/dist-packages (from llama_index) (0.1.4)\n",
            "Requirement already satisfied: wcwidth<0.3.0,>=0.2.12 in /usr/local/lib/python3.10/dist-packages (from ftfy) (0.2.13)\n",
            "Requirement already satisfied: openai>=1.14.0 in /usr/local/lib/python3.10/dist-packages (from llama-index-agent-openai<0.3.0,>=0.1.4->llama_index) (1.23.2)\n",
            "Requirement already satisfied: PyYAML>=6.0.1 in /usr/local/lib/python3.10/dist-packages (from llama-index-core<0.11.0,>=0.10.30->llama_index) (6.0.1)\n",
            "Requirement already satisfied: SQLAlchemy[asyncio]>=1.4.49 in /usr/local/lib/python3.10/dist-packages (from llama-index-core<0.11.0,>=0.10.30->llama_index) (2.0.29)\n",
            "Requirement already satisfied: aiohttp<4.0.0,>=3.8.6 in /usr/local/lib/python3.10/dist-packages (from llama-index-core<0.11.0,>=0.10.30->llama_index) (3.9.5)\n",
            "Requirement already satisfied: dataclasses-json in /usr/local/lib/python3.10/dist-packages (from llama-index-core<0.11.0,>=0.10.30->llama_index) (0.6.4)\n",
            "Requirement already satisfied: deprecated>=1.2.9.3 in /usr/local/lib/python3.10/dist-packages (from llama-index-core<0.11.0,>=0.10.30->llama_index) (1.2.14)\n",
            "Requirement already satisfied: dirtyjson<2.0.0,>=1.0.8 in /usr/local/lib/python3.10/dist-packages (from llama-index-core<0.11.0,>=0.10.30->llama_index) (1.0.8)\n",
            "Requirement already satisfied: fsspec>=2023.5.0 in /usr/local/lib/python3.10/dist-packages (from llama-index-core<0.11.0,>=0.10.30->llama_index) (2023.6.0)\n",
            "Requirement already satisfied: httpx in /usr/local/lib/python3.10/dist-packages (from llama-index-core<0.11.0,>=0.10.30->llama_index) (0.27.0)\n",
            "Requirement already satisfied: llamaindex-py-client<0.2.0,>=0.1.18 in /usr/local/lib/python3.10/dist-packages (from llama-index-core<0.11.0,>=0.10.30->llama_index) (0.1.18)\n",
            "Requirement already satisfied: nest-asyncio<2.0.0,>=1.5.8 in /usr/local/lib/python3.10/dist-packages (from llama-index-core<0.11.0,>=0.10.30->llama_index) (1.6.0)\n",
            "Requirement already satisfied: networkx>=3.0 in /usr/local/lib/python3.10/dist-packages (from llama-index-core<0.11.0,>=0.10.30->llama_index) (3.3)\n",
            "Requirement already satisfied: nltk<4.0.0,>=3.8.1 in /usr/local/lib/python3.10/dist-packages (from llama-index-core<0.11.0,>=0.10.30->llama_index) (3.8.1)\n",
            "Requirement already satisfied: numpy in /usr/local/lib/python3.10/dist-packages (from llama-index-core<0.11.0,>=0.10.30->llama_index) (1.25.2)\n",
            "Requirement already satisfied: pandas in /usr/local/lib/python3.10/dist-packages (from llama-index-core<0.11.0,>=0.10.30->llama_index) (2.0.3)\n",
            "Requirement already satisfied: pillow>=9.0.0 in /usr/local/lib/python3.10/dist-packages (from llama-index-core<0.11.0,>=0.10.30->llama_index) (10.0.1)\n",
            "Requirement already satisfied: requests>=2.31.0 in /usr/local/lib/python3.10/dist-packages (from llama-index-core<0.11.0,>=0.10.30->llama_index) (2.31.0)\n",
            "Requirement already satisfied: tenacity<9.0.0,>=8.2.0 in /usr/local/lib/python3.10/dist-packages (from llama-index-core<0.11.0,>=0.10.30->llama_index) (8.2.3)\n",
            "Requirement already satisfied: tiktoken>=0.3.3 in /usr/local/lib/python3.10/dist-packages (from llama-index-core<0.11.0,>=0.10.30->llama_index) (0.6.0)\n",
            "Requirement already satisfied: typing-extensions>=4.5.0 in /usr/local/lib/python3.10/dist-packages (from llama-index-core<0.11.0,>=0.10.30->llama_index) (4.11.0)\n",
            "Requirement already satisfied: typing-inspect>=0.8.0 in /usr/local/lib/python3.10/dist-packages (from llama-index-core<0.11.0,>=0.10.30->llama_index) (0.9.0)\n",
            "Requirement already satisfied: wrapt in /usr/local/lib/python3.10/dist-packages (from llama-index-core<0.11.0,>=0.10.30->llama_index) (1.14.1)\n",
            "Requirement already satisfied: beautifulsoup4<5.0.0,>=4.12.3 in /usr/local/lib/python3.10/dist-packages (from llama-index-readers-file<0.2.0,>=0.1.4->llama_index) (4.12.3)\n",
            "Requirement already satisfied: pypdf<5.0.0,>=4.0.1 in /usr/local/lib/python3.10/dist-packages (from llama-index-readers-file<0.2.0,>=0.1.4->llama_index) (4.2.0)\n",
            "Requirement already satisfied: striprtf<0.0.27,>=0.0.26 in /usr/local/lib/python3.10/dist-packages (from llama-index-readers-file<0.2.0,>=0.1.4->llama_index) (0.0.26)\n",
            "Requirement already satisfied: llama-parse<0.5.0,>=0.4.0 in /usr/local/lib/python3.10/dist-packages (from llama-index-readers-llama-parse<0.2.0,>=0.1.2->llama_index) (0.4.1)\n",
            "Requirement already satisfied: aiosignal>=1.1.2 in /usr/local/lib/python3.10/dist-packages (from aiohttp<4.0.0,>=3.8.6->llama-index-core<0.11.0,>=0.10.30->llama_index) (1.3.1)\n",
            "Requirement already satisfied: attrs>=17.3.0 in /usr/local/lib/python3.10/dist-packages (from aiohttp<4.0.0,>=3.8.6->llama-index-core<0.11.0,>=0.10.30->llama_index) (23.2.0)\n",
            "Requirement already satisfied: frozenlist>=1.1.1 in /usr/local/lib/python3.10/dist-packages (from aiohttp<4.0.0,>=3.8.6->llama-index-core<0.11.0,>=0.10.30->llama_index) (1.4.1)\n",
            "Requirement already satisfied: multidict<7.0,>=4.5 in /usr/local/lib/python3.10/dist-packages (from aiohttp<4.0.0,>=3.8.6->llama-index-core<0.11.0,>=0.10.30->llama_index) (6.0.5)\n",
            "Requirement already satisfied: yarl<2.0,>=1.0 in /usr/local/lib/python3.10/dist-packages (from aiohttp<4.0.0,>=3.8.6->llama-index-core<0.11.0,>=0.10.30->llama_index) (1.9.4)\n",
            "Requirement already satisfied: async-timeout<5.0,>=4.0 in /usr/local/lib/python3.10/dist-packages (from aiohttp<4.0.0,>=3.8.6->llama-index-core<0.11.0,>=0.10.30->llama_index) (4.0.3)\n",
            "Requirement already satisfied: soupsieve>1.2 in /usr/local/lib/python3.10/dist-packages (from beautifulsoup4<5.0.0,>=4.12.3->llama-index-readers-file<0.2.0,>=0.1.4->llama_index) (2.5)\n",
            "Requirement already satisfied: pydantic>=1.10 in /usr/local/lib/python3.10/dist-packages (from llamaindex-py-client<0.2.0,>=0.1.18->llama-index-core<0.11.0,>=0.10.30->llama_index) (2.7.0)\n",
            "Requirement already satisfied: anyio in /usr/local/lib/python3.10/dist-packages (from httpx->llama-index-core<0.11.0,>=0.10.30->llama_index) (3.7.1)\n",
            "Requirement already satisfied: certifi in /usr/local/lib/python3.10/dist-packages (from httpx->llama-index-core<0.11.0,>=0.10.30->llama_index) (2024.2.2)\n",
            "Requirement already satisfied: httpcore==1.* in /usr/local/lib/python3.10/dist-packages (from httpx->llama-index-core<0.11.0,>=0.10.30->llama_index) (1.0.5)\n",
            "Requirement already satisfied: idna in /usr/local/lib/python3.10/dist-packages (from httpx->llama-index-core<0.11.0,>=0.10.30->llama_index) (3.7)\n",
            "Requirement already satisfied: sniffio in /usr/local/lib/python3.10/dist-packages (from httpx->llama-index-core<0.11.0,>=0.10.30->llama_index) (1.3.1)\n",
            "Requirement already satisfied: h11<0.15,>=0.13 in /usr/local/lib/python3.10/dist-packages (from httpcore==1.*->httpx->llama-index-core<0.11.0,>=0.10.30->llama_index) (0.14.0)\n",
            "Requirement already satisfied: click in /usr/local/lib/python3.10/dist-packages (from nltk<4.0.0,>=3.8.1->llama-index-core<0.11.0,>=0.10.30->llama_index) (8.1.7)\n",
            "Requirement already satisfied: joblib in /usr/local/lib/python3.10/dist-packages (from nltk<4.0.0,>=3.8.1->llama-index-core<0.11.0,>=0.10.30->llama_index) (1.4.0)\n",
            "Requirement already satisfied: distro<2,>=1.7.0 in /usr/lib/python3/dist-packages (from openai>=1.14.0->llama-index-agent-openai<0.3.0,>=0.1.4->llama_index) (1.7.0)\n",
            "Requirement already satisfied: charset-normalizer<4,>=2 in /usr/local/lib/python3.10/dist-packages (from requests>=2.31.0->llama-index-core<0.11.0,>=0.10.30->llama_index) (3.3.2)\n",
            "Requirement already satisfied: urllib3<3,>=1.21.1 in /usr/local/lib/python3.10/dist-packages (from requests>=2.31.0->llama-index-core<0.11.0,>=0.10.30->llama_index) (2.0.7)\n",
            "Requirement already satisfied: greenlet!=0.4.17 in /usr/local/lib/python3.10/dist-packages (from SQLAlchemy[asyncio]>=1.4.49->llama-index-core<0.11.0,>=0.10.30->llama_index) (3.0.3)\n",
            "Requirement already satisfied: mypy-extensions>=0.3.0 in /usr/local/lib/python3.10/dist-packages (from typing-inspect>=0.8.0->llama-index-core<0.11.0,>=0.10.30->llama_index) (1.0.0)\n",
            "Requirement already satisfied: marshmallow<4.0.0,>=3.18.0 in /usr/local/lib/python3.10/dist-packages (from dataclasses-json->llama-index-core<0.11.0,>=0.10.30->llama_index) (3.21.1)\n",
            "Requirement already satisfied: python-dateutil>=2.8.2 in /usr/local/lib/python3.10/dist-packages (from pandas->llama-index-core<0.11.0,>=0.10.30->llama_index) (2.8.2)\n",
            "Requirement already satisfied: pytz>=2020.1 in /usr/local/lib/python3.10/dist-packages (from pandas->llama-index-core<0.11.0,>=0.10.30->llama_index) (2023.4)\n",
            "Requirement already satisfied: tzdata>=2022.1 in /usr/local/lib/python3.10/dist-packages (from pandas->llama-index-core<0.11.0,>=0.10.30->llama_index) (2024.1)\n",
            "Requirement already satisfied: exceptiongroup in /usr/local/lib/python3.10/dist-packages (from anyio->httpx->llama-index-core<0.11.0,>=0.10.30->llama_index) (1.2.0)\n",
            "Requirement already satisfied: packaging>=17.0 in /usr/local/lib/python3.10/dist-packages (from marshmallow<4.0.0,>=3.18.0->dataclasses-json->llama-index-core<0.11.0,>=0.10.30->llama_index) (24.0)\n",
            "Requirement already satisfied: annotated-types>=0.4.0 in /usr/local/lib/python3.10/dist-packages (from pydantic>=1.10->llamaindex-py-client<0.2.0,>=0.1.18->llama-index-core<0.11.0,>=0.10.30->llama_index) (0.6.0)\n",
            "Requirement already satisfied: pydantic-core==2.18.1 in /usr/local/lib/python3.10/dist-packages (from pydantic>=1.10->llamaindex-py-client<0.2.0,>=0.1.18->llama-index-core<0.11.0,>=0.10.30->llama_index) (2.18.1)\n",
            "Requirement already satisfied: six>=1.5 in /usr/local/lib/python3.10/dist-packages (from python-dateutil>=2.8.2->pandas->llama-index-core<0.11.0,>=0.10.30->llama_index) (1.16.0)\n",
            "Requirement already satisfied: openai-whisper in /usr/local/lib/python3.10/dist-packages (20231117)\n",
            "Requirement already satisfied: triton<3,>=2.0.0 in /usr/local/lib/python3.10/dist-packages (from openai-whisper) (2.2.0)\n",
            "Requirement already satisfied: numba in /usr/local/lib/python3.10/dist-packages (from openai-whisper) (0.58.1)\n",
            "Requirement already satisfied: numpy in /usr/local/lib/python3.10/dist-packages (from openai-whisper) (1.25.2)\n",
            "Requirement already satisfied: torch in /usr/local/lib/python3.10/dist-packages (from openai-whisper) (2.2.1+cu121)\n",
            "Requirement already satisfied: tqdm in /usr/local/lib/python3.10/dist-packages (from openai-whisper) (4.66.2)\n",
            "Requirement already satisfied: more-itertools in /usr/local/lib/python3.10/dist-packages (from openai-whisper) (10.1.0)\n",
            "Requirement already satisfied: tiktoken in /usr/local/lib/python3.10/dist-packages (from openai-whisper) (0.6.0)\n",
            "Requirement already satisfied: filelock in /usr/local/lib/python3.10/dist-packages (from triton<3,>=2.0.0->openai-whisper) (3.13.4)\n",
            "Requirement already satisfied: llvmlite<0.42,>=0.41.0dev0 in /usr/local/lib/python3.10/dist-packages (from numba->openai-whisper) (0.41.1)\n",
            "Requirement already satisfied: regex>=2022.1.18 in /usr/local/lib/python3.10/dist-packages (from tiktoken->openai-whisper) (2023.12.25)\n",
            "Requirement already satisfied: requests>=2.26.0 in /usr/local/lib/python3.10/dist-packages (from tiktoken->openai-whisper) (2.31.0)\n",
            "Requirement already satisfied: typing-extensions>=4.8.0 in /usr/local/lib/python3.10/dist-packages (from torch->openai-whisper) (4.11.0)\n",
            "Requirement already satisfied: sympy in /usr/local/lib/python3.10/dist-packages (from torch->openai-whisper) (1.12)\n",
            "Requirement already satisfied: networkx in /usr/local/lib/python3.10/dist-packages (from torch->openai-whisper) (3.3)\n",
            "Requirement already satisfied: jinja2 in /usr/local/lib/python3.10/dist-packages (from torch->openai-whisper) (3.1.3)\n",
            "Requirement already satisfied: fsspec in /usr/local/lib/python3.10/dist-packages (from torch->openai-whisper) (2023.6.0)\n",
            "Requirement already satisfied: nvidia-cuda-nvrtc-cu12==12.1.105 in /usr/local/lib/python3.10/dist-packages (from torch->openai-whisper) (12.1.105)\n",
            "Requirement already satisfied: nvidia-cuda-runtime-cu12==12.1.105 in /usr/local/lib/python3.10/dist-packages (from torch->openai-whisper) (12.1.105)\n",
            "Requirement already satisfied: nvidia-cuda-cupti-cu12==12.1.105 in /usr/local/lib/python3.10/dist-packages (from torch->openai-whisper) (12.1.105)\n",
            "Requirement already satisfied: nvidia-cudnn-cu12==8.9.2.26 in /usr/local/lib/python3.10/dist-packages (from torch->openai-whisper) (8.9.2.26)\n",
            "Requirement already satisfied: nvidia-cublas-cu12==12.1.3.1 in /usr/local/lib/python3.10/dist-packages (from torch->openai-whisper) (12.1.3.1)\n",
            "Requirement already satisfied: nvidia-cufft-cu12==11.0.2.54 in /usr/local/lib/python3.10/dist-packages (from torch->openai-whisper) (11.0.2.54)\n",
            "Requirement already satisfied: nvidia-curand-cu12==10.3.2.106 in /usr/local/lib/python3.10/dist-packages (from torch->openai-whisper) (10.3.2.106)\n",
            "Requirement already satisfied: nvidia-cusolver-cu12==11.4.5.107 in /usr/local/lib/python3.10/dist-packages (from torch->openai-whisper) (11.4.5.107)\n",
            "Requirement already satisfied: nvidia-cusparse-cu12==12.1.0.106 in /usr/local/lib/python3.10/dist-packages (from torch->openai-whisper) (12.1.0.106)\n",
            "Requirement already satisfied: nvidia-nccl-cu12==2.19.3 in /usr/local/lib/python3.10/dist-packages (from torch->openai-whisper) (2.19.3)\n",
            "Requirement already satisfied: nvidia-nvtx-cu12==12.1.105 in /usr/local/lib/python3.10/dist-packages (from torch->openai-whisper) (12.1.105)\n",
            "Requirement already satisfied: nvidia-nvjitlink-cu12 in /usr/local/lib/python3.10/dist-packages (from nvidia-cusolver-cu12==11.4.5.107->torch->openai-whisper) (12.4.127)\n",
            "Requirement already satisfied: charset-normalizer<4,>=2 in /usr/local/lib/python3.10/dist-packages (from requests>=2.26.0->tiktoken->openai-whisper) (3.3.2)\n",
            "Requirement already satisfied: idna<4,>=2.5 in /usr/local/lib/python3.10/dist-packages (from requests>=2.26.0->tiktoken->openai-whisper) (3.7)\n",
            "Requirement already satisfied: urllib3<3,>=1.21.1 in /usr/local/lib/python3.10/dist-packages (from requests>=2.26.0->tiktoken->openai-whisper) (2.0.7)\n",
            "Requirement already satisfied: certifi>=2017.4.17 in /usr/local/lib/python3.10/dist-packages (from requests>=2.26.0->tiktoken->openai-whisper) (2024.2.2)\n",
            "Requirement already satisfied: MarkupSafe>=2.0 in /usr/local/lib/python3.10/dist-packages (from jinja2->torch->openai-whisper) (2.1.5)\n",
            "Requirement already satisfied: mpmath>=0.19 in /usr/local/lib/python3.10/dist-packages (from sympy->torch->openai-whisper) (1.3.0)\n",
            "Collecting git+https://github.com/openai/CLIP.git\n",
            "  Cloning https://github.com/openai/CLIP.git to /tmp/pip-req-build-p3gw0k59\n",
            "  Running command git clone --filter=blob:none --quiet https://github.com/openai/CLIP.git /tmp/pip-req-build-p3gw0k59\n",
            "  Resolved https://github.com/openai/CLIP.git to commit a1d071733d7111c9c014f024669f959182114e33\n",
            "  Preparing metadata (setup.py) ... \u001b[?25l\u001b[?25hdone\n",
            "Requirement already satisfied: ftfy in /usr/local/lib/python3.10/dist-packages (from clip==1.0) (6.2.0)\n",
            "Requirement already satisfied: regex in /usr/local/lib/python3.10/dist-packages (from clip==1.0) (2023.12.25)\n",
            "Requirement already satisfied: tqdm in /usr/local/lib/python3.10/dist-packages (from clip==1.0) (4.66.2)\n",
            "Requirement already satisfied: torch in /usr/local/lib/python3.10/dist-packages (from clip==1.0) (2.2.1+cu121)\n",
            "Requirement already satisfied: torchvision in /usr/local/lib/python3.10/dist-packages (from clip==1.0) (0.17.1+cu121)\n",
            "Requirement already satisfied: wcwidth<0.3.0,>=0.2.12 in /usr/local/lib/python3.10/dist-packages (from ftfy->clip==1.0) (0.2.13)\n",
            "Requirement already satisfied: filelock in /usr/local/lib/python3.10/dist-packages (from torch->clip==1.0) (3.13.4)\n",
            "Requirement already satisfied: typing-extensions>=4.8.0 in /usr/local/lib/python3.10/dist-packages (from torch->clip==1.0) (4.11.0)\n",
            "Requirement already satisfied: sympy in /usr/local/lib/python3.10/dist-packages (from torch->clip==1.0) (1.12)\n",
            "Requirement already satisfied: networkx in /usr/local/lib/python3.10/dist-packages (from torch->clip==1.0) (3.3)\n",
            "Requirement already satisfied: jinja2 in /usr/local/lib/python3.10/dist-packages (from torch->clip==1.0) (3.1.3)\n",
            "Requirement already satisfied: fsspec in /usr/local/lib/python3.10/dist-packages (from torch->clip==1.0) (2023.6.0)\n",
            "Requirement already satisfied: nvidia-cuda-nvrtc-cu12==12.1.105 in /usr/local/lib/python3.10/dist-packages (from torch->clip==1.0) (12.1.105)\n",
            "Requirement already satisfied: nvidia-cuda-runtime-cu12==12.1.105 in /usr/local/lib/python3.10/dist-packages (from torch->clip==1.0) (12.1.105)\n",
            "Requirement already satisfied: nvidia-cuda-cupti-cu12==12.1.105 in /usr/local/lib/python3.10/dist-packages (from torch->clip==1.0) (12.1.105)\n",
            "Requirement already satisfied: nvidia-cudnn-cu12==8.9.2.26 in /usr/local/lib/python3.10/dist-packages (from torch->clip==1.0) (8.9.2.26)\n",
            "Requirement already satisfied: nvidia-cublas-cu12==12.1.3.1 in /usr/local/lib/python3.10/dist-packages (from torch->clip==1.0) (12.1.3.1)\n",
            "Requirement already satisfied: nvidia-cufft-cu12==11.0.2.54 in /usr/local/lib/python3.10/dist-packages (from torch->clip==1.0) (11.0.2.54)\n",
            "Requirement already satisfied: nvidia-curand-cu12==10.3.2.106 in /usr/local/lib/python3.10/dist-packages (from torch->clip==1.0) (10.3.2.106)\n",
            "Requirement already satisfied: nvidia-cusolver-cu12==11.4.5.107 in /usr/local/lib/python3.10/dist-packages (from torch->clip==1.0) (11.4.5.107)\n",
            "Requirement already satisfied: nvidia-cusparse-cu12==12.1.0.106 in /usr/local/lib/python3.10/dist-packages (from torch->clip==1.0) (12.1.0.106)\n",
            "Requirement already satisfied: nvidia-nccl-cu12==2.19.3 in /usr/local/lib/python3.10/dist-packages (from torch->clip==1.0) (2.19.3)\n",
            "Requirement already satisfied: nvidia-nvtx-cu12==12.1.105 in /usr/local/lib/python3.10/dist-packages (from torch->clip==1.0) (12.1.105)\n",
            "Requirement already satisfied: triton==2.2.0 in /usr/local/lib/python3.10/dist-packages (from torch->clip==1.0) (2.2.0)\n",
            "Requirement already satisfied: nvidia-nvjitlink-cu12 in /usr/local/lib/python3.10/dist-packages (from nvidia-cusolver-cu12==11.4.5.107->torch->clip==1.0) (12.4.127)\n",
            "Requirement already satisfied: numpy in /usr/local/lib/python3.10/dist-packages (from torchvision->clip==1.0) (1.25.2)\n",
            "Requirement already satisfied: pillow!=8.3.*,>=5.3.0 in /usr/local/lib/python3.10/dist-packages (from torchvision->clip==1.0) (10.0.1)\n",
            "Requirement already satisfied: MarkupSafe>=2.0 in /usr/local/lib/python3.10/dist-packages (from jinja2->torch->clip==1.0) (2.1.5)\n",
            "Requirement already satisfied: mpmath>=0.19 in /usr/local/lib/python3.10/dist-packages (from sympy->torch->clip==1.0) (1.3.0)\n",
            "Requirement already satisfied: torch in /usr/local/lib/python3.10/dist-packages (2.2.1+cu121)\n",
            "Requirement already satisfied: torchvision in /usr/local/lib/python3.10/dist-packages (0.17.1+cu121)\n",
            "Requirement already satisfied: filelock in /usr/local/lib/python3.10/dist-packages (from torch) (3.13.4)\n",
            "Requirement already satisfied: typing-extensions>=4.8.0 in /usr/local/lib/python3.10/dist-packages (from torch) (4.11.0)\n",
            "Requirement already satisfied: sympy in /usr/local/lib/python3.10/dist-packages (from torch) (1.12)\n",
            "Requirement already satisfied: networkx in /usr/local/lib/python3.10/dist-packages (from torch) (3.3)\n",
            "Requirement already satisfied: jinja2 in /usr/local/lib/python3.10/dist-packages (from torch) (3.1.3)\n",
            "Requirement already satisfied: fsspec in /usr/local/lib/python3.10/dist-packages (from torch) (2023.6.0)\n",
            "Requirement already satisfied: nvidia-cuda-nvrtc-cu12==12.1.105 in /usr/local/lib/python3.10/dist-packages (from torch) (12.1.105)\n",
            "Requirement already satisfied: nvidia-cuda-runtime-cu12==12.1.105 in /usr/local/lib/python3.10/dist-packages (from torch) (12.1.105)\n",
            "Requirement already satisfied: nvidia-cuda-cupti-cu12==12.1.105 in /usr/local/lib/python3.10/dist-packages (from torch) (12.1.105)\n",
            "Requirement already satisfied: nvidia-cudnn-cu12==8.9.2.26 in /usr/local/lib/python3.10/dist-packages (from torch) (8.9.2.26)\n",
            "Requirement already satisfied: nvidia-cublas-cu12==12.1.3.1 in /usr/local/lib/python3.10/dist-packages (from torch) (12.1.3.1)\n",
            "Requirement already satisfied: nvidia-cufft-cu12==11.0.2.54 in /usr/local/lib/python3.10/dist-packages (from torch) (11.0.2.54)\n",
            "Requirement already satisfied: nvidia-curand-cu12==10.3.2.106 in /usr/local/lib/python3.10/dist-packages (from torch) (10.3.2.106)\n",
            "Requirement already satisfied: nvidia-cusolver-cu12==11.4.5.107 in /usr/local/lib/python3.10/dist-packages (from torch) (11.4.5.107)\n",
            "Requirement already satisfied: nvidia-cusparse-cu12==12.1.0.106 in /usr/local/lib/python3.10/dist-packages (from torch) (12.1.0.106)\n",
            "Requirement already satisfied: nvidia-nccl-cu12==2.19.3 in /usr/local/lib/python3.10/dist-packages (from torch) (2.19.3)\n",
            "Requirement already satisfied: nvidia-nvtx-cu12==12.1.105 in /usr/local/lib/python3.10/dist-packages (from torch) (12.1.105)\n",
            "Requirement already satisfied: triton==2.2.0 in /usr/local/lib/python3.10/dist-packages (from torch) (2.2.0)\n",
            "Requirement already satisfied: nvidia-nvjitlink-cu12 in /usr/local/lib/python3.10/dist-packages (from nvidia-cusolver-cu12==11.4.5.107->torch) (12.4.127)\n",
            "Requirement already satisfied: numpy in /usr/local/lib/python3.10/dist-packages (from torchvision) (1.25.2)\n",
            "Requirement already satisfied: pillow!=8.3.*,>=5.3.0 in /usr/local/lib/python3.10/dist-packages (from torchvision) (10.0.1)\n",
            "Requirement already satisfied: MarkupSafe>=2.0 in /usr/local/lib/python3.10/dist-packages (from jinja2->torch) (2.1.5)\n",
            "Requirement already satisfied: mpmath>=0.19 in /usr/local/lib/python3.10/dist-packages (from sympy->torch) (1.3.0)\n",
            "Requirement already satisfied: matplotlib in /usr/local/lib/python3.10/dist-packages (3.7.1)\n",
            "Requirement already satisfied: scikit-image in /usr/local/lib/python3.10/dist-packages (0.19.3)\n",
            "Requirement already satisfied: contourpy>=1.0.1 in /usr/local/lib/python3.10/dist-packages (from matplotlib) (1.2.1)\n",
            "Requirement already satisfied: cycler>=0.10 in /usr/local/lib/python3.10/dist-packages (from matplotlib) (0.12.1)\n",
            "Requirement already satisfied: fonttools>=4.22.0 in /usr/local/lib/python3.10/dist-packages (from matplotlib) (4.51.0)\n",
            "Requirement already satisfied: kiwisolver>=1.0.1 in /usr/local/lib/python3.10/dist-packages (from matplotlib) (1.4.5)\n",
            "Requirement already satisfied: numpy>=1.20 in /usr/local/lib/python3.10/dist-packages (from matplotlib) (1.25.2)\n",
            "Requirement already satisfied: packaging>=20.0 in /usr/local/lib/python3.10/dist-packages (from matplotlib) (24.0)\n",
            "Requirement already satisfied: pillow>=6.2.0 in /usr/local/lib/python3.10/dist-packages (from matplotlib) (10.0.1)\n",
            "Requirement already satisfied: pyparsing>=2.3.1 in /usr/local/lib/python3.10/dist-packages (from matplotlib) (3.1.2)\n",
            "Requirement already satisfied: python-dateutil>=2.7 in /usr/local/lib/python3.10/dist-packages (from matplotlib) (2.8.2)\n",
            "Requirement already satisfied: scipy>=1.4.1 in /usr/local/lib/python3.10/dist-packages (from scikit-image) (1.11.4)\n",
            "Requirement already satisfied: networkx>=2.2 in /usr/local/lib/python3.10/dist-packages (from scikit-image) (3.3)\n",
            "Requirement already satisfied: imageio>=2.4.1 in /usr/local/lib/python3.10/dist-packages (from scikit-image) (2.31.6)\n",
            "Requirement already satisfied: tifffile>=2019.7.26 in /usr/local/lib/python3.10/dist-packages (from scikit-image) (2024.2.12)\n",
            "Requirement already satisfied: PyWavelets>=1.1.1 in /usr/local/lib/python3.10/dist-packages (from scikit-image) (1.6.0)\n",
            "Requirement already satisfied: six>=1.5 in /usr/local/lib/python3.10/dist-packages (from python-dateutil>=2.7->matplotlib) (1.16.0)\n",
            "Requirement already satisfied: lancedb in /usr/local/lib/python3.10/dist-packages (0.5.7)\n",
            "Requirement already satisfied: deprecation in /usr/local/lib/python3.10/dist-packages (from lancedb) (2.1.0)\n",
            "Requirement already satisfied: pylance==0.9.18 in /usr/local/lib/python3.10/dist-packages (from lancedb) (0.9.18)\n",
            "Requirement already satisfied: ratelimiter~=1.0 in /usr/local/lib/python3.10/dist-packages (from lancedb) (1.2.0.post0)\n",
            "Requirement already satisfied: retry>=0.9.2 in /usr/local/lib/python3.10/dist-packages (from lancedb) (0.9.2)\n",
            "Requirement already satisfied: tqdm>=4.27.0 in /usr/local/lib/python3.10/dist-packages (from lancedb) (4.66.2)\n",
            "Requirement already satisfied: pydantic>=1.10 in /usr/local/lib/python3.10/dist-packages (from lancedb) (2.7.0)\n",
            "Requirement already satisfied: attrs>=21.3.0 in /usr/local/lib/python3.10/dist-packages (from lancedb) (23.2.0)\n",
            "Requirement already satisfied: semver>=3.0 in /usr/local/lib/python3.10/dist-packages (from lancedb) (3.0.2)\n",
            "Requirement already satisfied: cachetools in /usr/local/lib/python3.10/dist-packages (from lancedb) (5.3.3)\n",
            "Requirement already satisfied: pyyaml>=6.0 in /usr/local/lib/python3.10/dist-packages (from lancedb) (6.0.1)\n",
            "Requirement already satisfied: click>=8.1.7 in /usr/local/lib/python3.10/dist-packages (from lancedb) (8.1.7)\n",
            "Requirement already satisfied: requests>=2.31.0 in /usr/local/lib/python3.10/dist-packages (from lancedb) (2.31.0)\n",
            "Requirement already satisfied: overrides>=0.7 in /usr/local/lib/python3.10/dist-packages (from lancedb) (7.7.0)\n",
            "Requirement already satisfied: pyarrow>=12 in /usr/local/lib/python3.10/dist-packages (from pylance==0.9.18->lancedb) (14.0.2)\n",
            "Requirement already satisfied: numpy>=1.22 in /usr/local/lib/python3.10/dist-packages (from pylance==0.9.18->lancedb) (1.25.2)\n",
            "Requirement already satisfied: annotated-types>=0.4.0 in /usr/local/lib/python3.10/dist-packages (from pydantic>=1.10->lancedb) (0.6.0)\n",
            "Requirement already satisfied: pydantic-core==2.18.1 in /usr/local/lib/python3.10/dist-packages (from pydantic>=1.10->lancedb) (2.18.1)\n",
            "Requirement already satisfied: typing-extensions>=4.6.1 in /usr/local/lib/python3.10/dist-packages (from pydantic>=1.10->lancedb) (4.11.0)\n",
            "Requirement already satisfied: charset-normalizer<4,>=2 in /usr/local/lib/python3.10/dist-packages (from requests>=2.31.0->lancedb) (3.3.2)\n",
            "Requirement already satisfied: idna<4,>=2.5 in /usr/local/lib/python3.10/dist-packages (from requests>=2.31.0->lancedb) (3.7)\n",
            "Requirement already satisfied: urllib3<3,>=1.21.1 in /usr/local/lib/python3.10/dist-packages (from requests>=2.31.0->lancedb) (2.0.7)\n",
            "Requirement already satisfied: certifi>=2017.4.17 in /usr/local/lib/python3.10/dist-packages (from requests>=2.31.0->lancedb) (2024.2.2)\n",
            "Requirement already satisfied: decorator>=3.4.2 in /usr/local/lib/python3.10/dist-packages (from retry>=0.9.2->lancedb) (4.4.2)\n",
            "Requirement already satisfied: py<2.0.0,>=1.4.26 in /usr/local/lib/python3.10/dist-packages (from retry>=0.9.2->lancedb) (1.11.0)\n",
            "Requirement already satisfied: packaging in /usr/local/lib/python3.10/dist-packages (from deprecation->lancedb) (24.0)\n",
            "Requirement already satisfied: moviepy in /usr/local/lib/python3.10/dist-packages (1.0.3)\n",
            "Requirement already satisfied: decorator<5.0,>=4.0.2 in /usr/local/lib/python3.10/dist-packages (from moviepy) (4.4.2)\n",
            "Requirement already satisfied: tqdm<5.0,>=4.11.2 in /usr/local/lib/python3.10/dist-packages (from moviepy) (4.66.2)\n",
            "Requirement already satisfied: requests<3.0,>=2.8.1 in /usr/local/lib/python3.10/dist-packages (from moviepy) (2.31.0)\n",
            "Requirement already satisfied: proglog<=1.0.0 in /usr/local/lib/python3.10/dist-packages (from moviepy) (0.1.10)\n",
            "Requirement already satisfied: numpy>=1.17.3 in /usr/local/lib/python3.10/dist-packages (from moviepy) (1.25.2)\n",
            "Requirement already satisfied: imageio<3.0,>=2.5 in /usr/local/lib/python3.10/dist-packages (from moviepy) (2.31.6)\n",
            "Requirement already satisfied: imageio-ffmpeg>=0.2.0 in /usr/local/lib/python3.10/dist-packages (from moviepy) (0.4.9)\n",
            "Requirement already satisfied: pillow<10.1.0,>=8.3.2 in /usr/local/lib/python3.10/dist-packages (from imageio<3.0,>=2.5->moviepy) (10.0.1)\n",
            "Requirement already satisfied: setuptools in /usr/local/lib/python3.10/dist-packages (from imageio-ffmpeg>=0.2.0->moviepy) (67.7.2)\n",
            "Requirement already satisfied: charset-normalizer<4,>=2 in /usr/local/lib/python3.10/dist-packages (from requests<3.0,>=2.8.1->moviepy) (3.3.2)\n",
            "Requirement already satisfied: idna<4,>=2.5 in /usr/local/lib/python3.10/dist-packages (from requests<3.0,>=2.8.1->moviepy) (3.7)\n",
            "Requirement already satisfied: urllib3<3,>=1.21.1 in /usr/local/lib/python3.10/dist-packages (from requests<3.0,>=2.8.1->moviepy) (2.0.7)\n",
            "Requirement already satisfied: certifi>=2017.4.17 in /usr/local/lib/python3.10/dist-packages (from requests<3.0,>=2.8.1->moviepy) (2024.2.2)\n",
            "Requirement already satisfied: pytube in /usr/local/lib/python3.10/dist-packages (15.0.0)\n",
            "Requirement already satisfied: pydub in /usr/local/lib/python3.10/dist-packages (0.25.1)\n",
            "Requirement already satisfied: SpeechRecognition in /usr/local/lib/python3.10/dist-packages (3.10.3)\n",
            "Requirement already satisfied: requests>=2.26.0 in /usr/local/lib/python3.10/dist-packages (from SpeechRecognition) (2.31.0)\n",
            "Requirement already satisfied: typing-extensions in /usr/local/lib/python3.10/dist-packages (from SpeechRecognition) (4.11.0)\n",
            "Requirement already satisfied: charset-normalizer<4,>=2 in /usr/local/lib/python3.10/dist-packages (from requests>=2.26.0->SpeechRecognition) (3.3.2)\n",
            "Requirement already satisfied: idna<4,>=2.5 in /usr/local/lib/python3.10/dist-packages (from requests>=2.26.0->SpeechRecognition) (3.7)\n",
            "Requirement already satisfied: urllib3<3,>=1.21.1 in /usr/local/lib/python3.10/dist-packages (from requests>=2.26.0->SpeechRecognition) (2.0.7)\n",
            "Requirement already satisfied: certifi>=2017.4.17 in /usr/local/lib/python3.10/dist-packages (from requests>=2.26.0->SpeechRecognition) (2024.2.2)\n",
            "Requirement already satisfied: ffmpeg-python in /usr/local/lib/python3.10/dist-packages (0.2.0)\n",
            "Requirement already satisfied: future in /usr/local/lib/python3.10/dist-packages (from ffmpeg-python) (0.18.3)\n",
            "Requirement already satisfied: soundfile in /usr/local/lib/python3.10/dist-packages (0.12.1)\n",
            "Requirement already satisfied: cffi>=1.0 in /usr/local/lib/python3.10/dist-packages (from soundfile) (1.16.0)\n",
            "Requirement already satisfied: pycparser in /usr/local/lib/python3.10/dist-packages (from cffi>=1.0->soundfile) (2.22)\n"
          ]
        }
      ]
    },
    {
      "cell_type": "code",
      "source": [
        "from moviepy.editor import VideoFileClip\n",
        "from pathlib import Path\n",
        "import speech_recognition as sr\n",
        "from pytube import YouTube\n",
        "from pprint import pprint"
      ],
      "metadata": {
        "id": "RPODs-UJnzZW"
      },
      "execution_count": 2,
      "outputs": []
    },
    {
      "cell_type": "code",
      "source": [
        "from google.colab import userdata\n",
        "OPENAI_API_TOKEN=userdata.get('OPENAI_API_KEY')"
      ],
      "metadata": {
        "id": "A5SiqR0brKwq"
      },
      "execution_count": 3,
      "outputs": []
    },
    {
      "cell_type": "code",
      "source": [
        "import os\n",
        "os.environ[\"OPENAI_API_KEY\"] = OPENAI_API_TOKEN"
      ],
      "metadata": {
        "id": "80zYKTgRrOAV"
      },
      "execution_count": 4,
      "outputs": []
    },
    {
      "cell_type": "code",
      "source": [
        "from PIL import Image\n",
        "import matplotlib.pyplot as plt"
      ],
      "metadata": {
        "id": "MvTisLLkrR74"
      },
      "execution_count": 5,
      "outputs": []
    },
    {
      "cell_type": "code",
      "source": [
        "import os\n",
        "os.getcwd()"
      ],
      "metadata": {
        "colab": {
          "base_uri": "https://localhost:8080/",
          "height": 36
        },
        "id": "ByAA9jZQrVeP",
        "outputId": "40c3d772-75a8-4380-f4b0-0c0dc80dc946"
      },
      "execution_count": 6,
      "outputs": [
        {
          "output_type": "execute_result",
          "data": {
            "text/plain": [
              "'/content'"
            ],
            "application/vnd.google.colaboratory.intrinsic+json": {
              "type": "string"
            }
          },
          "metadata": {},
          "execution_count": 6
        }
      ]
    },
    {
      "cell_type": "code",
      "source": [
        "video_url=\"https://youtu.be/3dhcmeOTZ_Q\"\n",
        "output_video_path = \"/content/video_data/\"\n",
        "output_folder = \"/content/mixed_data/\"\n",
        "output_audio_path = \"/content/mixed_data/output_audio.wav\""
      ],
      "metadata": {
        "id": "wGW4lTPxrYD8"
      },
      "execution_count": 7,
      "outputs": []
    },
    {
      "cell_type": "code",
      "source": [
        "filepath=output_video_path + \"input_vid.mp4\""
      ],
      "metadata": {
        "id": "m16wQVEkra4Y"
      },
      "execution_count": 8,
      "outputs": []
    },
    {
      "cell_type": "code",
      "source": [
        "filepath"
      ],
      "metadata": {
        "colab": {
          "base_uri": "https://localhost:8080/",
          "height": 36
        },
        "id": "cC2aBdFmred_",
        "outputId": "32f14aef-bdf9-4fd3-cde3-cd9fc62ea873"
      },
      "execution_count": 9,
      "outputs": [
        {
          "output_type": "execute_result",
          "data": {
            "text/plain": [
              "'/content/video_data/input_vid.mp4'"
            ],
            "application/vnd.google.colaboratory.intrinsic+json": {
              "type": "string"
            }
          },
          "metadata": {},
          "execution_count": 9
        }
      ]
    },
    {
      "cell_type": "code",
      "source": [
        "#filepath = output_video_path + \"input_vid.mp4\"\n",
        "#Path(output_folder).mkdir(parents=True, exist_ok=True)"
      ],
      "metadata": {
        "id": "GKavbsn7rg28"
      },
      "execution_count": 10,
      "outputs": []
    },
    {
      "cell_type": "code",
      "source": [
        "#Path(filepath).mkdir(parents=True,exist_ok=True)"
      ],
      "metadata": {
        "id": "lbv2iZ3XrkHI"
      },
      "execution_count": 11,
      "outputs": []
    },
    {
      "cell_type": "code",
      "source": [
        "import matplotlib.pyplot as plt"
      ],
      "metadata": {
        "id": "rg-Tymgmrl9e"
      },
      "execution_count": 12,
      "outputs": []
    },
    {
      "cell_type": "code",
      "source": [
        "def plot_images(images_path):\n",
        "  images_shown = 0\n",
        "  plt.figure(figsize=(16, 9))\n",
        "  for img_path in images_path:\n",
        "        if os.path.isfile(img_path):\n",
        "            image = Image.open(img_path)\n",
        "\n",
        "            plt.subplot(2, 3, images_shown + 1)\n",
        "            plt.imshow(image)\n",
        "            plt.xticks([])\n",
        "            plt.yticks([])\n",
        "\n",
        "            images_shown += 1\n",
        "            if images_shown >= 5:\n",
        "                break"
      ],
      "metadata": {
        "id": "llL-KB3frn_X"
      },
      "execution_count": 13,
      "outputs": []
    },
    {
      "cell_type": "code",
      "source": [
        "from pytube import YouTube\n",
        "def download_video(url,output_path):\n",
        "  yt = YouTube(url)\n",
        "  metadata = {\"Author\": yt.author, \"Title\": yt.title, \"Views\": yt.views}\n",
        "  yt.streams.get_highest_resolution().download(\n",
        "        output_path=output_path, filename=\"input_vid.mp4\"\n",
        "    )\n",
        "  return metadata"
      ],
      "metadata": {
        "id": "RFxm3_qkrzGZ"
      },
      "execution_count": 14,
      "outputs": []
    },
    {
      "cell_type": "code",
      "source": [
        "from moviepy.editor import VideoFileClip\n",
        "def video_to_images(video_path,output_flder):\n",
        "  clip=VideoFileClip(video_path)\n",
        "  clip.write_images_sequence(\n",
        "      os.path.join(output_folder,\"frame%04d.png\"),fps=0.2\n",
        "  )"
      ],
      "metadata": {
        "id": "iMyVS0aLr2lC"
      },
      "execution_count": 15,
      "outputs": []
    },
    {
      "cell_type": "code",
      "source": [
        "def video_to_audio(video_path,output_audio_path):\n",
        "  clip=VideoFileClip(video_path)\n",
        "  audio=clip.audio\n",
        "  audio.write_audiofile(output_audio_path)"
      ],
      "metadata": {
        "id": "RStkyEX8sMr7"
      },
      "execution_count": 16,
      "outputs": []
    },
    {
      "cell_type": "code",
      "source": [
        "def audio_to_text(audio_path):\n",
        "  recognizer=sr.Recognizer()\n",
        "  audio=sr.AudioFile(audio_path)\n",
        "\n",
        "  with audio as source:\n",
        "    audio_data=recognizer.record(source)\n",
        "\n",
        "    try:\n",
        "\n",
        "      #recognize the speech\n",
        "      text = recognizer.recognize_whisper(audio_data)\n",
        "\n",
        "    except sr.UnknownValueError:\n",
        "      print(\"Speech recognition could not understand the audio.\")\n",
        "  return text"
      ],
      "metadata": {
        "id": "Z4KrJ5cMsPZw"
      },
      "execution_count": 17,
      "outputs": []
    },
    {
      "cell_type": "code",
      "source": [
        "video_url"
      ],
      "metadata": {
        "colab": {
          "base_uri": "https://localhost:8080/",
          "height": 36
        },
        "id": "W3Q2jOunsSke",
        "outputId": "0e19b8ad-c19e-4dd1-9ff4-d2ec04043874"
      },
      "execution_count": 18,
      "outputs": [
        {
          "output_type": "execute_result",
          "data": {
            "text/plain": [
              "'https://youtu.be/3dhcmeOTZ_Q'"
            ],
            "application/vnd.google.colaboratory.intrinsic+json": {
              "type": "string"
            }
          },
          "metadata": {},
          "execution_count": 18
        }
      ]
    },
    {
      "cell_type": "code",
      "source": [
        "output_video_path"
      ],
      "metadata": {
        "colab": {
          "base_uri": "https://localhost:8080/",
          "height": 36
        },
        "id": "y43lf6XnsVeR",
        "outputId": "25bdbfbb-5c60-4075-8b4e-def613e5feff"
      },
      "execution_count": 19,
      "outputs": [
        {
          "output_type": "execute_result",
          "data": {
            "text/plain": [
              "'/content/video_data/'"
            ],
            "application/vnd.google.colaboratory.intrinsic+json": {
              "type": "string"
            }
          },
          "metadata": {},
          "execution_count": 19
        }
      ]
    },
    {
      "cell_type": "code",
      "source": [
        "metadata_vid = download_video(video_url, output_video_path)"
      ],
      "metadata": {
        "id": "nAt3Hvc6sX_z"
      },
      "execution_count": 20,
      "outputs": []
    },
    {
      "cell_type": "code",
      "source": [
        "metadata_vid"
      ],
      "metadata": {
        "colab": {
          "base_uri": "https://localhost:8080/"
        },
        "id": "XcnI4PXWs8Ll",
        "outputId": "9393dd93-75b9-4dc8-f524-00852b97c2a2"
      },
      "execution_count": 21,
      "outputs": [
        {
          "output_type": "execute_result",
          "data": {
            "text/plain": [
              "{'Author': '3-Minute Data Science',\n",
              " 'Title': 'Linear Regression in 3 Minutes',\n",
              " 'Views': 7234}"
            ]
          },
          "metadata": {},
          "execution_count": 21
        }
      ]
    },
    {
      "cell_type": "code",
      "source": [
        "filepath"
      ],
      "metadata": {
        "colab": {
          "base_uri": "https://localhost:8080/",
          "height": 36
        },
        "id": "82uHODFPtCt7",
        "outputId": "0c80ca5c-92e4-4466-d673-371f2482bdbc"
      },
      "execution_count": 22,
      "outputs": [
        {
          "output_type": "execute_result",
          "data": {
            "text/plain": [
              "'/content/video_data/input_vid.mp4'"
            ],
            "application/vnd.google.colaboratory.intrinsic+json": {
              "type": "string"
            }
          },
          "metadata": {},
          "execution_count": 22
        }
      ]
    },
    {
      "cell_type": "code",
      "source": [
        "output_folder"
      ],
      "metadata": {
        "colab": {
          "base_uri": "https://localhost:8080/",
          "height": 36
        },
        "id": "dNlVwOrxtJpU",
        "outputId": "d3acd85b-280a-4462-f0d9-a29b3530bac0"
      },
      "execution_count": 23,
      "outputs": [
        {
          "output_type": "execute_result",
          "data": {
            "text/plain": [
              "'/content/mixed_data/'"
            ],
            "application/vnd.google.colaboratory.intrinsic+json": {
              "type": "string"
            }
          },
          "metadata": {},
          "execution_count": 23
        }
      ]
    },
    {
      "cell_type": "code",
      "source": [
        "!mkdir mixed_data"
      ],
      "metadata": {
        "id": "Dkw8_hBAtMRc"
      },
      "execution_count": 24,
      "outputs": []
    },
    {
      "cell_type": "code",
      "source": [
        "filepath"
      ],
      "metadata": {
        "colab": {
          "base_uri": "https://localhost:8080/",
          "height": 36
        },
        "id": "JU8Qb-Tet-cn",
        "outputId": "6f8ac4b9-0da8-4766-8ecd-bf3c60d7ba4a"
      },
      "execution_count": 25,
      "outputs": [
        {
          "output_type": "execute_result",
          "data": {
            "text/plain": [
              "'/content/video_data/input_vid.mp4'"
            ],
            "application/vnd.google.colaboratory.intrinsic+json": {
              "type": "string"
            }
          },
          "metadata": {},
          "execution_count": 25
        }
      ]
    },
    {
      "cell_type": "code",
      "source": [
        "output_folder"
      ],
      "metadata": {
        "colab": {
          "base_uri": "https://localhost:8080/",
          "height": 36
        },
        "id": "0vPJ_AqiuH-F",
        "outputId": "720abb39-4a6d-47b2-e325-d6113423c93a"
      },
      "execution_count": 26,
      "outputs": [
        {
          "output_type": "execute_result",
          "data": {
            "text/plain": [
              "'/content/mixed_data/'"
            ],
            "application/vnd.google.colaboratory.intrinsic+json": {
              "type": "string"
            }
          },
          "metadata": {},
          "execution_count": 26
        }
      ]
    },
    {
      "cell_type": "code",
      "source": [
        "video_to_images(filepath,output_folder)"
      ],
      "metadata": {
        "colab": {
          "base_uri": "https://localhost:8080/"
        },
        "id": "MvZMBrM8uKsW",
        "outputId": "66f35233-9fb5-4101-e203-78253c20d019"
      },
      "execution_count": 27,
      "outputs": [
        {
          "output_type": "stream",
          "name": "stdout",
          "text": [
            "Moviepy - Writing frames /content/mixed_data/frame%04d.png.\n"
          ]
        },
        {
          "output_type": "stream",
          "name": "stderr",
          "text": [
            "                                                            "
          ]
        },
        {
          "output_type": "stream",
          "name": "stdout",
          "text": [
            "Moviepy - Done writing frames /content/mixed_data/frame%04d.png.\n"
          ]
        },
        {
          "output_type": "stream",
          "name": "stderr",
          "text": [
            "\r"
          ]
        }
      ]
    },
    {
      "cell_type": "code",
      "source": [
        "filepath"
      ],
      "metadata": {
        "colab": {
          "base_uri": "https://localhost:8080/",
          "height": 36
        },
        "id": "ydACwEhBumie",
        "outputId": "d8a0196d-d7a8-4957-e3df-c53f6960bd5a"
      },
      "execution_count": 28,
      "outputs": [
        {
          "output_type": "execute_result",
          "data": {
            "text/plain": [
              "'/content/video_data/input_vid.mp4'"
            ],
            "application/vnd.google.colaboratory.intrinsic+json": {
              "type": "string"
            }
          },
          "metadata": {},
          "execution_count": 28
        }
      ]
    },
    {
      "cell_type": "code",
      "source": [
        "output_audio_path"
      ],
      "metadata": {
        "colab": {
          "base_uri": "https://localhost:8080/",
          "height": 36
        },
        "id": "yKLlb5n5ur0y",
        "outputId": "7ff227b5-e942-482b-aa90-f5c5c2ae9822"
      },
      "execution_count": 29,
      "outputs": [
        {
          "output_type": "execute_result",
          "data": {
            "text/plain": [
              "'/content/mixed_data/output_audio.wav'"
            ],
            "application/vnd.google.colaboratory.intrinsic+json": {
              "type": "string"
            }
          },
          "metadata": {},
          "execution_count": 29
        }
      ]
    },
    {
      "cell_type": "code",
      "source": [
        "video_to_audio(filepath,output_audio_path)"
      ],
      "metadata": {
        "colab": {
          "base_uri": "https://localhost:8080/"
        },
        "id": "w6ynLu5Futzi",
        "outputId": "68987ace-60ef-4940-fd99-26a2da76f00f"
      },
      "execution_count": 30,
      "outputs": [
        {
          "output_type": "stream",
          "name": "stdout",
          "text": [
            "MoviePy - Writing audio in /content/mixed_data/output_audio.wav\n"
          ]
        },
        {
          "output_type": "stream",
          "name": "stderr",
          "text": [
            "                                                                      "
          ]
        },
        {
          "output_type": "stream",
          "name": "stdout",
          "text": [
            "MoviePy - Done.\n"
          ]
        },
        {
          "output_type": "stream",
          "name": "stderr",
          "text": [
            "\r"
          ]
        }
      ]
    },
    {
      "cell_type": "code",
      "source": [
        "output_audio_path"
      ],
      "metadata": {
        "colab": {
          "base_uri": "https://localhost:8080/",
          "height": 36
        },
        "id": "m229KQRpuwkU",
        "outputId": "58cafb40-770e-412a-f028-75569adefd0d"
      },
      "execution_count": 31,
      "outputs": [
        {
          "output_type": "execute_result",
          "data": {
            "text/plain": [
              "'/content/mixed_data/output_audio.wav'"
            ],
            "application/vnd.google.colaboratory.intrinsic+json": {
              "type": "string"
            }
          },
          "metadata": {},
          "execution_count": 31
        }
      ]
    },
    {
      "cell_type": "code",
      "source": [
        "text_data=audio_to_text(output_audio_path)"
      ],
      "metadata": {
        "colab": {
          "base_uri": "https://localhost:8080/"
        },
        "id": "VGmSiPi6uz95",
        "outputId": "3236fc35-c258-4895-eb20-096e2072d1c4"
      },
      "execution_count": 32,
      "outputs": [
        {
          "output_type": "stream",
          "name": "stderr",
          "text": [
            "100%|████████████████████████████████████████| 139M/139M [00:01<00:00, 130MiB/s]\n"
          ]
        }
      ]
    },
    {
      "cell_type": "code",
      "source": [
        "text_data"
      ],
      "metadata": {
        "colab": {
          "base_uri": "https://localhost:8080/",
          "height": 226
        },
        "id": "fkTMeUzBu2Wh",
        "outputId": "dbf6b005-e8e4-472d-9ca8-b5b817be6838"
      },
      "execution_count": 33,
      "outputs": [
        {
          "output_type": "execute_result",
          "data": {
            "text/plain": [
              "\" Lanyard regression is a statistical technique for modeling the relationship between an output variable and one or more input variables. In layman's terms, think of it as fitting a line through some data points as shown here, so you can make predictions on unknown data, assuming there is a linear relationship between the variables. You might be familiar with the linear function y equals mx plus b, where y is the output variable, also called the dependent variable. You may also see expressed as f of x, the function of the input variable. x on the other hand, would serve as the input variable, also called the independent variable. It's likely you'll see the coefficients m and b expressed as beta 1 and beta 0 respectively. So what do the m and b coefficients do? The m or beta 1 coefficient controls the slope of the line. The b or the beta 0 controls the intercept of the line. In machine learning, we also know it as the bias. These two coefficients are what we are solving for in linear regression. We can also extend to multiple input variables, so x1, x2, x3, with beta 1, beta 2, and beta 3, and so on, acting as slopes for each of those variables. In these higher dimensions, you would visualize the linear regression as a hyperplane. So how do we fit the line to these points? Well, you'll notice that there's these differences between the points and the line, these little red segments, these are called residuals. They are the differences between the data points and the predictions the line would produce. Take each of these residuals and square them. These are the squared errors, and notice that the large of the residuals are, the more amplified area of the squares are. If we total the areas of all of these squares for a given line, we will get the sum of the squared error, and this is known as our loss function. We need to find the beta 0 and beta 1 coefficients that will minimize that sum of squared error. The coefficients can be solved with a variety of techniques ranging from matrix decomposition to gradient descent, which is depicted right here. Thankfully, a lot of libraries are available to do this for us, and we will deep dive into these topics in other videos. To validate a linear regression, there are a number of techniques. Machine learning practitioners will often take a third of the data and put it into the test data set. The remaining two thirds will become the training data set. The training data set will then be used to fit the regression line. The test data set will then be used to validate the regression line. This is done to make sure that the regression performs well on data it has not seen before. The tricks used to evaluate the linear regression vary from the R square, standard error of the estimate, prediction intervals, as well as statistical significance. These are topics we will cover in future videos. If you enjoyed this video, please like and subscribe. Look at my two O'Reilly books, Essential Math for Data Science, and getting started with SQL. Chapter five of Essential Math for Data Science actually covers linear regression and much more depth. If you want live instruction, I also do teach on the O'Reilly platform. Promotional link below. I teach classes including machine learning from scratch, probability, and SQL. Comment on what topics you would like to see next, and I will see you again on 3 Minute Data Science.\""
            ],
            "application/vnd.google.colaboratory.intrinsic+json": {
              "type": "string"
            }
          },
          "metadata": {},
          "execution_count": 33
        }
      ]
    },
    {
      "cell_type": "code",
      "source": [
        "with open(output_folder + \"output_text.txt\", \"w\") as file:\n",
        "        file.write(text_data)\n",
        "print(\"Text data saved to file\")\n",
        "file.close()"
      ],
      "metadata": {
        "colab": {
          "base_uri": "https://localhost:8080/"
        },
        "id": "R2OgK1heu88I",
        "outputId": "266e30ff-a53f-419d-839d-d6db961501ff"
      },
      "execution_count": 34,
      "outputs": [
        {
          "output_type": "stream",
          "name": "stdout",
          "text": [
            "Text data saved to file\n"
          ]
        }
      ]
    },
    {
      "cell_type": "code",
      "source": [
        "os.remove(output_audio_path)\n",
        "print(\"Audio file removed\")"
      ],
      "metadata": {
        "colab": {
          "base_uri": "https://localhost:8080/"
        },
        "id": "mYPrkVfHvFJh",
        "outputId": "50baa0c9-8040-4b5c-c03a-6c3921c72aac"
      },
      "execution_count": 35,
      "outputs": [
        {
          "output_type": "stream",
          "name": "stdout",
          "text": [
            "Audio file removed\n"
          ]
        }
      ]
    },
    {
      "cell_type": "code",
      "source": [
        "# embedding lance db\n",
        "# llm"
      ],
      "metadata": {
        "id": "XmffluHJvIBS"
      },
      "execution_count": null,
      "outputs": []
    },
    {
      "cell_type": "code",
      "source": [
        "!pip install llama-index-readers-file"
      ],
      "metadata": {
        "colab": {
          "base_uri": "https://localhost:8080/"
        },
        "id": "Cuk6WRo_vIjE",
        "outputId": "0e3441ca-4342-4849-9087-ef8406ee5fea"
      },
      "execution_count": 36,
      "outputs": [
        {
          "output_type": "stream",
          "name": "stdout",
          "text": [
            "Requirement already satisfied: llama-index-readers-file in /usr/local/lib/python3.10/dist-packages (0.1.19)\n",
            "Requirement already satisfied: beautifulsoup4<5.0.0,>=4.12.3 in /usr/local/lib/python3.10/dist-packages (from llama-index-readers-file) (4.12.3)\n",
            "Requirement already satisfied: llama-index-core<0.11.0,>=0.10.1 in /usr/local/lib/python3.10/dist-packages (from llama-index-readers-file) (0.10.30)\n",
            "Requirement already satisfied: pypdf<5.0.0,>=4.0.1 in /usr/local/lib/python3.10/dist-packages (from llama-index-readers-file) (4.2.0)\n",
            "Requirement already satisfied: striprtf<0.0.27,>=0.0.26 in /usr/local/lib/python3.10/dist-packages (from llama-index-readers-file) (0.0.26)\n",
            "Requirement already satisfied: soupsieve>1.2 in /usr/local/lib/python3.10/dist-packages (from beautifulsoup4<5.0.0,>=4.12.3->llama-index-readers-file) (2.5)\n",
            "Requirement already satisfied: PyYAML>=6.0.1 in /usr/local/lib/python3.10/dist-packages (from llama-index-core<0.11.0,>=0.10.1->llama-index-readers-file) (6.0.1)\n",
            "Requirement already satisfied: SQLAlchemy[asyncio]>=1.4.49 in /usr/local/lib/python3.10/dist-packages (from llama-index-core<0.11.0,>=0.10.1->llama-index-readers-file) (2.0.29)\n",
            "Requirement already satisfied: aiohttp<4.0.0,>=3.8.6 in /usr/local/lib/python3.10/dist-packages (from llama-index-core<0.11.0,>=0.10.1->llama-index-readers-file) (3.9.5)\n",
            "Requirement already satisfied: dataclasses-json in /usr/local/lib/python3.10/dist-packages (from llama-index-core<0.11.0,>=0.10.1->llama-index-readers-file) (0.6.4)\n",
            "Requirement already satisfied: deprecated>=1.2.9.3 in /usr/local/lib/python3.10/dist-packages (from llama-index-core<0.11.0,>=0.10.1->llama-index-readers-file) (1.2.14)\n",
            "Requirement already satisfied: dirtyjson<2.0.0,>=1.0.8 in /usr/local/lib/python3.10/dist-packages (from llama-index-core<0.11.0,>=0.10.1->llama-index-readers-file) (1.0.8)\n",
            "Requirement already satisfied: fsspec>=2023.5.0 in /usr/local/lib/python3.10/dist-packages (from llama-index-core<0.11.0,>=0.10.1->llama-index-readers-file) (2023.6.0)\n",
            "Requirement already satisfied: httpx in /usr/local/lib/python3.10/dist-packages (from llama-index-core<0.11.0,>=0.10.1->llama-index-readers-file) (0.27.0)\n",
            "Requirement already satisfied: llamaindex-py-client<0.2.0,>=0.1.18 in /usr/local/lib/python3.10/dist-packages (from llama-index-core<0.11.0,>=0.10.1->llama-index-readers-file) (0.1.18)\n",
            "Requirement already satisfied: nest-asyncio<2.0.0,>=1.5.8 in /usr/local/lib/python3.10/dist-packages (from llama-index-core<0.11.0,>=0.10.1->llama-index-readers-file) (1.6.0)\n",
            "Requirement already satisfied: networkx>=3.0 in /usr/local/lib/python3.10/dist-packages (from llama-index-core<0.11.0,>=0.10.1->llama-index-readers-file) (3.3)\n",
            "Requirement already satisfied: nltk<4.0.0,>=3.8.1 in /usr/local/lib/python3.10/dist-packages (from llama-index-core<0.11.0,>=0.10.1->llama-index-readers-file) (3.8.1)\n",
            "Requirement already satisfied: numpy in /usr/local/lib/python3.10/dist-packages (from llama-index-core<0.11.0,>=0.10.1->llama-index-readers-file) (1.25.2)\n",
            "Requirement already satisfied: openai>=1.1.0 in /usr/local/lib/python3.10/dist-packages (from llama-index-core<0.11.0,>=0.10.1->llama-index-readers-file) (1.23.2)\n",
            "Requirement already satisfied: pandas in /usr/local/lib/python3.10/dist-packages (from llama-index-core<0.11.0,>=0.10.1->llama-index-readers-file) (2.0.3)\n",
            "Requirement already satisfied: pillow>=9.0.0 in /usr/local/lib/python3.10/dist-packages (from llama-index-core<0.11.0,>=0.10.1->llama-index-readers-file) (10.0.1)\n",
            "Requirement already satisfied: requests>=2.31.0 in /usr/local/lib/python3.10/dist-packages (from llama-index-core<0.11.0,>=0.10.1->llama-index-readers-file) (2.31.0)\n",
            "Requirement already satisfied: tenacity<9.0.0,>=8.2.0 in /usr/local/lib/python3.10/dist-packages (from llama-index-core<0.11.0,>=0.10.1->llama-index-readers-file) (8.2.3)\n",
            "Requirement already satisfied: tiktoken>=0.3.3 in /usr/local/lib/python3.10/dist-packages (from llama-index-core<0.11.0,>=0.10.1->llama-index-readers-file) (0.6.0)\n",
            "Requirement already satisfied: tqdm<5.0.0,>=4.66.1 in /usr/local/lib/python3.10/dist-packages (from llama-index-core<0.11.0,>=0.10.1->llama-index-readers-file) (4.66.2)\n",
            "Requirement already satisfied: typing-extensions>=4.5.0 in /usr/local/lib/python3.10/dist-packages (from llama-index-core<0.11.0,>=0.10.1->llama-index-readers-file) (4.11.0)\n",
            "Requirement already satisfied: typing-inspect>=0.8.0 in /usr/local/lib/python3.10/dist-packages (from llama-index-core<0.11.0,>=0.10.1->llama-index-readers-file) (0.9.0)\n",
            "Requirement already satisfied: wrapt in /usr/local/lib/python3.10/dist-packages (from llama-index-core<0.11.0,>=0.10.1->llama-index-readers-file) (1.14.1)\n",
            "Requirement already satisfied: aiosignal>=1.1.2 in /usr/local/lib/python3.10/dist-packages (from aiohttp<4.0.0,>=3.8.6->llama-index-core<0.11.0,>=0.10.1->llama-index-readers-file) (1.3.1)\n",
            "Requirement already satisfied: attrs>=17.3.0 in /usr/local/lib/python3.10/dist-packages (from aiohttp<4.0.0,>=3.8.6->llama-index-core<0.11.0,>=0.10.1->llama-index-readers-file) (23.2.0)\n",
            "Requirement already satisfied: frozenlist>=1.1.1 in /usr/local/lib/python3.10/dist-packages (from aiohttp<4.0.0,>=3.8.6->llama-index-core<0.11.0,>=0.10.1->llama-index-readers-file) (1.4.1)\n",
            "Requirement already satisfied: multidict<7.0,>=4.5 in /usr/local/lib/python3.10/dist-packages (from aiohttp<4.0.0,>=3.8.6->llama-index-core<0.11.0,>=0.10.1->llama-index-readers-file) (6.0.5)\n",
            "Requirement already satisfied: yarl<2.0,>=1.0 in /usr/local/lib/python3.10/dist-packages (from aiohttp<4.0.0,>=3.8.6->llama-index-core<0.11.0,>=0.10.1->llama-index-readers-file) (1.9.4)\n",
            "Requirement already satisfied: async-timeout<5.0,>=4.0 in /usr/local/lib/python3.10/dist-packages (from aiohttp<4.0.0,>=3.8.6->llama-index-core<0.11.0,>=0.10.1->llama-index-readers-file) (4.0.3)\n",
            "Requirement already satisfied: pydantic>=1.10 in /usr/local/lib/python3.10/dist-packages (from llamaindex-py-client<0.2.0,>=0.1.18->llama-index-core<0.11.0,>=0.10.1->llama-index-readers-file) (2.7.0)\n",
            "Requirement already satisfied: anyio in /usr/local/lib/python3.10/dist-packages (from httpx->llama-index-core<0.11.0,>=0.10.1->llama-index-readers-file) (3.7.1)\n",
            "Requirement already satisfied: certifi in /usr/local/lib/python3.10/dist-packages (from httpx->llama-index-core<0.11.0,>=0.10.1->llama-index-readers-file) (2024.2.2)\n",
            "Requirement already satisfied: httpcore==1.* in /usr/local/lib/python3.10/dist-packages (from httpx->llama-index-core<0.11.0,>=0.10.1->llama-index-readers-file) (1.0.5)\n",
            "Requirement already satisfied: idna in /usr/local/lib/python3.10/dist-packages (from httpx->llama-index-core<0.11.0,>=0.10.1->llama-index-readers-file) (3.7)\n",
            "Requirement already satisfied: sniffio in /usr/local/lib/python3.10/dist-packages (from httpx->llama-index-core<0.11.0,>=0.10.1->llama-index-readers-file) (1.3.1)\n",
            "Requirement already satisfied: h11<0.15,>=0.13 in /usr/local/lib/python3.10/dist-packages (from httpcore==1.*->httpx->llama-index-core<0.11.0,>=0.10.1->llama-index-readers-file) (0.14.0)\n",
            "Requirement already satisfied: click in /usr/local/lib/python3.10/dist-packages (from nltk<4.0.0,>=3.8.1->llama-index-core<0.11.0,>=0.10.1->llama-index-readers-file) (8.1.7)\n",
            "Requirement already satisfied: joblib in /usr/local/lib/python3.10/dist-packages (from nltk<4.0.0,>=3.8.1->llama-index-core<0.11.0,>=0.10.1->llama-index-readers-file) (1.4.0)\n",
            "Requirement already satisfied: regex>=2021.8.3 in /usr/local/lib/python3.10/dist-packages (from nltk<4.0.0,>=3.8.1->llama-index-core<0.11.0,>=0.10.1->llama-index-readers-file) (2023.12.25)\n",
            "Requirement already satisfied: distro<2,>=1.7.0 in /usr/lib/python3/dist-packages (from openai>=1.1.0->llama-index-core<0.11.0,>=0.10.1->llama-index-readers-file) (1.7.0)\n",
            "Requirement already satisfied: charset-normalizer<4,>=2 in /usr/local/lib/python3.10/dist-packages (from requests>=2.31.0->llama-index-core<0.11.0,>=0.10.1->llama-index-readers-file) (3.3.2)\n",
            "Requirement already satisfied: urllib3<3,>=1.21.1 in /usr/local/lib/python3.10/dist-packages (from requests>=2.31.0->llama-index-core<0.11.0,>=0.10.1->llama-index-readers-file) (2.0.7)\n",
            "Requirement already satisfied: greenlet!=0.4.17 in /usr/local/lib/python3.10/dist-packages (from SQLAlchemy[asyncio]>=1.4.49->llama-index-core<0.11.0,>=0.10.1->llama-index-readers-file) (3.0.3)\n",
            "Requirement already satisfied: mypy-extensions>=0.3.0 in /usr/local/lib/python3.10/dist-packages (from typing-inspect>=0.8.0->llama-index-core<0.11.0,>=0.10.1->llama-index-readers-file) (1.0.0)\n",
            "Requirement already satisfied: marshmallow<4.0.0,>=3.18.0 in /usr/local/lib/python3.10/dist-packages (from dataclasses-json->llama-index-core<0.11.0,>=0.10.1->llama-index-readers-file) (3.21.1)\n",
            "Requirement already satisfied: python-dateutil>=2.8.2 in /usr/local/lib/python3.10/dist-packages (from pandas->llama-index-core<0.11.0,>=0.10.1->llama-index-readers-file) (2.8.2)\n",
            "Requirement already satisfied: pytz>=2020.1 in /usr/local/lib/python3.10/dist-packages (from pandas->llama-index-core<0.11.0,>=0.10.1->llama-index-readers-file) (2023.4)\n",
            "Requirement already satisfied: tzdata>=2022.1 in /usr/local/lib/python3.10/dist-packages (from pandas->llama-index-core<0.11.0,>=0.10.1->llama-index-readers-file) (2024.1)\n",
            "Requirement already satisfied: exceptiongroup in /usr/local/lib/python3.10/dist-packages (from anyio->httpx->llama-index-core<0.11.0,>=0.10.1->llama-index-readers-file) (1.2.0)\n",
            "Requirement already satisfied: packaging>=17.0 in /usr/local/lib/python3.10/dist-packages (from marshmallow<4.0.0,>=3.18.0->dataclasses-json->llama-index-core<0.11.0,>=0.10.1->llama-index-readers-file) (24.0)\n",
            "Requirement already satisfied: annotated-types>=0.4.0 in /usr/local/lib/python3.10/dist-packages (from pydantic>=1.10->llamaindex-py-client<0.2.0,>=0.1.18->llama-index-core<0.11.0,>=0.10.1->llama-index-readers-file) (0.6.0)\n",
            "Requirement already satisfied: pydantic-core==2.18.1 in /usr/local/lib/python3.10/dist-packages (from pydantic>=1.10->llamaindex-py-client<0.2.0,>=0.1.18->llama-index-core<0.11.0,>=0.10.1->llama-index-readers-file) (2.18.1)\n",
            "Requirement already satisfied: six>=1.5 in /usr/local/lib/python3.10/dist-packages (from python-dateutil>=2.8.2->pandas->llama-index-core<0.11.0,>=0.10.1->llama-index-readers-file) (1.16.0)\n"
          ]
        }
      ]
    },
    {
      "cell_type": "code",
      "source": [
        "from llama_index.core.indices import MultiModalVectorStoreIndex\n",
        "from llama_index.core import SimpleDirectoryReader\n",
        "from llama_index.core import StorageContext"
      ],
      "metadata": {
        "id": "clVX505nvPVE"
      },
      "execution_count": 37,
      "outputs": []
    },
    {
      "cell_type": "code",
      "source": [
        "from llama_index.vector_stores.lancedb import LanceDBVectorStore"
      ],
      "metadata": {
        "id": "S9kYNpaevS8q"
      },
      "execution_count": 38,
      "outputs": []
    },
    {
      "cell_type": "code",
      "source": [
        "text_store=LanceDBVectorStore(uri=\"lancedb\",table_name=\"text_collection\")\n",
        "image_store=LanceDBVectorStore(uri=\"lancedb\",table_name=\"image_collection\")"
      ],
      "metadata": {
        "id": "fPpCXB1cvZ19"
      },
      "execution_count": 39,
      "outputs": []
    },
    {
      "cell_type": "code",
      "source": [
        "storage_context=StorageContext.from_defaults(vector_store=text_store,image_store=image_store)"
      ],
      "metadata": {
        "id": "Ki444p8XvcW8"
      },
      "execution_count": 40,
      "outputs": []
    },
    {
      "cell_type": "code",
      "source": [
        "output_folder"
      ],
      "metadata": {
        "colab": {
          "base_uri": "https://localhost:8080/",
          "height": 36
        },
        "id": "vOnKDey9vgBi",
        "outputId": "dfaacbbe-eb8c-4013-8089-c76b771a869c"
      },
      "execution_count": 41,
      "outputs": [
        {
          "output_type": "execute_result",
          "data": {
            "text/plain": [
              "'/content/mixed_data/'"
            ],
            "application/vnd.google.colaboratory.intrinsic+json": {
              "type": "string"
            }
          },
          "metadata": {},
          "execution_count": 41
        }
      ]
    },
    {
      "cell_type": "code",
      "source": [
        "documents=SimpleDirectoryReader(output_folder).load_data()"
      ],
      "metadata": {
        "id": "4cX-hRMXviL9"
      },
      "execution_count": 42,
      "outputs": []
    },
    {
      "cell_type": "code",
      "source": [
        "documents"
      ],
      "metadata": {
        "colab": {
          "base_uri": "https://localhost:8080/"
        },
        "id": "4Pjg7givvkGT",
        "outputId": "37edf8b7-2960-493e-8a13-5df00ca8e02e"
      },
      "execution_count": 43,
      "outputs": [
        {
          "output_type": "execute_result",
          "data": {
            "text/plain": [
              "[ImageDocument(id_='a887bd70-b4e9-484c-9ffb-5d30f1f362ed', embedding=None, metadata={'file_path': '/content/mixed_data/frame0000.png', 'file_name': 'frame0000.png', 'file_type': 'image/png', 'file_size': 2759, 'creation_date': '2024-04-20', 'last_modified_date': '2024-04-20'}, excluded_embed_metadata_keys=['file_name', 'file_type', 'file_size', 'creation_date', 'last_modified_date', 'last_accessed_date'], excluded_llm_metadata_keys=['file_name', 'file_type', 'file_size', 'creation_date', 'last_modified_date', 'last_accessed_date'], relationships={}, text='', start_char_idx=None, end_char_idx=None, text_template='{metadata_str}\\n\\n{content}', metadata_template='{key}: {value}', metadata_seperator='\\n', image=None, image_path='/content/mixed_data/frame0000.png', image_url=None, image_mimetype=None, text_embedding=None),\n",
              " ImageDocument(id_='11af7196-7f35-4fbf-ab7e-2382027135a9', embedding=None, metadata={'file_path': '/content/mixed_data/frame0001.png', 'file_name': 'frame0001.png', 'file_type': 'image/png', 'file_size': 48172, 'creation_date': '2024-04-20', 'last_modified_date': '2024-04-20'}, excluded_embed_metadata_keys=['file_name', 'file_type', 'file_size', 'creation_date', 'last_modified_date', 'last_accessed_date'], excluded_llm_metadata_keys=['file_name', 'file_type', 'file_size', 'creation_date', 'last_modified_date', 'last_accessed_date'], relationships={}, text='', start_char_idx=None, end_char_idx=None, text_template='{metadata_str}\\n\\n{content}', metadata_template='{key}: {value}', metadata_seperator='\\n', image=None, image_path='/content/mixed_data/frame0001.png', image_url=None, image_mimetype=None, text_embedding=None),\n",
              " ImageDocument(id_='c26e360c-e624-4582-aaf0-65b817320379', embedding=None, metadata={'file_path': '/content/mixed_data/frame0002.png', 'file_name': 'frame0002.png', 'file_type': 'image/png', 'file_size': 83490, 'creation_date': '2024-04-20', 'last_modified_date': '2024-04-20'}, excluded_embed_metadata_keys=['file_name', 'file_type', 'file_size', 'creation_date', 'last_modified_date', 'last_accessed_date'], excluded_llm_metadata_keys=['file_name', 'file_type', 'file_size', 'creation_date', 'last_modified_date', 'last_accessed_date'], relationships={}, text='', start_char_idx=None, end_char_idx=None, text_template='{metadata_str}\\n\\n{content}', metadata_template='{key}: {value}', metadata_seperator='\\n', image=None, image_path='/content/mixed_data/frame0002.png', image_url=None, image_mimetype=None, text_embedding=None),\n",
              " ImageDocument(id_='19917baf-9638-4199-8d79-23ce899d694f', embedding=None, metadata={'file_path': '/content/mixed_data/frame0003.png', 'file_name': 'frame0003.png', 'file_type': 'image/png', 'file_size': 61264, 'creation_date': '2024-04-20', 'last_modified_date': '2024-04-20'}, excluded_embed_metadata_keys=['file_name', 'file_type', 'file_size', 'creation_date', 'last_modified_date', 'last_accessed_date'], excluded_llm_metadata_keys=['file_name', 'file_type', 'file_size', 'creation_date', 'last_modified_date', 'last_accessed_date'], relationships={}, text='', start_char_idx=None, end_char_idx=None, text_template='{metadata_str}\\n\\n{content}', metadata_template='{key}: {value}', metadata_seperator='\\n', image=None, image_path='/content/mixed_data/frame0003.png', image_url=None, image_mimetype=None, text_embedding=None),\n",
              " ImageDocument(id_='b1b382fe-ed3f-46d6-8154-4dccc1a0e808', embedding=None, metadata={'file_path': '/content/mixed_data/frame0004.png', 'file_name': 'frame0004.png', 'file_type': 'image/png', 'file_size': 32749, 'creation_date': '2024-04-20', 'last_modified_date': '2024-04-20'}, excluded_embed_metadata_keys=['file_name', 'file_type', 'file_size', 'creation_date', 'last_modified_date', 'last_accessed_date'], excluded_llm_metadata_keys=['file_name', 'file_type', 'file_size', 'creation_date', 'last_modified_date', 'last_accessed_date'], relationships={}, text='', start_char_idx=None, end_char_idx=None, text_template='{metadata_str}\\n\\n{content}', metadata_template='{key}: {value}', metadata_seperator='\\n', image=None, image_path='/content/mixed_data/frame0004.png', image_url=None, image_mimetype=None, text_embedding=None),\n",
              " ImageDocument(id_='798903e1-bc79-4521-a59b-aa430972b8cb', embedding=None, metadata={'file_path': '/content/mixed_data/frame0005.png', 'file_name': 'frame0005.png', 'file_type': 'image/png', 'file_size': 56183, 'creation_date': '2024-04-20', 'last_modified_date': '2024-04-20'}, excluded_embed_metadata_keys=['file_name', 'file_type', 'file_size', 'creation_date', 'last_modified_date', 'last_accessed_date'], excluded_llm_metadata_keys=['file_name', 'file_type', 'file_size', 'creation_date', 'last_modified_date', 'last_accessed_date'], relationships={}, text='', start_char_idx=None, end_char_idx=None, text_template='{metadata_str}\\n\\n{content}', metadata_template='{key}: {value}', metadata_seperator='\\n', image=None, image_path='/content/mixed_data/frame0005.png', image_url=None, image_mimetype=None, text_embedding=None),\n",
              " ImageDocument(id_='565fffb5-aeaf-4b39-9c32-221fc3e2b37b', embedding=None, metadata={'file_path': '/content/mixed_data/frame0006.png', 'file_name': 'frame0006.png', 'file_type': 'image/png', 'file_size': 55069, 'creation_date': '2024-04-20', 'last_modified_date': '2024-04-20'}, excluded_embed_metadata_keys=['file_name', 'file_type', 'file_size', 'creation_date', 'last_modified_date', 'last_accessed_date'], excluded_llm_metadata_keys=['file_name', 'file_type', 'file_size', 'creation_date', 'last_modified_date', 'last_accessed_date'], relationships={}, text='', start_char_idx=None, end_char_idx=None, text_template='{metadata_str}\\n\\n{content}', metadata_template='{key}: {value}', metadata_seperator='\\n', image=None, image_path='/content/mixed_data/frame0006.png', image_url=None, image_mimetype=None, text_embedding=None),\n",
              " ImageDocument(id_='b9d5ae5f-2f06-43a9-9ffa-dade5ab369df', embedding=None, metadata={'file_path': '/content/mixed_data/frame0007.png', 'file_name': 'frame0007.png', 'file_type': 'image/png', 'file_size': 106037, 'creation_date': '2024-04-20', 'last_modified_date': '2024-04-20'}, excluded_embed_metadata_keys=['file_name', 'file_type', 'file_size', 'creation_date', 'last_modified_date', 'last_accessed_date'], excluded_llm_metadata_keys=['file_name', 'file_type', 'file_size', 'creation_date', 'last_modified_date', 'last_accessed_date'], relationships={}, text='', start_char_idx=None, end_char_idx=None, text_template='{metadata_str}\\n\\n{content}', metadata_template='{key}: {value}', metadata_seperator='\\n', image=None, image_path='/content/mixed_data/frame0007.png', image_url=None, image_mimetype=None, text_embedding=None),\n",
              " ImageDocument(id_='5fb37172-5add-4d14-bce3-fbb3d9ec5831', embedding=None, metadata={'file_path': '/content/mixed_data/frame0008.png', 'file_name': 'frame0008.png', 'file_type': 'image/png', 'file_size': 16438, 'creation_date': '2024-04-20', 'last_modified_date': '2024-04-20'}, excluded_embed_metadata_keys=['file_name', 'file_type', 'file_size', 'creation_date', 'last_modified_date', 'last_accessed_date'], excluded_llm_metadata_keys=['file_name', 'file_type', 'file_size', 'creation_date', 'last_modified_date', 'last_accessed_date'], relationships={}, text='', start_char_idx=None, end_char_idx=None, text_template='{metadata_str}\\n\\n{content}', metadata_template='{key}: {value}', metadata_seperator='\\n', image=None, image_path='/content/mixed_data/frame0008.png', image_url=None, image_mimetype=None, text_embedding=None),\n",
              " ImageDocument(id_='d04ad439-08e5-4d9a-ba0c-f7c37fb6d116', embedding=None, metadata={'file_path': '/content/mixed_data/frame0009.png', 'file_name': 'frame0009.png', 'file_type': 'image/png', 'file_size': 19626, 'creation_date': '2024-04-20', 'last_modified_date': '2024-04-20'}, excluded_embed_metadata_keys=['file_name', 'file_type', 'file_size', 'creation_date', 'last_modified_date', 'last_accessed_date'], excluded_llm_metadata_keys=['file_name', 'file_type', 'file_size', 'creation_date', 'last_modified_date', 'last_accessed_date'], relationships={}, text='', start_char_idx=None, end_char_idx=None, text_template='{metadata_str}\\n\\n{content}', metadata_template='{key}: {value}', metadata_seperator='\\n', image=None, image_path='/content/mixed_data/frame0009.png', image_url=None, image_mimetype=None, text_embedding=None),\n",
              " ImageDocument(id_='d82dd1eb-03d7-4e8f-8676-e9db448df9ba', embedding=None, metadata={'file_path': '/content/mixed_data/frame0010.png', 'file_name': 'frame0010.png', 'file_type': 'image/png', 'file_size': 19161, 'creation_date': '2024-04-20', 'last_modified_date': '2024-04-20'}, excluded_embed_metadata_keys=['file_name', 'file_type', 'file_size', 'creation_date', 'last_modified_date', 'last_accessed_date'], excluded_llm_metadata_keys=['file_name', 'file_type', 'file_size', 'creation_date', 'last_modified_date', 'last_accessed_date'], relationships={}, text='', start_char_idx=None, end_char_idx=None, text_template='{metadata_str}\\n\\n{content}', metadata_template='{key}: {value}', metadata_seperator='\\n', image=None, image_path='/content/mixed_data/frame0010.png', image_url=None, image_mimetype=None, text_embedding=None),\n",
              " ImageDocument(id_='be91ff9a-be92-4d6b-a563-3785d4edd01e', embedding=None, metadata={'file_path': '/content/mixed_data/frame0011.png', 'file_name': 'frame0011.png', 'file_type': 'image/png', 'file_size': 12756, 'creation_date': '2024-04-20', 'last_modified_date': '2024-04-20'}, excluded_embed_metadata_keys=['file_name', 'file_type', 'file_size', 'creation_date', 'last_modified_date', 'last_accessed_date'], excluded_llm_metadata_keys=['file_name', 'file_type', 'file_size', 'creation_date', 'last_modified_date', 'last_accessed_date'], relationships={}, text='', start_char_idx=None, end_char_idx=None, text_template='{metadata_str}\\n\\n{content}', metadata_template='{key}: {value}', metadata_seperator='\\n', image=None, image_path='/content/mixed_data/frame0011.png', image_url=None, image_mimetype=None, text_embedding=None),\n",
              " ImageDocument(id_='94ee75c5-6801-49ad-9926-426207ecc0c1', embedding=None, metadata={'file_path': '/content/mixed_data/frame0012.png', 'file_name': 'frame0012.png', 'file_type': 'image/png', 'file_size': 12022, 'creation_date': '2024-04-20', 'last_modified_date': '2024-04-20'}, excluded_embed_metadata_keys=['file_name', 'file_type', 'file_size', 'creation_date', 'last_modified_date', 'last_accessed_date'], excluded_llm_metadata_keys=['file_name', 'file_type', 'file_size', 'creation_date', 'last_modified_date', 'last_accessed_date'], relationships={}, text='', start_char_idx=None, end_char_idx=None, text_template='{metadata_str}\\n\\n{content}', metadata_template='{key}: {value}', metadata_seperator='\\n', image=None, image_path='/content/mixed_data/frame0012.png', image_url=None, image_mimetype=None, text_embedding=None),\n",
              " ImageDocument(id_='0d0964f1-27a9-424c-a9ad-7ffc29858df4', embedding=None, metadata={'file_path': '/content/mixed_data/frame0013.png', 'file_name': 'frame0013.png', 'file_type': 'image/png', 'file_size': 77130, 'creation_date': '2024-04-20', 'last_modified_date': '2024-04-20'}, excluded_embed_metadata_keys=['file_name', 'file_type', 'file_size', 'creation_date', 'last_modified_date', 'last_accessed_date'], excluded_llm_metadata_keys=['file_name', 'file_type', 'file_size', 'creation_date', 'last_modified_date', 'last_accessed_date'], relationships={}, text='', start_char_idx=None, end_char_idx=None, text_template='{metadata_str}\\n\\n{content}', metadata_template='{key}: {value}', metadata_seperator='\\n', image=None, image_path='/content/mixed_data/frame0013.png', image_url=None, image_mimetype=None, text_embedding=None),\n",
              " ImageDocument(id_='20b62040-200f-4e47-b020-f2e5d52c5ffd', embedding=None, metadata={'file_path': '/content/mixed_data/frame0014.png', 'file_name': 'frame0014.png', 'file_type': 'image/png', 'file_size': 75105, 'creation_date': '2024-04-20', 'last_modified_date': '2024-04-20'}, excluded_embed_metadata_keys=['file_name', 'file_type', 'file_size', 'creation_date', 'last_modified_date', 'last_accessed_date'], excluded_llm_metadata_keys=['file_name', 'file_type', 'file_size', 'creation_date', 'last_modified_date', 'last_accessed_date'], relationships={}, text='', start_char_idx=None, end_char_idx=None, text_template='{metadata_str}\\n\\n{content}', metadata_template='{key}: {value}', metadata_seperator='\\n', image=None, image_path='/content/mixed_data/frame0014.png', image_url=None, image_mimetype=None, text_embedding=None),\n",
              " ImageDocument(id_='9708bd70-6d99-41a9-9dab-36cd10333f11', embedding=None, metadata={'file_path': '/content/mixed_data/frame0015.png', 'file_name': 'frame0015.png', 'file_type': 'image/png', 'file_size': 71384, 'creation_date': '2024-04-20', 'last_modified_date': '2024-04-20'}, excluded_embed_metadata_keys=['file_name', 'file_type', 'file_size', 'creation_date', 'last_modified_date', 'last_accessed_date'], excluded_llm_metadata_keys=['file_name', 'file_type', 'file_size', 'creation_date', 'last_modified_date', 'last_accessed_date'], relationships={}, text='', start_char_idx=None, end_char_idx=None, text_template='{metadata_str}\\n\\n{content}', metadata_template='{key}: {value}', metadata_seperator='\\n', image=None, image_path='/content/mixed_data/frame0015.png', image_url=None, image_mimetype=None, text_embedding=None),\n",
              " ImageDocument(id_='8851e25f-9e3e-4c84-a1a7-c224cde9170a', embedding=None, metadata={'file_path': '/content/mixed_data/frame0016.png', 'file_name': 'frame0016.png', 'file_type': 'image/png', 'file_size': 89287, 'creation_date': '2024-04-20', 'last_modified_date': '2024-04-20'}, excluded_embed_metadata_keys=['file_name', 'file_type', 'file_size', 'creation_date', 'last_modified_date', 'last_accessed_date'], excluded_llm_metadata_keys=['file_name', 'file_type', 'file_size', 'creation_date', 'last_modified_date', 'last_accessed_date'], relationships={}, text='', start_char_idx=None, end_char_idx=None, text_template='{metadata_str}\\n\\n{content}', metadata_template='{key}: {value}', metadata_seperator='\\n', image=None, image_path='/content/mixed_data/frame0016.png', image_url=None, image_mimetype=None, text_embedding=None),\n",
              " ImageDocument(id_='9733e223-4496-47e2-bad6-fc09b9bffcea', embedding=None, metadata={'file_path': '/content/mixed_data/frame0017.png', 'file_name': 'frame0017.png', 'file_type': 'image/png', 'file_size': 18400, 'creation_date': '2024-04-20', 'last_modified_date': '2024-04-20'}, excluded_embed_metadata_keys=['file_name', 'file_type', 'file_size', 'creation_date', 'last_modified_date', 'last_accessed_date'], excluded_llm_metadata_keys=['file_name', 'file_type', 'file_size', 'creation_date', 'last_modified_date', 'last_accessed_date'], relationships={}, text='', start_char_idx=None, end_char_idx=None, text_template='{metadata_str}\\n\\n{content}', metadata_template='{key}: {value}', metadata_seperator='\\n', image=None, image_path='/content/mixed_data/frame0017.png', image_url=None, image_mimetype=None, text_embedding=None),\n",
              " ImageDocument(id_='aaaddc06-6b06-48c3-8cfb-1bd7a8309dad', embedding=None, metadata={'file_path': '/content/mixed_data/frame0018.png', 'file_name': 'frame0018.png', 'file_type': 'image/png', 'file_size': 33208, 'creation_date': '2024-04-20', 'last_modified_date': '2024-04-20'}, excluded_embed_metadata_keys=['file_name', 'file_type', 'file_size', 'creation_date', 'last_modified_date', 'last_accessed_date'], excluded_llm_metadata_keys=['file_name', 'file_type', 'file_size', 'creation_date', 'last_modified_date', 'last_accessed_date'], relationships={}, text='', start_char_idx=None, end_char_idx=None, text_template='{metadata_str}\\n\\n{content}', metadata_template='{key}: {value}', metadata_seperator='\\n', image=None, image_path='/content/mixed_data/frame0018.png', image_url=None, image_mimetype=None, text_embedding=None),\n",
              " ImageDocument(id_='0393b7f9-94cc-40d7-9b64-536af15141a3', embedding=None, metadata={'file_path': '/content/mixed_data/frame0019.png', 'file_name': 'frame0019.png', 'file_type': 'image/png', 'file_size': 480515, 'creation_date': '2024-04-20', 'last_modified_date': '2024-04-20'}, excluded_embed_metadata_keys=['file_name', 'file_type', 'file_size', 'creation_date', 'last_modified_date', 'last_accessed_date'], excluded_llm_metadata_keys=['file_name', 'file_type', 'file_size', 'creation_date', 'last_modified_date', 'last_accessed_date'], relationships={}, text='', start_char_idx=None, end_char_idx=None, text_template='{metadata_str}\\n\\n{content}', metadata_template='{key}: {value}', metadata_seperator='\\n', image=None, image_path='/content/mixed_data/frame0019.png', image_url=None, image_mimetype=None, text_embedding=None),\n",
              " ImageDocument(id_='e339426f-ab68-404b-bdb8-812c083cb64f', embedding=None, metadata={'file_path': '/content/mixed_data/frame0020.png', 'file_name': 'frame0020.png', 'file_type': 'image/png', 'file_size': 61079, 'creation_date': '2024-04-20', 'last_modified_date': '2024-04-20'}, excluded_embed_metadata_keys=['file_name', 'file_type', 'file_size', 'creation_date', 'last_modified_date', 'last_accessed_date'], excluded_llm_metadata_keys=['file_name', 'file_type', 'file_size', 'creation_date', 'last_modified_date', 'last_accessed_date'], relationships={}, text='', start_char_idx=None, end_char_idx=None, text_template='{metadata_str}\\n\\n{content}', metadata_template='{key}: {value}', metadata_seperator='\\n', image=None, image_path='/content/mixed_data/frame0020.png', image_url=None, image_mimetype=None, text_embedding=None),\n",
              " ImageDocument(id_='c11d5109-240a-486f-9d2a-cb5000f5666a', embedding=None, metadata={'file_path': '/content/mixed_data/frame0021.png', 'file_name': 'frame0021.png', 'file_type': 'image/png', 'file_size': 58073, 'creation_date': '2024-04-20', 'last_modified_date': '2024-04-20'}, excluded_embed_metadata_keys=['file_name', 'file_type', 'file_size', 'creation_date', 'last_modified_date', 'last_accessed_date'], excluded_llm_metadata_keys=['file_name', 'file_type', 'file_size', 'creation_date', 'last_modified_date', 'last_accessed_date'], relationships={}, text='', start_char_idx=None, end_char_idx=None, text_template='{metadata_str}\\n\\n{content}', metadata_template='{key}: {value}', metadata_seperator='\\n', image=None, image_path='/content/mixed_data/frame0021.png', image_url=None, image_mimetype=None, text_embedding=None),\n",
              " ImageDocument(id_='b30ec182-cbd3-49f5-b6e8-162c10e8a1e7', embedding=None, metadata={'file_path': '/content/mixed_data/frame0022.png', 'file_name': 'frame0022.png', 'file_type': 'image/png', 'file_size': 58073, 'creation_date': '2024-04-20', 'last_modified_date': '2024-04-20'}, excluded_embed_metadata_keys=['file_name', 'file_type', 'file_size', 'creation_date', 'last_modified_date', 'last_accessed_date'], excluded_llm_metadata_keys=['file_name', 'file_type', 'file_size', 'creation_date', 'last_modified_date', 'last_accessed_date'], relationships={}, text='', start_char_idx=None, end_char_idx=None, text_template='{metadata_str}\\n\\n{content}', metadata_template='{key}: {value}', metadata_seperator='\\n', image=None, image_path='/content/mixed_data/frame0022.png', image_url=None, image_mimetype=None, text_embedding=None),\n",
              " ImageDocument(id_='132bcdc2-f659-4558-8daa-cda86964b848', embedding=None, metadata={'file_path': '/content/mixed_data/frame0023.png', 'file_name': 'frame0023.png', 'file_type': 'image/png', 'file_size': 64512, 'creation_date': '2024-04-20', 'last_modified_date': '2024-04-20'}, excluded_embed_metadata_keys=['file_name', 'file_type', 'file_size', 'creation_date', 'last_modified_date', 'last_accessed_date'], excluded_llm_metadata_keys=['file_name', 'file_type', 'file_size', 'creation_date', 'last_modified_date', 'last_accessed_date'], relationships={}, text='', start_char_idx=None, end_char_idx=None, text_template='{metadata_str}\\n\\n{content}', metadata_template='{key}: {value}', metadata_seperator='\\n', image=None, image_path='/content/mixed_data/frame0023.png', image_url=None, image_mimetype=None, text_embedding=None),\n",
              " ImageDocument(id_='6ed4c4d1-0be8-4c51-9bf4-0c55494cc0a0', embedding=None, metadata={'file_path': '/content/mixed_data/frame0024.png', 'file_name': 'frame0024.png', 'file_type': 'image/png', 'file_size': 74971, 'creation_date': '2024-04-20', 'last_modified_date': '2024-04-20'}, excluded_embed_metadata_keys=['file_name', 'file_type', 'file_size', 'creation_date', 'last_modified_date', 'last_accessed_date'], excluded_llm_metadata_keys=['file_name', 'file_type', 'file_size', 'creation_date', 'last_modified_date', 'last_accessed_date'], relationships={}, text='', start_char_idx=None, end_char_idx=None, text_template='{metadata_str}\\n\\n{content}', metadata_template='{key}: {value}', metadata_seperator='\\n', image=None, image_path='/content/mixed_data/frame0024.png', image_url=None, image_mimetype=None, text_embedding=None),\n",
              " ImageDocument(id_='ab9f4484-b6ad-4385-9709-e136efd40914', embedding=None, metadata={'file_path': '/content/mixed_data/frame0025.png', 'file_name': 'frame0025.png', 'file_type': 'image/png', 'file_size': 83377, 'creation_date': '2024-04-20', 'last_modified_date': '2024-04-20'}, excluded_embed_metadata_keys=['file_name', 'file_type', 'file_size', 'creation_date', 'last_modified_date', 'last_accessed_date'], excluded_llm_metadata_keys=['file_name', 'file_type', 'file_size', 'creation_date', 'last_modified_date', 'last_accessed_date'], relationships={}, text='', start_char_idx=None, end_char_idx=None, text_template='{metadata_str}\\n\\n{content}', metadata_template='{key}: {value}', metadata_seperator='\\n', image=None, image_path='/content/mixed_data/frame0025.png', image_url=None, image_mimetype=None, text_embedding=None),\n",
              " ImageDocument(id_='4c20e403-b828-451c-81f9-fa534fe74436', embedding=None, metadata={'file_path': '/content/mixed_data/frame0026.png', 'file_name': 'frame0026.png', 'file_type': 'image/png', 'file_size': 71661, 'creation_date': '2024-04-20', 'last_modified_date': '2024-04-20'}, excluded_embed_metadata_keys=['file_name', 'file_type', 'file_size', 'creation_date', 'last_modified_date', 'last_accessed_date'], excluded_llm_metadata_keys=['file_name', 'file_type', 'file_size', 'creation_date', 'last_modified_date', 'last_accessed_date'], relationships={}, text='', start_char_idx=None, end_char_idx=None, text_template='{metadata_str}\\n\\n{content}', metadata_template='{key}: {value}', metadata_seperator='\\n', image=None, image_path='/content/mixed_data/frame0026.png', image_url=None, image_mimetype=None, text_embedding=None),\n",
              " ImageDocument(id_='3aa4e844-2bc8-4079-a1c1-c3a1f73778c9', embedding=None, metadata={'file_path': '/content/mixed_data/frame0027.png', 'file_name': 'frame0027.png', 'file_type': 'image/png', 'file_size': 70238, 'creation_date': '2024-04-20', 'last_modified_date': '2024-04-20'}, excluded_embed_metadata_keys=['file_name', 'file_type', 'file_size', 'creation_date', 'last_modified_date', 'last_accessed_date'], excluded_llm_metadata_keys=['file_name', 'file_type', 'file_size', 'creation_date', 'last_modified_date', 'last_accessed_date'], relationships={}, text='', start_char_idx=None, end_char_idx=None, text_template='{metadata_str}\\n\\n{content}', metadata_template='{key}: {value}', metadata_seperator='\\n', image=None, image_path='/content/mixed_data/frame0027.png', image_url=None, image_mimetype=None, text_embedding=None),\n",
              " ImageDocument(id_='00f0edc1-2529-45f8-917a-4a958932cde1', embedding=None, metadata={'file_path': '/content/mixed_data/frame0028.png', 'file_name': 'frame0028.png', 'file_type': 'image/png', 'file_size': 65903, 'creation_date': '2024-04-20', 'last_modified_date': '2024-04-20'}, excluded_embed_metadata_keys=['file_name', 'file_type', 'file_size', 'creation_date', 'last_modified_date', 'last_accessed_date'], excluded_llm_metadata_keys=['file_name', 'file_type', 'file_size', 'creation_date', 'last_modified_date', 'last_accessed_date'], relationships={}, text='', start_char_idx=None, end_char_idx=None, text_template='{metadata_str}\\n\\n{content}', metadata_template='{key}: {value}', metadata_seperator='\\n', image=None, image_path='/content/mixed_data/frame0028.png', image_url=None, image_mimetype=None, text_embedding=None),\n",
              " ImageDocument(id_='c9340d8b-c7dc-44f4-a04a-aabd400dd8be', embedding=None, metadata={'file_path': '/content/mixed_data/frame0029.png', 'file_name': 'frame0029.png', 'file_type': 'image/png', 'file_size': 214295, 'creation_date': '2024-04-20', 'last_modified_date': '2024-04-20'}, excluded_embed_metadata_keys=['file_name', 'file_type', 'file_size', 'creation_date', 'last_modified_date', 'last_accessed_date'], excluded_llm_metadata_keys=['file_name', 'file_type', 'file_size', 'creation_date', 'last_modified_date', 'last_accessed_date'], relationships={}, text='', start_char_idx=None, end_char_idx=None, text_template='{metadata_str}\\n\\n{content}', metadata_template='{key}: {value}', metadata_seperator='\\n', image=None, image_path='/content/mixed_data/frame0029.png', image_url=None, image_mimetype=None, text_embedding=None),\n",
              " ImageDocument(id_='4af290af-5b02-4461-94fb-6167b3a1762d', embedding=None, metadata={'file_path': '/content/mixed_data/frame0030.png', 'file_name': 'frame0030.png', 'file_type': 'image/png', 'file_size': 276264, 'creation_date': '2024-04-20', 'last_modified_date': '2024-04-20'}, excluded_embed_metadata_keys=['file_name', 'file_type', 'file_size', 'creation_date', 'last_modified_date', 'last_accessed_date'], excluded_llm_metadata_keys=['file_name', 'file_type', 'file_size', 'creation_date', 'last_modified_date', 'last_accessed_date'], relationships={}, text='', start_char_idx=None, end_char_idx=None, text_template='{metadata_str}\\n\\n{content}', metadata_template='{key}: {value}', metadata_seperator='\\n', image=None, image_path='/content/mixed_data/frame0030.png', image_url=None, image_mimetype=None, text_embedding=None),\n",
              " ImageDocument(id_='1f69bfc4-92fd-4395-9ae8-5a1e80ef7017', embedding=None, metadata={'file_path': '/content/mixed_data/frame0031.png', 'file_name': 'frame0031.png', 'file_type': 'image/png', 'file_size': 275569, 'creation_date': '2024-04-20', 'last_modified_date': '2024-04-20'}, excluded_embed_metadata_keys=['file_name', 'file_type', 'file_size', 'creation_date', 'last_modified_date', 'last_accessed_date'], excluded_llm_metadata_keys=['file_name', 'file_type', 'file_size', 'creation_date', 'last_modified_date', 'last_accessed_date'], relationships={}, text='', start_char_idx=None, end_char_idx=None, text_template='{metadata_str}\\n\\n{content}', metadata_template='{key}: {value}', metadata_seperator='\\n', image=None, image_path='/content/mixed_data/frame0031.png', image_url=None, image_mimetype=None, text_embedding=None),\n",
              " ImageDocument(id_='8829218a-d126-4614-8df2-6beb3a2a4ddd', embedding=None, metadata={'file_path': '/content/mixed_data/frame0032.png', 'file_name': 'frame0032.png', 'file_type': 'image/png', 'file_size': 268317, 'creation_date': '2024-04-20', 'last_modified_date': '2024-04-20'}, excluded_embed_metadata_keys=['file_name', 'file_type', 'file_size', 'creation_date', 'last_modified_date', 'last_accessed_date'], excluded_llm_metadata_keys=['file_name', 'file_type', 'file_size', 'creation_date', 'last_modified_date', 'last_accessed_date'], relationships={}, text='', start_char_idx=None, end_char_idx=None, text_template='{metadata_str}\\n\\n{content}', metadata_template='{key}: {value}', metadata_seperator='\\n', image=None, image_path='/content/mixed_data/frame0032.png', image_url=None, image_mimetype=None, text_embedding=None),\n",
              " ImageDocument(id_='233b3fd6-08c2-4b28-bce3-ef165eb1fd9d', embedding=None, metadata={'file_path': '/content/mixed_data/frame0033.png', 'file_name': 'frame0033.png', 'file_type': 'image/png', 'file_size': 128474, 'creation_date': '2024-04-20', 'last_modified_date': '2024-04-20'}, excluded_embed_metadata_keys=['file_name', 'file_type', 'file_size', 'creation_date', 'last_modified_date', 'last_accessed_date'], excluded_llm_metadata_keys=['file_name', 'file_type', 'file_size', 'creation_date', 'last_modified_date', 'last_accessed_date'], relationships={}, text='', start_char_idx=None, end_char_idx=None, text_template='{metadata_str}\\n\\n{content}', metadata_template='{key}: {value}', metadata_seperator='\\n', image=None, image_path='/content/mixed_data/frame0033.png', image_url=None, image_mimetype=None, text_embedding=None),\n",
              " ImageDocument(id_='5b56e584-0c1c-4d50-8bee-f80cb3a556a5', embedding=None, metadata={'file_path': '/content/mixed_data/frame0034.png', 'file_name': 'frame0034.png', 'file_type': 'image/png', 'file_size': 32376, 'creation_date': '2024-04-20', 'last_modified_date': '2024-04-20'}, excluded_embed_metadata_keys=['file_name', 'file_type', 'file_size', 'creation_date', 'last_modified_date', 'last_accessed_date'], excluded_llm_metadata_keys=['file_name', 'file_type', 'file_size', 'creation_date', 'last_modified_date', 'last_accessed_date'], relationships={}, text='', start_char_idx=None, end_char_idx=None, text_template='{metadata_str}\\n\\n{content}', metadata_template='{key}: {value}', metadata_seperator='\\n', image=None, image_path='/content/mixed_data/frame0034.png', image_url=None, image_mimetype=None, text_embedding=None),\n",
              " ImageDocument(id_='d5f9773d-9514-49bc-b8ac-9becfb409b4c', embedding=None, metadata={'file_path': '/content/mixed_data/frame0035.png', 'file_name': 'frame0035.png', 'file_type': 'image/png', 'file_size': 48350, 'creation_date': '2024-04-20', 'last_modified_date': '2024-04-20'}, excluded_embed_metadata_keys=['file_name', 'file_type', 'file_size', 'creation_date', 'last_modified_date', 'last_accessed_date'], excluded_llm_metadata_keys=['file_name', 'file_type', 'file_size', 'creation_date', 'last_modified_date', 'last_accessed_date'], relationships={}, text='', start_char_idx=None, end_char_idx=None, text_template='{metadata_str}\\n\\n{content}', metadata_template='{key}: {value}', metadata_seperator='\\n', image=None, image_path='/content/mixed_data/frame0035.png', image_url=None, image_mimetype=None, text_embedding=None),\n",
              " ImageDocument(id_='ecd37269-6b43-4c16-a555-52bbf07d5ade', embedding=None, metadata={'file_path': '/content/mixed_data/frame0036.png', 'file_name': 'frame0036.png', 'file_type': 'image/png', 'file_size': 81497, 'creation_date': '2024-04-20', 'last_modified_date': '2024-04-20'}, excluded_embed_metadata_keys=['file_name', 'file_type', 'file_size', 'creation_date', 'last_modified_date', 'last_accessed_date'], excluded_llm_metadata_keys=['file_name', 'file_type', 'file_size', 'creation_date', 'last_modified_date', 'last_accessed_date'], relationships={}, text='', start_char_idx=None, end_char_idx=None, text_template='{metadata_str}\\n\\n{content}', metadata_template='{key}: {value}', metadata_seperator='\\n', image=None, image_path='/content/mixed_data/frame0036.png', image_url=None, image_mimetype=None, text_embedding=None),\n",
              " ImageDocument(id_='ffe15f2c-2523-455c-80bc-03679abb8371', embedding=None, metadata={'file_path': '/content/mixed_data/frame0037.png', 'file_name': 'frame0037.png', 'file_type': 'image/png', 'file_size': 79921, 'creation_date': '2024-04-20', 'last_modified_date': '2024-04-20'}, excluded_embed_metadata_keys=['file_name', 'file_type', 'file_size', 'creation_date', 'last_modified_date', 'last_accessed_date'], excluded_llm_metadata_keys=['file_name', 'file_type', 'file_size', 'creation_date', 'last_modified_date', 'last_accessed_date'], relationships={}, text='', start_char_idx=None, end_char_idx=None, text_template='{metadata_str}\\n\\n{content}', metadata_template='{key}: {value}', metadata_seperator='\\n', image=None, image_path='/content/mixed_data/frame0037.png', image_url=None, image_mimetype=None, text_embedding=None),\n",
              " ImageDocument(id_='b4782c6f-3155-421a-a509-8793aac5a05f', embedding=None, metadata={'file_path': '/content/mixed_data/frame0038.png', 'file_name': 'frame0038.png', 'file_type': 'image/png', 'file_size': 76762, 'creation_date': '2024-04-20', 'last_modified_date': '2024-04-20'}, excluded_embed_metadata_keys=['file_name', 'file_type', 'file_size', 'creation_date', 'last_modified_date', 'last_accessed_date'], excluded_llm_metadata_keys=['file_name', 'file_type', 'file_size', 'creation_date', 'last_modified_date', 'last_accessed_date'], relationships={}, text='', start_char_idx=None, end_char_idx=None, text_template='{metadata_str}\\n\\n{content}', metadata_template='{key}: {value}', metadata_seperator='\\n', image=None, image_path='/content/mixed_data/frame0038.png', image_url=None, image_mimetype=None, text_embedding=None),\n",
              " ImageDocument(id_='720ac795-f5cb-44fb-878e-fda25140c5a5', embedding=None, metadata={'file_path': '/content/mixed_data/frame0039.png', 'file_name': 'frame0039.png', 'file_type': 'image/png', 'file_size': 98337, 'creation_date': '2024-04-20', 'last_modified_date': '2024-04-20'}, excluded_embed_metadata_keys=['file_name', 'file_type', 'file_size', 'creation_date', 'last_modified_date', 'last_accessed_date'], excluded_llm_metadata_keys=['file_name', 'file_type', 'file_size', 'creation_date', 'last_modified_date', 'last_accessed_date'], relationships={}, text='', start_char_idx=None, end_char_idx=None, text_template='{metadata_str}\\n\\n{content}', metadata_template='{key}: {value}', metadata_seperator='\\n', image=None, image_path='/content/mixed_data/frame0039.png', image_url=None, image_mimetype=None, text_embedding=None),\n",
              " ImageDocument(id_='2246642a-e9e3-4c48-a8f3-4b2942cb9204', embedding=None, metadata={'file_path': '/content/mixed_data/frame0040.png', 'file_name': 'frame0040.png', 'file_type': 'image/png', 'file_size': 266352, 'creation_date': '2024-04-20', 'last_modified_date': '2024-04-20'}, excluded_embed_metadata_keys=['file_name', 'file_type', 'file_size', 'creation_date', 'last_modified_date', 'last_accessed_date'], excluded_llm_metadata_keys=['file_name', 'file_type', 'file_size', 'creation_date', 'last_modified_date', 'last_accessed_date'], relationships={}, text='', start_char_idx=None, end_char_idx=None, text_template='{metadata_str}\\n\\n{content}', metadata_template='{key}: {value}', metadata_seperator='\\n', image=None, image_path='/content/mixed_data/frame0040.png', image_url=None, image_mimetype=None, text_embedding=None),\n",
              " ImageDocument(id_='7455b6f7-6f7d-4ff9-b500-9bb4f09ef421', embedding=None, metadata={'file_path': '/content/mixed_data/frame0041.png', 'file_name': 'frame0041.png', 'file_type': 'image/png', 'file_size': 266334, 'creation_date': '2024-04-20', 'last_modified_date': '2024-04-20'}, excluded_embed_metadata_keys=['file_name', 'file_type', 'file_size', 'creation_date', 'last_modified_date', 'last_accessed_date'], excluded_llm_metadata_keys=['file_name', 'file_type', 'file_size', 'creation_date', 'last_modified_date', 'last_accessed_date'], relationships={}, text='', start_char_idx=None, end_char_idx=None, text_template='{metadata_str}\\n\\n{content}', metadata_template='{key}: {value}', metadata_seperator='\\n', image=None, image_path='/content/mixed_data/frame0041.png', image_url=None, image_mimetype=None, text_embedding=None),\n",
              " ImageDocument(id_='98480f31-42a9-4f10-9556-4cb2de20a8f7', embedding=None, metadata={'file_path': '/content/mixed_data/frame0042.png', 'file_name': 'frame0042.png', 'file_type': 'image/png', 'file_size': 266345, 'creation_date': '2024-04-20', 'last_modified_date': '2024-04-20'}, excluded_embed_metadata_keys=['file_name', 'file_type', 'file_size', 'creation_date', 'last_modified_date', 'last_accessed_date'], excluded_llm_metadata_keys=['file_name', 'file_type', 'file_size', 'creation_date', 'last_modified_date', 'last_accessed_date'], relationships={}, text='', start_char_idx=None, end_char_idx=None, text_template='{metadata_str}\\n\\n{content}', metadata_template='{key}: {value}', metadata_seperator='\\n', image=None, image_path='/content/mixed_data/frame0042.png', image_url=None, image_mimetype=None, text_embedding=None),\n",
              " ImageDocument(id_='64f04d4d-e71f-4486-8520-d87d59501b58', embedding=None, metadata={'file_path': '/content/mixed_data/frame0043.png', 'file_name': 'frame0043.png', 'file_type': 'image/png', 'file_size': 408080, 'creation_date': '2024-04-20', 'last_modified_date': '2024-04-20'}, excluded_embed_metadata_keys=['file_name', 'file_type', 'file_size', 'creation_date', 'last_modified_date', 'last_accessed_date'], excluded_llm_metadata_keys=['file_name', 'file_type', 'file_size', 'creation_date', 'last_modified_date', 'last_accessed_date'], relationships={}, text='', start_char_idx=None, end_char_idx=None, text_template='{metadata_str}\\n\\n{content}', metadata_template='{key}: {value}', metadata_seperator='\\n', image=None, image_path='/content/mixed_data/frame0043.png', image_url=None, image_mimetype=None, text_embedding=None),\n",
              " ImageDocument(id_='fc86ea71-cae7-4cff-9bad-1072ea6d5202', embedding=None, metadata={'file_path': '/content/mixed_data/frame0044.png', 'file_name': 'frame0044.png', 'file_type': 'image/png', 'file_size': 266346, 'creation_date': '2024-04-20', 'last_modified_date': '2024-04-20'}, excluded_embed_metadata_keys=['file_name', 'file_type', 'file_size', 'creation_date', 'last_modified_date', 'last_accessed_date'], excluded_llm_metadata_keys=['file_name', 'file_type', 'file_size', 'creation_date', 'last_modified_date', 'last_accessed_date'], relationships={}, text='', start_char_idx=None, end_char_idx=None, text_template='{metadata_str}\\n\\n{content}', metadata_template='{key}: {value}', metadata_seperator='\\n', image=None, image_path='/content/mixed_data/frame0044.png', image_url=None, image_mimetype=None, text_embedding=None),\n",
              " ImageDocument(id_='a05956b7-a0fe-4f7e-be37-fa97945a13d2', embedding=None, metadata={'file_path': '/content/mixed_data/frame0045.png', 'file_name': 'frame0045.png', 'file_type': 'image/png', 'file_size': 266334, 'creation_date': '2024-04-20', 'last_modified_date': '2024-04-20'}, excluded_embed_metadata_keys=['file_name', 'file_type', 'file_size', 'creation_date', 'last_modified_date', 'last_accessed_date'], excluded_llm_metadata_keys=['file_name', 'file_type', 'file_size', 'creation_date', 'last_modified_date', 'last_accessed_date'], relationships={}, text='', start_char_idx=None, end_char_idx=None, text_template='{metadata_str}\\n\\n{content}', metadata_template='{key}: {value}', metadata_seperator='\\n', image=None, image_path='/content/mixed_data/frame0045.png', image_url=None, image_mimetype=None, text_embedding=None),\n",
              " ImageDocument(id_='186ad320-566e-435a-9878-1106d219331b', embedding=None, metadata={'file_path': '/content/mixed_data/frame0046.png', 'file_name': 'frame0046.png', 'file_type': 'image/png', 'file_size': 2820, 'creation_date': '2024-04-20', 'last_modified_date': '2024-04-20'}, excluded_embed_metadata_keys=['file_name', 'file_type', 'file_size', 'creation_date', 'last_modified_date', 'last_accessed_date'], excluded_llm_metadata_keys=['file_name', 'file_type', 'file_size', 'creation_date', 'last_modified_date', 'last_accessed_date'], relationships={}, text='', start_char_idx=None, end_char_idx=None, text_template='{metadata_str}\\n\\n{content}', metadata_template='{key}: {value}', metadata_seperator='\\n', image=None, image_path='/content/mixed_data/frame0046.png', image_url=None, image_mimetype=None, text_embedding=None),\n",
              " Document(id_='4ac1d519-6cd9-4f58-9a36-dd16210bfbe4', embedding=None, metadata={'file_path': '/content/mixed_data/output_text.txt', 'file_name': 'output_text.txt', 'file_type': 'text/plain', 'file_size': 3400, 'creation_date': '2024-04-20', 'last_modified_date': '2024-04-20'}, excluded_embed_metadata_keys=['file_name', 'file_type', 'file_size', 'creation_date', 'last_modified_date', 'last_accessed_date'], excluded_llm_metadata_keys=['file_name', 'file_type', 'file_size', 'creation_date', 'last_modified_date', 'last_accessed_date'], relationships={}, text=\" Lanyard regression is a statistical technique for modeling the relationship between an output variable and one or more input variables. In layman's terms, think of it as fitting a line through some data points as shown here, so you can make predictions on unknown data, assuming there is a linear relationship between the variables. You might be familiar with the linear function y equals mx plus b, where y is the output variable, also called the dependent variable. You may also see expressed as f of x, the function of the input variable. x on the other hand, would serve as the input variable, also called the independent variable. It's likely you'll see the coefficients m and b expressed as beta 1 and beta 0 respectively. So what do the m and b coefficients do? The m or beta 1 coefficient controls the slope of the line. The b or the beta 0 controls the intercept of the line. In machine learning, we also know it as the bias. These two coefficients are what we are solving for in linear regression. We can also extend to multiple input variables, so x1, x2, x3, with beta 1, beta 2, and beta 3, and so on, acting as slopes for each of those variables. In these higher dimensions, you would visualize the linear regression as a hyperplane. So how do we fit the line to these points? Well, you'll notice that there's these differences between the points and the line, these little red segments, these are called residuals. They are the differences between the data points and the predictions the line would produce. Take each of these residuals and square them. These are the squared errors, and notice that the large of the residuals are, the more amplified area of the squares are. If we total the areas of all of these squares for a given line, we will get the sum of the squared error, and this is known as our loss function. We need to find the beta 0 and beta 1 coefficients that will minimize that sum of squared error. The coefficients can be solved with a variety of techniques ranging from matrix decomposition to gradient descent, which is depicted right here. Thankfully, a lot of libraries are available to do this for us, and we will deep dive into these topics in other videos. To validate a linear regression, there are a number of techniques. Machine learning practitioners will often take a third of the data and put it into the test data set. The remaining two thirds will become the training data set. The training data set will then be used to fit the regression line. The test data set will then be used to validate the regression line. This is done to make sure that the regression performs well on data it has not seen before. The tricks used to evaluate the linear regression vary from the R square, standard error of the estimate, prediction intervals, as well as statistical significance. These are topics we will cover in future videos. If you enjoyed this video, please like and subscribe. Look at my two O'Reilly books, Essential Math for Data Science, and getting started with SQL. Chapter five of Essential Math for Data Science actually covers linear regression and much more depth. If you want live instruction, I also do teach on the O'Reilly platform. Promotional link below. I teach classes including machine learning from scratch, probability, and SQL. Comment on what topics you would like to see next, and I will see you again on 3 Minute Data Science.\", start_char_idx=None, end_char_idx=None, text_template='{metadata_str}\\n\\n{content}', metadata_template='{key}: {value}', metadata_seperator='\\n')]"
            ]
          },
          "metadata": {},
          "execution_count": 43
        }
      ]
    },
    {
      "cell_type": "code",
      "source": [
        "index = MultiModalVectorStoreIndex.from_documents(documents,storage_context=storage_context)"
      ],
      "metadata": {
        "colab": {
          "base_uri": "https://localhost:8080/"
        },
        "id": "41z19S9Xvnsd",
        "outputId": "ee61ddcc-b927-4107-ae36-522ec3084f20"
      },
      "execution_count": 44,
      "outputs": [
        {
          "output_type": "stream",
          "name": "stderr",
          "text": [
            "100%|███████████████████████████████████████| 338M/338M [00:06<00:00, 51.4MiB/s]\n"
          ]
        }
      ]
    },
    {
      "cell_type": "code",
      "source": [
        "retriever_engine=index.as_retriever(imilarity_top_k=5, image_similarity_top_k=5)"
      ],
      "metadata": {
        "id": "eGYmtUQXvr38"
      },
      "execution_count": 45,
      "outputs": []
    },
    {
      "cell_type": "markdown",
      "source": [
        "# RAG"
      ],
      "metadata": {
        "id": "GcOOUQmrvxci"
      }
    },
    {
      "cell_type": "code",
      "source": [
        "import json\n",
        "metadata_str=json.dumps(metadata_vid)"
      ],
      "metadata": {
        "id": "y43RfdRBvx4D"
      },
      "execution_count": 46,
      "outputs": []
    },
    {
      "cell_type": "code",
      "source": [
        "qa_tmpl_str=(\n",
        "    \"Given the provided information, including relevant images and retrieved context from the video, \\\n",
        "    accurately and precisely answer the query without any additional prior knowledge.\\n\"\n",
        "\n",
        "    \"---------------------\\n\"\n",
        "    \"Context: {context_str}\\n\"\n",
        "    \"Metadata for video: {metadata_str} \\n\"\n",
        "\n",
        "    \"---------------------\\n\"\n",
        "    \"Query: {query_str}\\n\"\n",
        "    \"Answer: \"\n",
        ")"
      ],
      "metadata": {
        "id": "59jJsxV1v33c"
      },
      "execution_count": 47,
      "outputs": []
    },
    {
      "cell_type": "code",
      "source": [
        "qa_tmpl_str2=(\n",
        "    \"Given the provided information, including relevant images and retrieved context from the video, \\\n",
        "    accurately and precisely answer the query without any additional prior knowledge.\\n\"\n",
        "\n",
        "    \"---------------------\\n\"\n",
        "    \"Metadata for video: {metadata_str} \\n\"\n",
        "\n",
        "    \"---------------------\\n\"\n",
        "    \"Query: {query_str}\\n\"\n",
        "    \"Answer: \"\n",
        ")"
      ],
      "metadata": {
        "id": "0OEjml7dv4bz"
      },
      "execution_count": 48,
      "outputs": []
    },
    {
      "cell_type": "code",
      "source": [
        "from llama_index.core.response.notebook_utils import display_source_node\n",
        "from llama_index.core.schema import ImageNode"
      ],
      "metadata": {
        "id": "pQy1PdE0v7I0"
      },
      "execution_count": 49,
      "outputs": []
    },
    {
      "cell_type": "code",
      "source": [
        "query_str=\"what is a O'Reilly platform.?\""
      ],
      "metadata": {
        "id": "DLxcMsqSv9jd"
      },
      "execution_count": 50,
      "outputs": []
    },
    {
      "cell_type": "code",
      "source": [
        "retrieval_results=retriever_engine.retrieve(query_str)"
      ],
      "metadata": {
        "id": "uBf54AaEv_rs"
      },
      "execution_count": 51,
      "outputs": []
    },
    {
      "cell_type": "code",
      "source": [
        "retrieval_results"
      ],
      "metadata": {
        "colab": {
          "base_uri": "https://localhost:8080/"
        },
        "id": "KTI95Db_wBug",
        "outputId": "7bf40bb0-ffa6-425d-bee3-1abee522c4c2"
      },
      "execution_count": 52,
      "outputs": [
        {
          "output_type": "execute_result",
          "data": {
            "text/plain": [
              "[NodeWithScore(node=TextNode(id_='5a5080c1-4a08-4d6b-9a1c-3b96a9b47751', embedding=[-0.011831889860332012, 0.0038376476150006056, -0.001850233180448413, -0.011338036507368088, -0.010082827880978584, 0.0011677560396492481, 0.0016093084122985601, 0.00849838275462389, -0.03259428218007088, -0.042553648352622986, -0.006865925621241331, 0.025419699028134346, -0.001395819941535592, 0.02853371575474739, 0.007867349311709404, -0.016804711893200874, 0.02399301342666149, 0.010727579705417156, 0.0436236634850502, -0.020138218998908997, -0.030728617683053017, 0.012943058274686337, -0.013231138698756695, -0.01629714109003544, -0.014417757280170918, -0.019520903006196022, 0.030344508588314056, -0.019685519859194756, 0.006968811620026827, -0.0025601466186344624, 0.012744145467877388, -0.006931086536496878, -0.009931928478181362, -0.019891291856765747, -0.010508089326322079, -0.02037142775952816, 0.011777017265558243, -0.001055438886396587, 0.023869551718235016, -0.01819024421274662, 0.021263105794787407, 0.020138218998908997, -0.0037107549142092466, -0.021139642223715782, 0.006934516131877899, -0.004355506971478462, 0.024637766182422638, -0.05640896037220955, -0.02273094654083252, 0.02371865138411522, 0.0033952377270907164, 0.011187137104570866, -0.03135965019464493, -0.01664009504020214, 0.0002259204920846969, 0.016845867037773132, 0.015323154628276825, 0.013025366701185703, 0.0005808771820738912, -0.025323672220110893, -0.011921057477593422, -0.0009979940950870514, -0.009767310693860054, -0.017161384224891663, 0.01713394746184349, -0.008985376916825771, 0.013937623240053654, 0.024624047800898552, -0.007407791446894407, 0.033335063606500626, -0.023389415815472603, 0.008923645131289959, 0.013656401075422764, 0.013711273670196533, 0.015446617268025875, 0.008313188329339027, -0.03371917083859444, -0.007044261321425438, 0.010672707110643387, 0.012325742281973362, 0.009767310693860054, -0.005041413940489292, 0.0007574981427751482, 0.023814678192138672, 0.023032745346426964, -0.030207328498363495, -0.003438106970861554, 0.034185588359832764, -0.013176266103982925, -0.02814960852265358, -0.007839912548661232, 0.004499547649174929, 0.024047886952757835, -0.00914999470114708, 0.009280316531658173, 0.0019788406789302826, 0.010652130469679832, 0.020083345472812653, 0.007695872336626053, -0.010562961921095848, 0.004516695160418749, -0.0025515726301819086, -0.02727164700627327, -0.009424356743693352, -0.04205979406833649, -0.006941375322639942, -0.004166882950812578, -0.016667531803250313, 0.017188820987939835, 0.0023835254833102226, -0.036325614899396896, 0.04351391643285751, -0.016489194706082344, -0.035667143762111664, 0.013196843676269054, -0.00452012475579977, 0.01456865668296814, -0.024335967376828194, -0.021125923842191696, 0.005603857338428497, 0.025927269831299782, 0.01174958050251007, 0.026860103011131287, -0.008470946922898293, 0.01551520824432373, 0.000653754745144397, -0.001841659308411181, 0.0001713694800855592, -0.010302317328751087, -0.01836857944726944, -0.0037519093602895737, 0.009794746525585651, -0.006114857736974955, 0.018066780641674995, -0.013045944273471832, 0.015021354891359806, 0.002280639484524727, -0.0004441245400812477, -0.0399746373295784, -0.03437764197587967, 0.030810926109552383, 0.009458652697503567, -0.0103640491142869, 0.0010905915405601263, -0.008930504322052002, 0.023938141763210297, 0.00581305893138051, 0.02054976299405098, -0.0032014693133533, -0.00650925375521183, 0.00662242854014039, -0.02041258104145527, 0.010912774130702019, -0.0012792159104719758, -0.0049968296661973, -0.010350330732762814, 0.016489194706082344, 0.013896468095481396, -0.024047886952757835, -0.007016825024038553, 0.012380614876747131, 0.03673715889453888, -0.01032975409179926, 0.01030917651951313, 0.02709331177175045, 0.03876744210720062, 0.0005491540068760514, -0.01681843027472496, -0.004863078240305185, 0.012943058274686337, 0.006800764240324497, 0.03964540362358093, -0.05042785406112671, 0.02691497653722763, 0.006018830928951502, -0.007750744931399822, -0.0032477679196745157, -0.003463828470557928, -0.02579008974134922, -0.019644366577267647, -0.005926233250647783, 0.01677727699279785, 0.01208567526191473, 0.02639368735253811, -0.005391226150095463, -0.0006571842823177576, 0.004616151563823223, -0.016900738701224327, -0.015172254294157028, -0.0313870869576931, 0.022456582635641098, 0.021894140169024467, -0.007894785143435001, -0.019685519859194756, -0.6255468726158142, -0.0022737805265933275, 0.003228905377909541, -0.0010460076155140996, -0.0030660026241093874, -0.005010548047721386, 0.005881649442017078, -0.029603730887174606, -0.011811312288045883, 0.04359622672200203, -0.0020234244875609875, 0.0024401128757745028, 0.005267763044685125, -0.03514585644006729, -0.002035427838563919, -0.014061085879802704, -0.018492043018341064, -0.012572668492794037, -0.011413486674427986, 0.02068694494664669, -0.04074285551905632, 0.02952142059803009, -0.016722403466701508, 0.03561227396130562, -0.007421509828418493, 0.011722144670784473, 0.009513525292277336, 0.011653553694486618, 0.034816619008779526, 0.012161124497652054, -0.014637247659265995, 0.009931928478181362, 0.01646175980567932, 0.009657565504312515, 0.04038618132472038, -0.027463702484965324, -0.0072294557467103004, 0.022209657356142998, 0.026311378926038742, 0.044391877949237823, -0.025213927030563354, -0.03292351961135864, 0.012291447259485722, -0.0008959655533544719, 0.004931668750941753, -0.012826453894376755, 0.022086193785071373, 0.008107416331768036, 0.0009422642178833485, -0.03338993340730667, -0.015021354891359806, -0.00927345734089613, -0.010576680302619934, -0.03037194535136223, 0.009877055883407593, -0.01344376988708973, 0.04008438438177109, -0.01632457785308361, 0.023060180246829987, -0.017079075798392296, -0.014211985282599926, -0.029603730887174606, -0.02111220546066761, -0.012161124497652054, -0.009342048317193985, 0.025639189407229424, 0.021688368171453476, 0.0032169020269066095, 0.0016204543644562364, -0.012188561260700226, 0.01794331707060337, 0.02399301342666149, 0.006656724028289318, -0.02603701502084732, -0.01419826690107584, 0.024678921326994896, 0.018601788207888603, 0.024939564988017082, -0.0011120261624455452, 0.009753592312335968, 0.004304063972085714, 0.011008801870048046, -0.010508089326322079, -0.002966546220704913, 0.03264915570616722, 0.017037920653820038, -0.008621846325695515, 0.01364954188466072, 0.0017850720323622227, 0.021345414221286774, 0.005720461253076792, 0.007044261321425438, -0.027504855766892433, -0.03723101317882538, 0.01189362071454525, 0.019054485484957695, 0.0003939676098525524, 0.001025430392473936, 0.022785818204283714, -0.025913553312420845, -0.020316554233431816, 0.022250810638070107, 0.0012252007145434618, 0.0046710241585969925, 0.014349167235195637, 0.02167464978992939, 0.018341142684221268, 0.005250615067780018, 0.003228905377909541, -0.05061991140246391, -0.01096078846603632, -0.01688702218234539, 0.004729326348751783, 0.0034672580659389496, 0.015350590460002422, -0.02814960852265358, -2.8159682187833823e-05, -0.014061085879802704, 0.010638412088155746, -0.012956776656210423, 0.041291579604148865, 0.0067870463244616985, 0.0175180546939373, -0.019273975864052773, -0.001391533063724637, 0.000552583544049412, 0.018341142684221268, -0.000763499818276614, -0.008717873133718967, -0.01945231296122074, -0.0011703282361850142, -0.019081922248005867, 0.014061085879802704, -0.028341662138700485, -0.004893943667411804, -0.010556102730333805, 0.01439032144844532, -0.012936199083924294, 0.0019325419561937451, -0.010823606513440609, -0.03459713235497475, -0.010466935113072395, 0.010062250308692455, 0.005274622235447168, -0.03890462592244148, -0.030179891735315323, -0.02041258104145527, 0.01681843027472496, 0.015583798289299011, -0.0007442086935043335, -0.02635253220796585, -0.007983952760696411, -0.007983952760696411, 0.01439032144844532, -0.0021880422718822956, 0.004509835969656706, -0.023910705000162125, -0.006687589455395937, -0.03788948059082031, -0.009856478311121464, -0.0365176685154438, 0.015419181436300278, -0.015926752239465714, -0.005456387065351009, 0.010316035710275173, -0.024720074608922005, 0.0031140160281211138, 0.02772434614598751, -0.030426818877458572, -0.026023298501968384, 0.011852466501295567, -0.014431475661695004, -0.01661265827715397, 0.01185932569205761, 0.0044755409471690655, 0.02097502537071705, -0.016475478187203407, 0.0003174461598973721, -0.0008428077562712133, -0.03775230050086975, 0.003902808763086796, 0.004163453355431557, -0.03199068456888199, -0.00837492011487484, 0.030563998967409134, 0.018601788207888603, 0.023512879386544228, 0.000548296608030796, 0.00953410193324089, -0.0007673580548726022, 0.0014181119622662663, 0.02695612981915474, -0.02927449531853199, 0.020042192190885544, 0.007833053357899189, 0.004321211948990822, -0.0010117122437804937, 0.0014223988400772214, -0.014349167235195637, 0.013121393509209156, -0.007078556343913078, 0.01143406331539154, 0.008909926749765873, -0.01412967685610056, 0.005785622633993626, -0.022881845012307167, 0.012360037304461002, -0.018423452973365784, 0.021715804934501648, -0.012339460663497448, 0.019836420193314552, -0.02657202258706093, -0.012332601472735405, -0.042416464537382126, 0.0036696004681289196, 0.03703895956277847, 0.005977676250040531, 0.047409866005182266, -0.00967814214527607, 0.011392909102141857, -0.016544068232178688, 0.004180600866675377, 0.021798113361001015, 0.005449528340250254, -0.00642008613795042, -0.004321211948990822, -0.0009697005152702332, 0.006149152759462595, 0.008189724758267403, -0.01875268667936325, 0.008388638496398926, 0.019040768966078758, 0.014349167235195637, 0.004060567356646061, 0.00823087990283966, -0.0033077846746891737, 0.01611880585551262, -0.008443511091172695, 0.04935784265398979, -0.016694966703653336, -0.028451407328248024, 0.014047367498278618, 0.005463246256113052, -0.01589931547641754, 0.025817526504397392, 0.00875902734696865, 0.02776550129055977, 0.021935293450951576, 0.008031967096030712, 0.0035358488094061613, -0.005535266362130642, 0.037066396325826645, -0.013827878050506115, 0.012476641684770584, -0.0009422642178833485, -0.04038618132472038, 0.007346060127019882, -0.006917368620634079, 0.037450503557920456, 0.019616929814219475, 0.014609810896217823, -0.0017173386877402663, 0.0010648700408637524, -0.0022566327825188637, 0.011811312288045883, 0.0048665073700249195, -0.012215997092425823, -0.00048656502622179687, -0.022195938974618912, -0.001430115313269198, 0.005991394631564617, -0.0048802257515490055, 0.003378090215846896, -0.010707002133131027, 0.021798113361001015, 0.002386955078691244, 0.03174375742673874, -0.006924227345734835, 0.014554938301444054, 0.01226401049643755, -0.02583124302327633, -0.022607482969760895, 0.04258108511567116, -0.0039233858697116375, -0.0055146892555058, -0.010857902467250824, -0.009369484148919582, -0.001135175465606153, -0.0043280706740915775, -0.0012792159104719758, 0.014609810896217823, -0.0027196197770535946, -0.009973082691431046, -0.025982143357396126, -0.003995405975729227, 0.029576294124126434, 0.03769742697477341, -0.0025790089275687933, 0.015035073272883892, -0.009108840487897396, 0.009808464907109737, 0.013683836907148361, -0.008614987134933472, -0.006684160325676203, 0.043184682726860046, -0.0041703125461936, -0.00869043730199337, 0.0036524527240544558, 0.0021588911768049, -0.005576421041041613, 0.0045441314578056335, 0.00255500222556293, -0.008189724758267403, 0.007839912548661232, 0.024884693324565887, 0.010466935113072395, 0.007791899144649506, 0.01263440027832985, 0.02374608814716339, 0.025145336985588074, 0.004832212347537279, -0.010069109499454498, -0.0010888767428696156, 0.027573445811867714, 0.047656793147325516, 0.03607868775725365, -0.006282904651015997, 0.020700661465525627, -0.0296586025506258, -0.011406627483665943, -0.02203132025897503, -0.02589983493089676, 0.008971658535301685, 0.038685135543346405, -0.010583539493381977, 0.011283163912594318, 0.015775851905345917, 0.003429533215239644, 0.007332341745495796, 0.00010256447421852499, 0.012696132063865662, -0.03734075650572777, 0.0008616701816208661, -0.0007750744698569179, -0.023773523047566414, -0.015707261860370636, 0.017888445407152176, -0.002935680327937007, 0.000962841440923512, 0.011962211690843105, 0.024829819798469543, 0.033060699701309204, -0.012058238498866558, -0.03934360295534134, 0.006718455348163843, 0.022017603740096092, -0.007977094501256943, 0.0016598940128460526, -0.007462664041668177, 0.03550252690911293, 0.015309436246752739, -0.00012164125655544922, 0.004911091644316912, 0.0040434193797409534, 0.017367156222462654, 0.011667272076010704, 0.006886502727866173, 0.030097583308815956, 0.0017344864318147302, -0.010953929275274277, 0.03328019008040428, -0.01131060067564249, 0.010892197489738464, -0.002798499073833227, -0.006749321240931749, 0.004581856541335583, 0.003851365763694048, -0.024130195379257202, 0.0207280982285738, -0.009595833718776703, 0.01847832463681698, -0.008326906710863113, -0.0055318367667496204, -0.02470635622739792, -0.03075605258345604, -0.03223761171102524, 0.05767102912068367, -0.018149089068174362, -0.0035427077673375607, 0.0025001296307891607, -0.00497968215495348, -0.006132005248218775, -0.034706875681877136, -0.0034758318215608597, -0.015748417004942894, -0.02293671853840351, -0.03347224369645119, -0.022442864254117012, -0.001130888587795198, 0.024445712566375732, 0.009835900738835335, 0.007051120046526194, -0.009877055883407593, -0.0005101430579088628, -0.007044261321425438, 0.0016058789333328605, 0.0002424251288175583, -0.03212786838412285, -0.002412676578387618, 0.00373476161621511, 0.0007454947917722166, 0.0005341498181223869, -0.02850627899169922, 0.0121405478566885, -0.012428628280758858, -0.01113912370055914, -0.028753206133842468, -0.01893102377653122, 0.012051379308104515, 0.006505824625492096, -0.004070855677127838, -0.002184612676501274, 0.03429533168673515, -0.03753281012177467, 0.004331500269472599, -0.00019784118921961635, -0.006872784346342087, -0.012833313085138798, 0.01444519404321909, 0.004482399672269821, -0.003419244661927223, 0.002244629431515932, -0.005987965036183596, 0.007503818720579147, 0.01284017227590084, -0.011159701272845268, 0.01812165416777134, 0.012003365904092789, 0.02522764541208744, 0.008608127944171429, 0.02509046532213688, 0.026613177731633186, 0.0375053733587265, -0.02185298502445221, -0.007373496424406767, -0.013457488268613815, 0.026133041828870773, -0.0020199951250106096, 0.0016015919391065836, 0.018697815015912056, -0.01664009504020214, -0.01614624261856079, -0.03835589811205864, -0.0013975347392261028, -0.005603857338428497, 0.026434842497110367, -0.008368060924112797, -0.023019026964902878, -0.05865873396396637, 0.0008153715170919895, -0.03857538849115372, -0.0055009713396430016, -0.022826973348855972, -0.009540961124002934, 0.004242332652211189, 0.012943058274686337, 0.021084770560264587, -0.022648636251688004, 0.02349916100502014, -0.02065950818359852, -0.03037194535136223, 0.000164831944857724, -0.006156011950224638, 0.012092533521354198, 0.011969070881605148, 0.028835514560341835, -0.03670972213149071, -0.03649023175239563, -0.007812476716935635, -0.008923645131289959, 0.011193996295332909, -0.005353501066565514, 0.015474054031074047, 0.0058850790373981, 0.03429533168673515, -0.005655300337821245, 0.02044001780450344, 0.011790734715759754, -0.00018519478908274323, 0.0007802188047207892, -0.014925328083336353, -0.01888986863195896, -0.007407791446894407, -0.004626440349966288, 0.010576680302619934, -0.00814857054501772, 0.02814960852265358, -0.015295717865228653, -0.0069893887266516685, 0.03201812133193016, -0.0052094608545303345, -0.0052917697466909885, -0.011200855486094952, -0.02026168256998062, -0.011255728080868721, 0.03135965019464493, -0.006752750836312771, 0.025913553312420845, -0.04000207409262657, 6.687589484499767e-05, -0.0027882105205208063, 0.005483823362737894, 0.006022260058671236, -0.0038582247216254473, 0.02079668827354908, 0.009733014740049839, 0.01562495343387127, 0.003522130660712719, 0.009163713082671165, -0.020385144278407097, -0.02480238303542137, -0.028341662138700485, -0.0020457166247069836, 0.02284069173038006, -0.0017387733096256852, 0.03509098291397095, 0.00479448726400733, -0.00881389994174242, -0.017326001077890396, -0.0040434193797409534, 0.005655300337821245, -0.005651870742440224, 0.01562495343387127, -0.020892716944217682, -0.0009251165902242064, -0.0350361093878746, -0.0343502052128315, -0.006629287730902433, -0.00459214486181736, 0.03103041648864746, -0.002244629431515932, 0.01780613698065281, -0.022319402545690536, -0.0002527137112338096, 0.007757604122161865, 0.0063549247570335865, 0.02825935371220112, 0.002446971833705902, 0.032210174947977066, 0.007682154420763254, -0.008676718920469284, -0.011557526886463165, 0.012600105255842209, 0.006673871539533138, -0.003455254714936018, 0.01805306226015091, 0.010418921709060669, -0.0275871641933918, -0.03341737017035484, 0.000613886455539614, -0.0210710521787405, -0.010261163115501404, -0.03100297972559929, 0.0013100816868245602, 0.0065023950301110744, -0.01724369265139103, -0.011763298884034157, -0.0024932706728577614, -0.052513010799884796, -0.004221755545586348, -0.004324641544371843, 0.005909085739403963, -0.009698719717562199, -0.016105087473988533, -0.0019736962858587503, 0.032182738184928894, 0.0010562961688265204, 0.01576213352382183, 0.0166812501847744, -0.00995936430990696, -0.013752427883446217, 0.008971658535301685, -0.006046266760677099, -0.0047601922415196896, 0.015583798289299011, 0.03802666440606117, -0.019438594579696655, 0.0214688777923584, 0.022223375737667084, 0.025529444217681885, -0.009513525292277336, -0.006426945328712463, -0.0066978782415390015, 0.039425913244485855, -0.026338813826441765, -0.0027024720329791307, -0.02248401939868927, -0.0030814355704933405, -0.018588069826364517, 0.012860748916864395, -0.019959883764386177, -0.02340313419699669, -0.014294294640421867, 0.004828782752156258, 0.031579140573740005, 0.0018896728288382292, -0.021715804934501648, 0.02374608814716339, -0.012318883091211319, -0.0151996910572052, -0.01674984022974968, -0.00608742143958807, -0.006180018652230501, -0.03747793659567833, -0.022401710972189903, -0.024089040234684944, 0.003947392571717501, 0.013148830272257328, -0.00869043730199337, -0.002707616426050663, -0.0026287371292710304, 0.02097502537071705, -0.019754111766815186, -0.0025344251189380884, 0.0017644948093220592, 0.01344376988708973, -0.008176007308065891, 0.033801477402448654, -0.00814857054501772, 0.011125405319035053, 0.01607765071094036, -0.013752427883446217, -0.018629224970936775, -0.025200210511684418, 0.00013428766396827996, 0.006557267624884844, -0.013992494903504848, -0.012517795898020267, -0.015432898886501789, 0.0047910576686263084, 0.004904232453554869, 0.008196583949029446, -0.013937623240053654, 0.002138313837349415, 0.007606704719364643, -0.010041672736406326, 0.020042192190885544, -0.02723049372434616, 0.013786722905933857, -0.008326906710863113, -0.009026531130075455, 0.0022377704735845327, -0.03649023175239563, 0.0022171931341290474, -0.010075968690216541, -0.004173741675913334, -0.005061991047114134, 0.012181702069938183, -0.01679099351167679, -0.0172711294144392, -0.016036497429013252, 0.016585221514105797, -0.006022260058671236, -0.015707261860370636, 0.004472111351788044, 0.004568138159811497, 0.016653813421726227, 0.041044652462005615, -0.030426818877458572, -0.021756958216428757, 0.01861550658941269, -0.004763621371239424, -0.003134593367576599, -0.014870455488562584, -0.029740910977125168, 0.036819469183683395, 0.010233727283775806, -0.017435746267437935, -0.008875631727278233, -0.0037313320208340883, -0.03599638119339943, -0.012888185679912567, -0.009403780102729797, 0.002428109524771571, -5.018371666665189e-05, 0.014088522642850876, 0.007538113743066788, 0.03810897096991539, 0.0016616088105365634, 0.011811312288045883, -0.018848713487386703, -0.007140288129448891, 0.0019342567538842559, 0.013731851242482662, 0.001286074984818697, -0.005895367357879877, -0.02621535211801529, -0.012236574664711952, -0.007929081097245216, -0.010014236904680729, 0.0318809412419796, 0.0414561964571476, -0.012092533521354198, -0.013080239295959473, 0.013100816868245602, 0.03273146599531174, 0.01893102377653122, 0.0002437111979816109, 0.014061085879802704, -0.03476174920797348, -0.02234683744609356, 0.015542644076049328, 0.02596842497587204, 0.0010391485411673784, -0.015981623902916908, 0.01769639179110527, 0.016845867037773132, 0.0052026016637682915, -0.016132524237036705, -0.0006841918802820146, -0.01099508348852396, 0.016763558611273766, 0.03015245497226715, 0.007894785143435001, 0.02160605974495411, 0.04581856355071068, 0.0014824157115072012, -0.005881649442017078, -0.010103404521942139, 0.0011240295134484768, -0.0026081600226461887, 0.0022669213358312845, 0.028588589280843735, -0.012092533521354198, -0.009561538696289062, 0.0042663393542170525, 0.02702472172677517, 0.016845867037773132, 0.0036387345753610134, -0.008560114540159702, -0.01263440027832985, -0.02358146943151951, 0.015391744673252106, -0.01162611786276102, -0.006804193835705519, 0.004441245459020138, -0.0028070728294551373, 0.0020903004333376884, 0.012325742281973362, -0.001941115828230977, 0.01945231296122074, -0.02315620705485344, -0.007819335907697678, -0.003220331622287631, 0.002993982518091798, -0.0076615773141384125, 0.014404038898646832, 0.01587187871336937, -0.03015245497226715, 0.022195938974618912, 0.190297931432724, -0.028451407328248024, 0.0137935820966959, -0.002716190181672573, 0.002800213871523738, 0.011564386077225208, -0.0005491540068760514, 0.008704154752194881, 0.003235764568671584, 0.01407480426132679, 0.008957941085100174, 0.022072475403547287, -0.002681894926354289, -0.0037038957234472036, 0.007887925952672958, 0.015597516670823097, -0.02765575610101223, -0.02445943094789982, -0.008566973730921745, 0.014239422045648098, -0.017339719459414482, 0.017435746267437935, -0.00835434254258871, -0.03026220016181469, 0.054268933832645416, 0.009767310693860054, -0.019273975864052773, -0.014472629874944687, 0.0159404706209898, 0.009829042479395866, -0.02572149783372879, -0.009527242742478848, 0.0012209138367325068, 0.005168306641280651, -0.023512879386544228, 0.010350330732762814, 0.004983111750334501, -0.000693623092956841, 0.030948108062148094, 0.004667594563215971, 0.052732501178979874, -0.01699676550924778, 0.005617575254291296, -0.012620681896805763, -0.004077714867889881, 0.023334544152021408, -0.012257151305675507, -0.013800441287457943, -0.014239422045648098, -0.0007845057407394052, -0.0072294557467103004, 0.010226868093013763, 0.009705578908324242, 0.02090643346309662, -0.018697815015912056, 0.009835900738835335, -0.016530349850654602, 0.014088522642850876, 0.02277209982275963, 0.011557526886463165, -0.026681767776608467, -0.007263751234859228, -0.0014163971645757556, 0.028945259749889374, -0.018876150250434875, 0.010576680302619934, 0.013917045667767525, -0.016050215810537338, -0.030344508588314056, -0.019822701811790466, -0.02009706385433674, 0.016585221514105797, -0.01917794905602932, 0.010165136307477951, -0.018217680975794792, -0.02648971416056156, 0.021976448595523834, 0.01987757347524166, 0.009623270481824875, 0.022964153438806534, -0.027038440108299255, -0.01755920983850956, -0.007503818720579147, -0.03769742697477341, -0.02009706385433674, -0.01632457785308361, -0.03163401409983635, -0.02902756817638874, -0.008752169087529182, -0.030481690540909767, 0.004369225353002548, -0.014143395237624645, -0.017079075798392296, 0.0007189158932305872, 0.006841918453574181, -0.006344636436551809, -0.007496959529817104, 0.009307753294706345, 0.004009124357253313, 0.011392909102141857, -0.0252688005566597, 0.055613309144973755, 0.03956309333443642, 0.020316554233431816, 0.040770288556814194, -0.01657150499522686, -0.03050912730395794, 0.01910935901105404, 0.013663260266184807, -0.008326906710863113, 0.007174583617597818, -0.037066396325826645, 0.006056555546820164, -0.016022779047489166, -0.03212786838412285, -0.011694707907736301, 0.04101721569895744, -0.004194319248199463, -0.0066978782415390015, 0.01226401049643755, -0.022182220593094826, -0.019959883764386177, -0.006073703058063984, -0.0056210048496723175, -0.0008625275804661214, -0.004650447051972151, 0.002143458230420947, 0.0056210048496723175, -0.0313870869576931, 0.015967905521392822, 0.011331177316606045, -0.014294294640421867, 0.002690468681976199, 0.010837324894964695, 0.025844961404800415, -0.010892197489738464, -0.006540119647979736, -0.03028963692486286, 0.005106574855744839, 0.01829998940229416, -0.012730427086353302, -7.486027607228607e-05, 0.0061525823548436165, -0.021482596173882484, 0.013642682693898678, 0.00689679104834795, -0.003546137362718582, 0.02009706385433674, -0.019520903006196022, -0.003700466360896826, -0.014788147062063217, -0.01393076404929161, 0.0024572606198489666, -0.00990449171513319, -0.00012367754243314266, 0.00321004306897521, -0.002254917984828353, -0.02554316259920597, 0.03303326293826103, -0.0055386959575116634, -0.024967001751065254, 0.012682413682341576, 0.02797127328813076, -0.0107344388961792, -0.0014275432331487536, -0.017710110172629356, -0.17394591867923737, 0.008347483351826668, 0.0035289896186441183, -0.027120748534798622, 0.007881066761910915, 0.015748417004942894, 0.016036497429013252, 0.014774428680539131, -0.01924654096364975, -0.00904024951159954, -0.00021863273286726326, -0.02138656936585903, -0.017998190596699715, 0.0037381912115961313, -0.02783409133553505, 0.02825935371220112, 0.024281095713377, 0.009547820314764977, 0.03753281012177467, 0.027875246480107307, 0.045160092413425446, -0.03284120932221413, 0.01393076404929161, 0.00699281832203269, 0.02828679047524929, 0.0013135111657902598, 0.0015407177852466702, 0.029356803745031357, 0.003782775020226836, -0.03451482206583023, -0.001005710568279028, -0.015844443812966347, 0.01787472702562809, 0.008066262118518353, 0.002793354680761695, 0.013628965243697166, 0.03179863095283508, -0.010508089326322079, -0.005840494763106108, 0.0026338815223425627, 0.039919767528772354, 0.009575256146490574, -0.008731591515243053, 0.005356930661946535, -0.005744467955082655, 0.0227995365858078, 0.02614676021039486, -0.006557267624884844, 0.024788666516542435, -0.0010065679671242833, 0.005473535042256117, -0.018245115876197815, 0.027463702484965324, -0.00043705114512704313, 0.012215997092425823, 0.008505241945385933, 0.0016924745868891478, 0.029713476076722145, -0.021057333797216415, -0.004852789454162121, 0.0012432057410478592, -0.013375178910791874, 0.002651029033586383, -0.0030968685168772936, 0.0013563804095610976, -0.02783409133553505, -0.015391744673252106, 0.003817070508375764, -0.041428759694099426, -0.004859648644924164, -4.511979568633251e-05, 0.0076547181233763695, -0.0026613178197294474, 0.026722922921180725, -0.0016899025067687035, 0.026009580120444298, -0.006708167027682066, 0.0022309112828224897, 0.029055004939436913, 0.0047396146692335606, -0.00874530989676714, 0.0323747918009758, 0.0017764981603249907, -0.008347483351826668, 0.011763298884034157, 0.004160023760050535, 0.008594410493969917, 0.002733337925747037, -0.029686039313673973, 0.002867089817300439, 0.008614987134933472, 0.0008616701816208661, -0.00321004306897521, -0.03352711722254753, -0.007359778042882681, 0.0031517408788204193, -0.009664424695074558, -0.015268282033503056, 0.010926492512226105, 0.0007227741298265755, -0.004647017456591129, -0.031688887625932693, -0.023595187813043594, -0.0011626117629930377, 0.015775851905345917, 0.009204867295920849, -0.01868409663438797, 0.016900738701224327, 0.03273146599531174, -0.0015450046630576253, -0.024582894518971443, -0.016214832663536072, 0.008827618323266506, 0.024720074608922005, 0.000432978558819741, 0.018450887873768806, 0.009547820314764977, -0.0033163586631417274, 0.006221173331141472, 0.0009019672288559377, 0.030563998967409134, -0.021263105794787407, 0.009973082691431046, 0.00032066134735941887, -0.033966097980737686, -0.032072994858026505, -0.12017083913087845, -0.024857256561517715, -0.014170831069350243, -0.0022411998361349106, -0.006207454949617386, 0.012222856283187866, -0.016228551045060158, 0.03223761171102524, 0.016338296234607697, 0.04433700442314148, -0.032072994858026505, 0.0011831889860332012, -0.004883655346930027, -0.005288340151309967, -0.03248453885316849, 0.005387796554714441, -0.0048802257515490055, 0.0055009713396430016, -0.018601788207888603, 0.042663391679525375, -0.01108425110578537, -0.04013925790786743, -0.009698719717562199, 0.003919956274330616, -0.0002863660338334739, 0.012442346662282944, -0.032319922000169754, 0.013416334055364132, -0.015021354891359806, 0.01189362071454525, 0.018876150250434875, -0.01836857944726944, -0.0090059544891119, -0.02403416857123375, 0.008827618323266506, -0.01185932569205761, -0.02068694494664669, 0.002145173028111458, 0.014417757280170918, -0.02927449531853199, -0.001357237808406353, 0.008951081894338131, 0.0022411998361349106, 0.00995936430990696, -0.010926492512226105, -0.014801865443587303, -0.039919767528772354, 0.04979682341217995, 0.007771322038024664, -0.01875268667936325, 0.007030542939901352, -0.023279670625925064, -0.03352711722254753, -0.014033650048077106, 0.027916399762034416, 0.006478388328105211, -0.012188561260700226, 0.01657150499522686, -0.014541220851242542, -0.014609810896217823, -0.029356803745031357, 0.02336197905242443, -0.02727164700627327, -0.0036455937661230564, 0.007085415534675121, -0.0072363149374723434, -0.018176525831222534, -0.011605540290474892, 0.026229070499539375, 0.016983048990368843, 0.001335803186520934, 0.026942413300275803, -0.007538113743066788, 0.015131100080907345, -0.022195938974618912, 0.011516372673213482, -0.036298178136348724, -0.009287175722420216, 0.0106589887291193, -0.018588069826364517, 0.007846771739423275, -0.011372331529855728, -0.00990449171513319, -0.013045944273471832, -0.004890514072030783, 0.010672707110643387, -0.0036112985108047724, 0.005212890449911356, 0.0006160298944450915, -0.033801477402448654, -0.006426945328712463, 0.024047886952757835, 0.0429377555847168, -0.0013435196597129107, -0.0021743241231888533, 0.0033763754181563854, 0.019205385819077492, -0.01967180147767067, 0.01433544885367155, 0.010165136307477951, -0.0041394466534256935, -0.008573832921683788, -0.04236159473657608, 0.015336872078478336, 0.029603730887174606, -0.00972615648061037, -0.008669859729707241, 0.011468359269201756, 0.030838362872600555, -0.03226504847407341, 0.00846408773213625, 0.01787472702562809, -0.006958522833883762, -0.0035632848739624023, -0.025104183703660965, -0.00877960491925478, -0.015350590460002422, -0.05322635546326637, 0.007030542939901352, -0.02097502537071705, 0.016516631469130516, 0.011742721311748028, 0.00823087990283966, 0.010226868093013763, 0.020110782235860825, 0.031935811042785645, -0.020878998562693596, -0.008100557141005993, 0.006663582753390074, 0.014815582893788815, -0.008786464110016823, -0.03278633579611778, 0.0018468035850673914, -0.0411543995141983, -0.0017207682831212878, 0.007051120046526194, -0.021276824176311493, -0.0036250166594982147, 0.01685958541929722, -0.002386955078691244, 0.03662741556763649, 0.017833571881055832, 0.0029236769769340754, -0.014541220851242542, -0.0011454641353338957, 0.005055131856352091, -0.02209991216659546, -0.008134853094816208, -0.024569176137447357, -0.02241542935371399, 0.003601009724661708, 0.017147665843367577, 0.007455805316567421, -0.010528666898608208, -0.01839601621031761, -0.037066396325826645, 0.0032169020269066095, -0.030097583308815956, 0.023416852578520775, -0.008937363512814045, -0.003895949572324753, -0.03273146599531174, 0.03429533168673515, 0.008855055086314678, 0.004091433249413967, -0.0025670055765658617, 0.006169730331748724, -0.030344508588314056, 0.012181702069938183, 0.02086528018116951, -0.022580046206712723, 0.003793063573539257, -0.01699676550924778, 0.002044001827016473, -0.010096545331180096, 0.014952764846384525, 0.012517795898020267, 0.020824125036597252, 0.0036455937661230564, 0.009348907507956028, -0.0180119089782238, 0.008107416331768036, 0.02576265297830105, -0.0313870869576931, -0.006430374458432198, 0.010034814476966858, 0.012751004658639431, 0.01931513100862503, -0.00944493431597948, 0.002153746783733368, 0.008566973730921745, 0.014184549450874329, -0.015227126888930798, 0.006574415136128664, -0.006063414737582207, 0.023814678192138672, -0.011797593906521797, 0.0013529508141800761, -0.005765045061707497, -0.00778504041954875, -0.013683836907148361, 0.014952764846384525, -0.0013263719156384468, -0.006255468353629112, -0.018629224970936775, -0.039069242775440216, -0.025886116549372673, -0.018409734591841698, -0.0026938982773572206, -0.029000133275985718, 0.004173741675913334, 0.01632457785308361, 0.014211985282599926, -0.008985376916825771, -0.0012852175859734416, -0.0037793456576764584, -0.013862173072993755, 0.022676073014736176, 0.0015732983592897654, -0.019273975864052773, -0.031935811042785645, 0.00872473232448101, 0.010741298086941242, 0.012620681896805763, 0.04088003560900688, -0.010638412088155746, 0.012408050708472729, 0.012716708704829216, 0.030618872493505478, -0.007394073531031609, 0.030070146545767784, 0.0050894273445010185, -0.0055386959575116634, -0.002112592337653041, 0.006101139355450869, -0.007860490120947361, 0.010213149711489677, 5.862358375452459e-05, 0.0077301678247749805, 0.005353501066565514, 0.0113997682929039, 0.07424253225326538, 0.022442864254117012, -0.03190837800502777, -0.005353501066565514, -0.0110293785110116, 0.02470635622739792, 0.008971658535301685, 0.02293671853840351, -0.028917822986841202, -0.031688887625932693, 0.01562495343387127, -0.0034946943633258343, -0.01688702218234539, -0.018286271020770073, -0.008100557141005993, 0.024281095713377, 0.011022519320249557, 0.008738450706005096, -0.015405463054776192, 0.006574415136128664, 0.004856219049543142, 0.007558691315352917, 0.021153360605239868, 0.015638671815395355, 0.011996506713330746, 0.003235764568671584, 0.037066396325826645, 0.015720980241894722, -0.017079075798392296, -0.039425913244485855, -0.022003885358572006, -0.0023955288343131542, -0.027600882574915886, -0.006821341346949339, 0.019205385819077492, -0.024116476997733116, -0.008422933518886566, -0.008525819517672062, -0.000971415254753083, 0.023759806528687477, 0.017188820987939835, -0.009438075125217438, 0.0008509529288858175, -0.0265994593501091, -0.02504931017756462, 0.01808049902319908, -0.014788147062063217, -0.021647213026881218, -0.013971918262541294], metadata={'file_path': '/content/mixed_data/output_text.txt', 'file_name': 'output_text.txt', 'file_type': 'text/plain', 'file_size': 3400, 'creation_date': '2024-04-20', 'last_modified_date': '2024-04-20'}, excluded_embed_metadata_keys=['file_name', 'file_type', 'file_size', 'creation_date', 'last_modified_date', 'last_accessed_date'], excluded_llm_metadata_keys=['file_name', 'file_type', 'file_size', 'creation_date', 'last_modified_date', 'last_accessed_date'], relationships={<NodeRelationship.SOURCE: '1'>: RelatedNodeInfo(node_id='4ac1d519-6cd9-4f58-9a36-dd16210bfbe4', node_type=<ObjectType.DOCUMENT: '4'>, metadata={'file_path': '/content/mixed_data/output_text.txt', 'file_name': 'output_text.txt', 'file_type': 'text/plain', 'file_size': 3400, 'creation_date': '2024-04-20', 'last_modified_date': '2024-04-20'}, hash='dee037e9aaba0a283a71f661b087398e037f269a432fca1c29d316e72bd4cf30'), <NodeRelationship.PREVIOUS: '2'>: RelatedNodeInfo(node_id='68f7de4f-3a4e-4f14-946e-2d1c860c694f', node_type=<ObjectType.IMAGE: '2'>, metadata={'file_path': '/content/mixed_data/frame0046.png', 'file_name': 'frame0046.png', 'file_type': 'image/png', 'file_size': 2820, 'creation_date': '2024-04-20', 'last_modified_date': '2024-04-20'}, hash='389b8ded92ccc939de5e489055a3d49adc49f56eb0e3975e6307cae44f19cb17')}, text=\"Lanyard regression is a statistical technique for modeling the relationship between an output variable and one or more input variables. In layman's terms, think of it as fitting a line through some data points as shown here, so you can make predictions on unknown data, assuming there is a linear relationship between the variables. You might be familiar with the linear function y equals mx plus b, where y is the output variable, also called the dependent variable. You may also see expressed as f of x, the function of the input variable. x on the other hand, would serve as the input variable, also called the independent variable. It's likely you'll see the coefficients m and b expressed as beta 1 and beta 0 respectively. So what do the m and b coefficients do? The m or beta 1 coefficient controls the slope of the line. The b or the beta 0 controls the intercept of the line. In machine learning, we also know it as the bias. These two coefficients are what we are solving for in linear regression. We can also extend to multiple input variables, so x1, x2, x3, with beta 1, beta 2, and beta 3, and so on, acting as slopes for each of those variables. In these higher dimensions, you would visualize the linear regression as a hyperplane. So how do we fit the line to these points? Well, you'll notice that there's these differences between the points and the line, these little red segments, these are called residuals. They are the differences between the data points and the predictions the line would produce. Take each of these residuals and square them. These are the squared errors, and notice that the large of the residuals are, the more amplified area of the squares are. If we total the areas of all of these squares for a given line, we will get the sum of the squared error, and this is known as our loss function. We need to find the beta 0 and beta 1 coefficients that will minimize that sum of squared error. The coefficients can be solved with a variety of techniques ranging from matrix decomposition to gradient descent, which is depicted right here. Thankfully, a lot of libraries are available to do this for us, and we will deep dive into these topics in other videos. To validate a linear regression, there are a number of techniques. Machine learning practitioners will often take a third of the data and put it into the test data set. The remaining two thirds will become the training data set. The training data set will then be used to fit the regression line. The test data set will then be used to validate the regression line. This is done to make sure that the regression performs well on data it has not seen before. The tricks used to evaluate the linear regression vary from the R square, standard error of the estimate, prediction intervals, as well as statistical significance. These are topics we will cover in future videos. If you enjoyed this video, please like and subscribe. Look at my two O'Reilly books, Essential Math for Data Science, and getting started with SQL. Chapter five of Essential Math for Data Science actually covers linear regression and much more depth. If you want live instruction, I also do teach on the O'Reilly platform. Promotional link below. I teach classes including machine learning from scratch, probability, and SQL. Comment on what topics you would like to see next, and I will see you again on 3 Minute Data Science.\", start_char_idx=1, end_char_idx=3400, text_template='{metadata_str}\\n\\n{content}', metadata_template='{key}: {value}', metadata_seperator='\\n'), score=0.5568584203720093),\n",
              " NodeWithScore(node=ImageNode(id_='ba3b466e-3009-4f89-8474-cbe7d90b9730', embedding=[0.1753464639186859, -0.16777144372463226, -0.25892797112464905, -0.6833130121231079, -0.0403362438082695, 0.037217482924461365, 0.2011740654706955, -0.12497612833976746, 1.0189361572265625, -0.22238397598266602, 0.09571004658937454, -0.17391467094421387, 0.37474676966667175, 0.24647268652915955, -0.20194970071315765, 0.21666835248470306, 0.33407557010650635, 0.16689902544021606, 0.3723825216293335, 0.13327305018901825, 0.14237797260284424, 0.6042138934135437, 0.027208644896745682, -0.3075641393661499, -0.14433707296848297, -0.017944933846592903, -0.5214362144470215, -0.042832955718040466, -0.06917422264814377, 0.20305651426315308, -0.23445318639278412, 0.09388239681720734, -0.2223239243030548, 0.5764850378036499, 0.3265823423862457, -0.26619186997413635, -0.059036463499069214, 0.4286614954471588, -0.07807227969169617, -2.3637619018554688, -0.1323394775390625, 0.2676105797290802, -0.2108665257692337, -0.4098105728626251, 0.15644222497940063, -0.31223583221435547, -0.08615002781152725, 0.19752201437950134, -0.4765684902667999, 0.15846896171569824, 0.3015274107456207, 0.1652778834104538, 0.27169111371040344, -0.5257256031036377, -0.4386148452758789, 0.17312954366207123, 0.21814602613449097, -0.14857450127601624, -0.019176838919520378, -0.011435595341026783, -0.1550852358341217, -0.2861195206642151, 0.28702136874198914, 0.48601242899894714, -0.17134760320186615, -0.44170546531677246, -0.015264812856912613, 0.040759213268756866, 0.4669438898563385, 0.05117113143205643, -0.12653496861457825, 0.19427739083766937, 0.026810744777321815, -0.5076892375946045, 0.18921609222888947, 0.03575065732002258, -0.09653308242559433, -0.46406829357147217, -0.2660801112651825, 0.12645453214645386, 0.3364483416080475, -0.33824652433395386, -0.35469478368759155, -0.03296884149312973, -0.07128670811653137, -0.4246951639652252, 0.40435904264450073, -0.11036749929189682, 0.2731988728046417, 0.20697452127933502, -0.7137957215309143, -0.019188014790415764, -3.822627544403076, 0.600250244140625, -0.07812374830245972, 0.2699640989303589, 0.002734439680352807, -0.26267051696777344, -0.07346635311841965, 0.18246261775493622, -0.293540894985199, -0.1483338475227356, -0.3805411159992218, 0.216339111328125, -0.12128955125808716, 0.346861869096756, -1.5266669988632202, -0.12745533883571625, 0.044943567365407944, -0.0813596248626709, -0.18744909763336182, -0.18570950627326965, 0.4553513824939728, 0.0691429078578949, -0.08734078705310822, -0.23680469393730164, -0.10177446156740189, -0.15210720896720886, 0.09396514296531677, -0.6534506678581238, -0.12327256798744202, 0.42001041769981384, -0.5666892528533936, 0.5001269578933716, 0.11021889001131058, -0.1981167495250702, 0.2635021209716797, -0.11169740557670593, 0.1524215042591095, -0.2751462459564209, 0.3085446357727051, -0.25439658761024475, -0.20965413749217987, 0.7703768610954285, 0.024193210527300835, -0.26446765661239624, -0.06843309104442596, 0.06752822548151016, -0.18411611020565033, -0.044807419180870056, 0.4251498579978943, 0.1481126993894577, -0.3797943890094757, -0.10376686602830887, -0.4174017608165741, 0.15988048911094666, -0.47397419810295105, -0.2067263275384903, 0.2973179519176483, -0.5264533758163452, 0.18234185874462128, -0.12516067922115326, 0.7506306767463684, 0.380354642868042, 0.18693970143795013, 0.2336256206035614, -0.47984954714775085, -0.3413453996181488, 0.5309348106384277, 0.3100120425224304, 0.3717786967754364, -0.43755194544792175, 0.3801492750644684, 0.4450020492076874, 0.2087300568819046, -0.3468794822692871, 0.3397022485733032, -0.21612410247325897, -0.3611241281032562, -0.26560473442077637, 0.17712020874023438, 0.41032272577285767, 0.042735662311315536, -0.24892857670783997, -0.8954970240592957, -0.21468442678451538, 0.4932820200920105, -0.12003731727600098, -0.06745395809412003, -0.16710132360458374, 0.6887750625610352, -0.46680453419685364, 0.415412962436676, -0.04690489545464516, 0.2520042061805725, 0.45719414949417114, 0.08957039564847946, -0.017973555251955986, 0.3777523636817932, 0.13149304687976837, 0.022582726553082466, -0.7040027976036072, 0.18057182431221008, -0.08790130913257599, -0.2401869297027588, 0.48473912477493286, -0.2933271527290344, 0.11559412628412247, -0.24423587322235107, -0.5576444864273071, -0.31343868374824524, 0.33583006262779236, 0.4568454623222351, 0.33549875020980835, -0.465282678604126, 0.20730212330818176, -0.032330866903066635, 0.09700262546539307, -0.44140753149986267, 0.05348094925284386, -0.09347987174987793, -0.19678480923175812, 0.012730050832033157, 0.1286894828081131, 0.15036088228225708, 0.362065851688385, -0.4552251994609833, 0.20640341937541962, 0.7606883645057678, -0.28374195098876953, 0.07663417607545853, -1.1881370544433594, 0.305644154548645, 0.26937294006347656, -0.0866406112909317, 0.18162332475185394, -0.03103332594037056, -0.059015557169914246, -0.22307990491390228, -0.2750695049762726, -0.11394916474819183, 0.10318589955568314, -0.14446194469928741, 0.16554005444049835, 0.14136943221092224, -0.5076161623001099, -0.5649355053901672, -0.3370482623577118, 0.04786286875605583, 0.16470779478549957, 0.2480110228061676, 0.03480060026049614, 0.13302883505821228, -0.18112999200820923, -0.07127072662115097, 0.45661020278930664, 0.6633564829826355, 0.1619766801595688, 0.26005157828330994, -0.14220476150512695, 0.01451654639095068, 0.23334257304668427, 0.44300058484077454, 0.08891649544239044, -0.4864310622215271, 0.20658458769321442, -0.4547174870967865, -0.09926309436559677, -1.3851525783538818, -0.00032333374838344753, 0.09129312634468079, -0.019657433032989502, 0.02208002284169197, 0.148569718003273, 0.14056642353534698, -0.30211323499679565, -0.47382789850234985, -0.6423254609107971, 0.502335250377655, -0.4590042233467102, 0.1676206737756729, 0.6820052266120911, 0.16679663956165314, 0.3451252281665802, -0.1972935050725937, 0.6051023006439209, -0.11103600263595581, -0.5104004144668579, -0.08914069086313248, 0.11518902331590652, 0.1731172800064087, 0.15366694331169128, -0.5395068526268005, -0.04282831400632858, -0.2697499096393585, 0.09307678788900375, -1.217681646347046, -0.44999247789382935, -0.33563584089279175, 0.4244612455368042, 0.15232227742671967, 0.09381760656833649, -0.37227118015289307, 0.3549543023109436, 0.42063194513320923, 0.6276313662528992, 0.034497082233428955, 0.5597804188728333, 0.5504214763641357, -0.2952459752559662, -0.01256974320858717, 0.012251103296875954, 0.43484383821487427, 0.29530760645866394, -0.4319682717323303, -0.024438945576548576, -0.11906470358371735, 0.31082960963249207, -0.15396685898303986, 0.3227006793022156, -0.2352508306503296, -0.019075045362114906, 0.7699358463287354, -0.160042405128479, -0.2860587537288666, 0.4354228675365448, 0.3287729024887085, 0.14652563631534576, -0.07739034295082092, 0.023863421753048897, 0.2577041685581207, 0.6571115255355835, -0.3026840388774872, -0.1411135494709015, -0.021606286987662315, -0.35687118768692017, 0.20989753305912018, 0.33226966857910156, 0.0193515345454216, -0.6355926394462585, 0.07779751718044281, 0.20967820286750793, -0.07097475230693817, -0.0626341700553894, 0.027550088241696358, -0.23494654893875122, -0.14040261507034302, -0.09193943440914154, -0.36509719491004944, -0.287966251373291, 0.011310404166579247, -0.005167660769075155, -0.3853181302547455, -0.1277940273284912, 0.35891205072402954, 0.15260230004787445, -0.0041353111155331135, -0.05780170485377312, 0.1214146837592125, -0.07523027062416077, -0.18210823833942413, 0.18295489251613617, 0.245660200715065, -0.16371548175811768, -0.01753968559205532, -0.0002753624285105616, -0.009446410462260246, 0.17737245559692383, 0.29543378949165344, 0.7106562852859497, 1.4378818273544312, 0.4524631202220917, 0.05159055069088936, 0.005021017976105213, -0.6952493786811829, 0.14089660346508026, -0.10128924995660782, 1.0786075592041016, -0.08741329610347748, -0.15349791944026947, 0.5131698846817017, -0.17148473858833313, -0.13054463267326355, -0.10436896234750748, 0.1301526427268982, -0.10532733052968979, 0.2775355279445648, -0.21432071924209595, -0.1643194705247879, 0.5303177237510681, 0.010960379615426064, -0.1482701152563095, -0.7327893376350403, 0.3697061836719513, -0.09742873162031174, 0.18859462440013885, -0.14937230944633484, -0.3503182828426361, 0.04859548807144165, -0.13230368494987488, 0.29685649275779724, -0.11775992065668106, -0.0696641281247139, 0.16301913559436798, -0.2605244219303131, 0.4962969124317169, -0.08326080441474915, 0.1917480230331421, -0.8390565514564514, -0.4894641041755676, 0.09931209683418274, -0.6776341795921326, 0.5104438662528992, 0.13373325765132904, -0.27031955122947693, -0.22529597580432892, -0.17094659805297852, -0.09235735237598419, 0.6768985390663147, -0.2606786787509918, -0.2178228199481964, -0.5930845141410828, -0.38265135884284973, 0.5308283567428589, -0.19715233147144318, 0.07773666828870773, 0.04360776022076607, -0.5434296131134033, -0.8610435724258423, -0.2132238894701004, -0.5500166416168213, 0.10571429133415222, -0.03544536232948303, 0.1149396300315857, -0.027020761743187904, 0.5488743782043457, -0.36215537786483765, -0.057247795164585114, -1.2377642393112183, -0.3467096984386444, -0.49365296959877014, -0.07485553622245789, -0.8177224397659302, -0.09288891404867172, -0.07205898314714432, -0.1136961281299591, 0.20321884751319885, -0.07209476828575134, 0.08223038911819458, 0.057078562676906586, -0.17579375207424164, -0.24823744595050812, 0.46083107590675354, 0.3768923878669739, -0.2699706256389618, -0.16463126242160797, 0.30955374240875244, -0.1565570831298828, -0.11480958014726639, -0.15535025298595428, 0.07208889722824097, 0.3519977033138275, 0.5973078012466431, 0.1660759598016739, 0.17751677334308624, -0.5443679094314575, -0.424447238445282, -0.1915181428194046, -0.26158779859542847, -0.2659395933151245, -0.06382687389850616, 0.05291647091507912, 0.03963658586144447, 0.30144208669662476, -0.04856516793370247, -0.2166961282491684, 0.026696721091866493, -0.09767550975084305, -0.0154774384573102, -0.2827947735786438, -0.435087651014328, -0.1066180095076561, -0.04520230367779732, -0.43022069334983826, -0.6641802787780762, 0.2609630823135376, 0.055650465190410614, 0.11796916276216507, 0.23322254419326782, 0.3259844481945038, -0.28488606214523315, 0.0371149480342865, -0.010164800100028515, 0.09620235115289688, -0.06386368721723557, -0.06469834595918655, 0.001366247539408505, -0.06358740478754044, 0.2617872357368469, -0.39169538021087646, 0.5693774819374084, 0.003033439163118601, 0.17132477462291718, -0.7522180676460266, 0.01282981876283884, -0.06826455146074295, 0.11649427562952042, -0.24830253422260284, 0.12510113418102264, 0.005775638855993748, -0.3451550602912903, 0.0018631042912602425, 0.3261107802391052, -0.2656356692314148, 0.3338042199611664, 0.049552734941244125, -0.05342121422290802, 0.29128095507621765, -0.04501190409064293, 0.809477686882019, -0.2563367486000061, 0.1579505056142807], metadata={'file_path': '/content/mixed_data/frame0040.png', 'file_name': 'frame0040.png', 'file_type': 'image/png', 'file_size': 266352, 'creation_date': '2024-04-20', 'last_modified_date': '2024-04-20'}, excluded_embed_metadata_keys=['file_name', 'file_type', 'file_size', 'creation_date', 'last_modified_date', 'last_accessed_date'], excluded_llm_metadata_keys=['file_name', 'file_type', 'file_size', 'creation_date', 'last_modified_date', 'last_accessed_date'], relationships={<NodeRelationship.SOURCE: '1'>: RelatedNodeInfo(node_id='2246642a-e9e3-4c48-a8f3-4b2942cb9204', node_type=<ObjectType.DOCUMENT: '4'>, metadata={'file_path': '/content/mixed_data/frame0040.png', 'file_name': 'frame0040.png', 'file_type': 'image/png', 'file_size': 266352, 'creation_date': '2024-04-20', 'last_modified_date': '2024-04-20'}, hash='46f83c74e59b2d4cba87c883bea0c29aa419079adff090169415838a71e50e66'), <NodeRelationship.PREVIOUS: '2'>: RelatedNodeInfo(node_id='8c8a2705-3be3-43e1-8809-375f70010a0f', node_type=<ObjectType.IMAGE: '2'>, metadata={'file_path': '/content/mixed_data/frame0039.png', 'file_name': 'frame0039.png', 'file_type': 'image/png', 'file_size': 98337, 'creation_date': '2024-04-20', 'last_modified_date': '2024-04-20'}, hash='183d23ecdc179bf73094d251c1f77263a992f2e89d5e4442e7eaf4d06ee2b89c'), <NodeRelationship.NEXT: '3'>: RelatedNodeInfo(node_id='f155891f-77b2-41a1-8d57-4f324ef44666', node_type=<ObjectType.IMAGE: '2'>, metadata={}, hash='44136fa355b3678a1146ad16f7e8649e94fb4fc21fe77e8310c060f61caaff8a')}, text='', start_char_idx=0, end_char_idx=0, text_template='{metadata_str}\\n\\n{content}', metadata_template='{key}: {value}', metadata_seperator='\\n', image=None, image_path='/content/mixed_data/frame0040.png', image_url=None, image_mimetype=None, text_embedding=None), score=0.0),\n",
              " NodeWithScore(node=ImageNode(id_='9e5b0306-74bf-4e05-88e6-5f4801ea9672', embedding=[0.17540185153484344, -0.16780008375644684, -0.2589593827724457, -0.6833181977272034, -0.040307480841875076, 0.03723714128136635, 0.20122912526130676, -0.12491531670093536, 1.0188957452774048, -0.22241973876953125, 0.0957033559679985, -0.17388366162776947, 0.37477147579193115, 0.24642834067344666, -0.20190945267677307, 0.21666674315929413, 0.33406776189804077, 0.1669364720582962, 0.37240079045295715, 0.1332927942276001, 0.1423569768667221, 0.6041985750198364, 0.027228044345974922, -0.3075025677680969, -0.14435119926929474, -0.01796168088912964, -0.5213725566864014, -0.0428336076438427, -0.06917505711317062, 0.2030416876077652, -0.23447641730308533, 0.0938991829752922, -0.22234010696411133, 0.5765418410301208, 0.3265219032764435, -0.2662741243839264, -0.059024665504693985, 0.42871716618537903, -0.07803185284137726, -2.3637263774871826, -0.1323561668395996, 0.2676011025905609, -0.21080654859542847, -0.40977567434310913, 0.15638913214206696, -0.31223663687705994, -0.08618693053722382, 0.1975363790988922, -0.4765801727771759, 0.15849316120147705, 0.30154934525489807, 0.16524755954742432, 0.27162232995033264, -0.5257008671760559, -0.43866869807243347, 0.17313116788864136, 0.21822479367256165, -0.1485372930765152, -0.019138634204864502, -0.011454037390649319, -0.15517598390579224, -0.2861437499523163, 0.28702521324157715, 0.4860570728778839, -0.17132696509361267, -0.44162803888320923, -0.015244022943079472, 0.04084797576069832, 0.46691611409187317, 0.05116685479879379, -0.12646520137786865, 0.19423964619636536, 0.02684464305639267, -0.5076262950897217, 0.18924811482429504, 0.03567954897880554, -0.0965452492237091, -0.4640277624130249, -0.2660779356956482, 0.12646016478538513, 0.33643871545791626, -0.3381973206996918, -0.35469985008239746, -0.0329526923596859, -0.07133308053016663, -0.4246909022331238, 0.40432021021842957, -0.11032118648290634, 0.2730945646762848, 0.20692358911037445, -0.7137848138809204, -0.019208839163184166, -3.82281231880188, 0.6002805233001709, -0.07813317328691483, 0.26991647481918335, 0.0027220931369811296, -0.2626698315143585, -0.07348574697971344, 0.18250034749507904, -0.2936020791530609, -0.14828355610370636, -0.3805238604545593, 0.2163570374250412, -0.1212739422917366, 0.3468552529811859, -1.526707649230957, -0.12746500968933105, 0.04494791105389595, -0.08136801421642303, -0.18745693564414978, -0.18566346168518066, 0.4553327262401581, 0.06914183497428894, -0.08734056353569031, -0.23686015605926514, -0.10182961076498032, -0.15203984081745148, 0.0940532237291336, -0.6534919142723083, -0.12328017503023148, 0.42004823684692383, -0.566735029220581, 0.5001189112663269, 0.11018186062574387, -0.19809389114379883, 0.2634875476360321, -0.11172891408205032, 0.15243887901306152, -0.27513182163238525, 0.30855417251586914, -0.2543765902519226, -0.20967279374599457, 0.7703892588615417, 0.02418537065386772, -0.26443901658058167, -0.0685219094157219, 0.06757829338312149, -0.1840745359659195, -0.04475244879722595, 0.4251755475997925, 0.1480632722377777, -0.37974146008491516, -0.10379935801029205, -0.41742902994155884, 0.15984365344047546, -0.4739419221878052, -0.20669348537921906, 0.29737967252731323, -0.5264551043510437, 0.18238762021064758, -0.1251102238893509, 0.7506612539291382, 0.38034629821777344, 0.18696728348731995, 0.23369669914245605, -0.47985562682151794, -0.3413478136062622, 0.5309168696403503, 0.31008657813072205, 0.3717358410358429, -0.4375511407852173, 0.38013994693756104, 0.44508686661720276, 0.20872284471988678, -0.3468347489833832, 0.33974939584732056, -0.21610261499881744, -0.36114588379859924, -0.2656191885471344, 0.17706593871116638, 0.41028228402137756, 0.042749907821416855, -0.2489563524723053, -0.8954312801361084, -0.21464967727661133, 0.49326303601264954, -0.12000451982021332, -0.06747521460056305, -0.16712868213653564, 0.6887653470039368, -0.46689602732658386, 0.41540342569351196, -0.04697008803486824, 0.2520134150981903, 0.45719611644744873, 0.08957941830158234, -0.01795177161693573, 0.3777362108230591, 0.13151299953460693, 0.02261606603860855, -0.7040358185768127, 0.18058781325817108, -0.08786586672067642, -0.24023230373859406, 0.4847625494003296, -0.2932834327220917, 0.11566231399774551, -0.24420166015625, -0.5576536655426025, -0.31342947483062744, 0.33584311604499817, 0.4568939805030823, 0.33548498153686523, -0.4653536379337311, 0.20726226270198822, -0.03229637071490288, 0.09698180109262466, -0.441379189491272, 0.0535297729074955, -0.09349095821380615, -0.19684015214443207, 0.01276906207203865, 0.1287280023097992, 0.15031123161315918, 0.3620712459087372, -0.45519623160362244, 0.20639415085315704, 0.7606515884399414, -0.28368085622787476, 0.07666224986314774, -1.1882072687149048, 0.3056635856628418, 0.26946187019348145, -0.08661266416311264, 0.18165093660354614, -0.03100143000483513, -0.05893407389521599, -0.22311240434646606, -0.27502426505088806, -0.11385966092348099, 0.10317815095186234, -0.14447177946567535, 0.16559556126594543, 0.1413712352514267, -0.5075892210006714, -0.5648813247680664, -0.3370087444782257, 0.04783661663532257, 0.16469095647335052, 0.24809111654758453, 0.03482040390372276, 0.13309186697006226, -0.1812020093202591, -0.07130252569913864, 0.4566214084625244, 0.6633796691894531, 0.16193819046020508, 0.2600761353969574, -0.14221477508544922, 0.01454386580735445, 0.23340101540088654, 0.44301968812942505, 0.08893135190010071, -0.486427903175354, 0.206560879945755, -0.45470452308654785, -0.09929821640253067, -1.385150671005249, -0.0002780922222882509, 0.09133794903755188, -0.019681846722960472, 0.02203993685543537, 0.14858298003673553, 0.14060434699058533, -0.3021107316017151, -0.47379961609840393, -0.6424012780189514, 0.5023568868637085, -0.4589913785457611, 0.16759763658046722, 0.6820268034934998, 0.16680756211280823, 0.3452330529689789, -0.1972360759973526, 0.6050840020179749, -0.11100894957780838, -0.510363757610321, -0.08912313729524612, 0.11517257243394852, 0.17310787737369537, 0.15361706912517548, -0.5395429134368896, -0.04278768226504326, -0.26977384090423584, 0.09308210760354996, -1.2176642417907715, -0.4499647617340088, -0.33562716841697693, 0.42442968487739563, 0.1522883176803589, 0.09385138005018234, -0.37225109338760376, 0.3548916280269623, 0.42067432403564453, 0.627678394317627, 0.0344727449119091, 0.5598375201225281, 0.5503960847854614, -0.2952142059803009, -0.012524351477622986, 0.012283436954021454, 0.43483367562294006, 0.29531893134117126, -0.43196848034858704, -0.024382878094911575, -0.11916010826826096, 0.3108059763908386, -0.1540125161409378, 0.32270297408103943, -0.23524902760982513, -0.019045092165470123, 0.7699474096298218, -0.16003669798374176, -0.28603610396385193, 0.4354197382926941, 0.32872238755226135, 0.14651402831077576, -0.07737003266811371, 0.023865651339292526, 0.2576844096183777, 0.6571685075759888, -0.30262938141822815, -0.14112119376659393, -0.0215590950101614, -0.35689470171928406, 0.20994648337364197, 0.33223211765289307, 0.019358014687895775, -0.6355398297309875, 0.07777063548564911, 0.209595188498497, -0.07098388671875, -0.06267809867858887, 0.0275383573025465, -0.23485594987869263, -0.14034657180309296, -0.09194977581501007, -0.3650800883769989, -0.28792962431907654, 0.011404474265873432, -0.005220441613346338, -0.3853164613246918, -0.1277349889278412, 0.3588709235191345, 0.15263664722442627, -0.004191967658698559, -0.05783955380320549, 0.12137994915246964, -0.07527406513690948, -0.18207885324954987, 0.18290305137634277, 0.24578964710235596, -0.1637265682220459, -0.01761954464018345, -0.00025532516883686185, -0.0094351377338171, 0.17738810181617737, 0.2953625023365021, 0.7107099890708923, 1.4379550218582153, 0.4524471163749695, 0.05162396281957626, 0.005042964592576027, -0.6951770186424255, 0.14094671607017517, -0.10128679871559143, 1.0786281824111938, -0.08749136328697205, -0.15362317860126495, 0.5131556391716003, -0.17147353291511536, -0.13052023947238922, -0.10434739291667938, 0.1301221251487732, -0.10539582371711731, 0.2776026725769043, -0.21437184512615204, -0.1643209457397461, 0.5302940607070923, 0.010954214259982109, -0.14831845462322235, -0.7327370047569275, 0.36968663334846497, -0.09741581976413727, 0.18861176073551178, -0.149370938539505, -0.3502945899963379, 0.04862421378493309, -0.13225753605365753, 0.2969292998313904, -0.11778353899717331, -0.06966321170330048, 0.16314469277858734, -0.2605127692222595, 0.49633103609085083, -0.0832367092370987, 0.19181214272975922, -0.8390730619430542, -0.48944538831710815, 0.09930971264839172, -0.6776835918426514, 0.5104762315750122, 0.1337675154209137, -0.27036550641059875, -0.2253144085407257, -0.17097212374210358, -0.09238458424806595, 0.6769524812698364, -0.26066190004348755, -0.2178145945072174, -0.5930797457695007, -0.38267603516578674, 0.5308501720428467, -0.19712553918361664, 0.07774872332811356, 0.043608441948890686, -0.5434498190879822, -0.8610665798187256, -0.2132379710674286, -0.5500418543815613, 0.1056670993566513, -0.035330768674612045, 0.11498727649450302, -0.027008933946490288, 0.5488980412483215, -0.36215415596961975, -0.05715092644095421, -1.2378596067428589, -0.3467971980571747, -0.4936836361885071, -0.0747896209359169, -0.8176912069320679, -0.09283944219350815, -0.07204826921224594, -0.11375119537115097, 0.20325638353824615, -0.07206861674785614, 0.08222416043281555, 0.05698508396744728, -0.17583146691322327, -0.24822911620140076, 0.46080344915390015, 0.37688130140304565, -0.2699371874332428, -0.16460369527339935, 0.30957117676734924, -0.1565384566783905, -0.11479168385267258, -0.15534590184688568, 0.07209877669811249, 0.3519728481769562, 0.5973759889602661, 0.16608425974845886, 0.17750944197177887, -0.5443246960639954, -0.42434820532798767, -0.19146201014518738, -0.26154080033302307, -0.26595577597618103, -0.06383269280195236, 0.05295001342892647, 0.03965386375784874, 0.3013915717601776, -0.04853009805083275, -0.2166222631931305, 0.02675396203994751, -0.09766940027475357, -0.015531963668763638, -0.2827916741371155, -0.4351308345794678, -0.1066412478685379, -0.045156314969062805, -0.43029093742370605, -0.6641524434089661, 0.2609129548072815, 0.05565867945551872, 0.11798417568206787, 0.23326630890369415, 0.32602250576019287, -0.284904807806015, 0.03708033636212349, -0.010168191976845264, 0.09619393944740295, -0.06387463212013245, -0.06473168730735779, 0.0013828390510752797, -0.06357575953006744, 0.2617485225200653, -0.39169609546661377, 0.5693202614784241, 0.0029999243561178446, 0.17127421498298645, -0.7521799802780151, 0.01287902146577835, -0.06824527680873871, 0.11646798998117447, -0.24832481145858765, 0.12511028349399567, 0.005784809589385986, -0.34523436427116394, 0.0018901475705206394, 0.32616934180259705, -0.26565316319465637, 0.33379969000816345, 0.04954773932695389, -0.05342349782586098, 0.2912747859954834, -0.04500269144773483, 0.8095032572746277, -0.2563345730304718, 0.1579730212688446], metadata={'file_path': '/content/mixed_data/frame0044.png', 'file_name': 'frame0044.png', 'file_type': 'image/png', 'file_size': 266346, 'creation_date': '2024-04-20', 'last_modified_date': '2024-04-20'}, excluded_embed_metadata_keys=['file_name', 'file_type', 'file_size', 'creation_date', 'last_modified_date', 'last_accessed_date'], excluded_llm_metadata_keys=['file_name', 'file_type', 'file_size', 'creation_date', 'last_modified_date', 'last_accessed_date'], relationships={<NodeRelationship.SOURCE: '1'>: RelatedNodeInfo(node_id='fc86ea71-cae7-4cff-9bad-1072ea6d5202', node_type=<ObjectType.DOCUMENT: '4'>, metadata={'file_path': '/content/mixed_data/frame0044.png', 'file_name': 'frame0044.png', 'file_type': 'image/png', 'file_size': 266346, 'creation_date': '2024-04-20', 'last_modified_date': '2024-04-20'}, hash='1d6176a61a95081c19fe2c208f24f1943d474fdda6299191a6ffbb6486a95637'), <NodeRelationship.PREVIOUS: '2'>: RelatedNodeInfo(node_id='78416cec-d87f-4f31-bc5a-851b9633ca8e', node_type=<ObjectType.IMAGE: '2'>, metadata={'file_path': '/content/mixed_data/frame0043.png', 'file_name': 'frame0043.png', 'file_type': 'image/png', 'file_size': 408080, 'creation_date': '2024-04-20', 'last_modified_date': '2024-04-20'}, hash='fb1e0a9aedc7ce8467df117192eced86b2b1d55a5dc804a57c794ae24b68b7e6'), <NodeRelationship.NEXT: '3'>: RelatedNodeInfo(node_id='2eb91b76-9892-4d16-8411-c1baa6a17deb', node_type=<ObjectType.IMAGE: '2'>, metadata={}, hash='44136fa355b3678a1146ad16f7e8649e94fb4fc21fe77e8310c060f61caaff8a')}, text='', start_char_idx=0, end_char_idx=0, text_template='{metadata_str}\\n\\n{content}', metadata_template='{key}: {value}', metadata_seperator='\\n', image=None, image_path='/content/mixed_data/frame0044.png', image_url=None, image_mimetype=None, text_embedding=None), score=0.0),\n",
              " NodeWithScore(node=ImageNode(id_='5806e1f7-5317-4b86-88b3-f2c73c6994f4', embedding=[0.17540185153484344, -0.16780008375644684, -0.2589593827724457, -0.6833181977272034, -0.040307480841875076, 0.03723714128136635, 0.20122912526130676, -0.12491531670093536, 1.0188957452774048, -0.22241973876953125, 0.0957033559679985, -0.17388366162776947, 0.37477147579193115, 0.24642834067344666, -0.20190945267677307, 0.21666674315929413, 0.33406776189804077, 0.1669364720582962, 0.37240079045295715, 0.1332927942276001, 0.1423569768667221, 0.6041985750198364, 0.027228044345974922, -0.3075025677680969, -0.14435119926929474, -0.01796168088912964, -0.5213725566864014, -0.0428336076438427, -0.06917505711317062, 0.2030416876077652, -0.23447641730308533, 0.0938991829752922, -0.22234010696411133, 0.5765418410301208, 0.3265219032764435, -0.2662741243839264, -0.059024665504693985, 0.42871716618537903, -0.07803185284137726, -2.3637263774871826, -0.1323561668395996, 0.2676011025905609, -0.21080654859542847, -0.40977567434310913, 0.15638913214206696, -0.31223663687705994, -0.08618693053722382, 0.1975363790988922, -0.4765801727771759, 0.15849316120147705, 0.30154934525489807, 0.16524755954742432, 0.27162232995033264, -0.5257008671760559, -0.43866869807243347, 0.17313116788864136, 0.21822479367256165, -0.1485372930765152, -0.019138634204864502, -0.011454037390649319, -0.15517598390579224, -0.2861437499523163, 0.28702521324157715, 0.4860570728778839, -0.17132696509361267, -0.44162803888320923, -0.015244022943079472, 0.04084797576069832, 0.46691611409187317, 0.05116685479879379, -0.12646520137786865, 0.19423964619636536, 0.02684464305639267, -0.5076262950897217, 0.18924811482429504, 0.03567954897880554, -0.0965452492237091, -0.4640277624130249, -0.2660779356956482, 0.12646016478538513, 0.33643871545791626, -0.3381973206996918, -0.35469985008239746, -0.0329526923596859, -0.07133308053016663, -0.4246909022331238, 0.40432021021842957, -0.11032118648290634, 0.2730945646762848, 0.20692358911037445, -0.7137848138809204, -0.019208839163184166, -3.82281231880188, 0.6002805233001709, -0.07813317328691483, 0.26991647481918335, 0.0027220931369811296, -0.2626698315143585, -0.07348574697971344, 0.18250034749507904, -0.2936020791530609, -0.14828355610370636, -0.3805238604545593, 0.2163570374250412, -0.1212739422917366, 0.3468552529811859, -1.526707649230957, -0.12746500968933105, 0.04494791105389595, -0.08136801421642303, -0.18745693564414978, -0.18566346168518066, 0.4553327262401581, 0.06914183497428894, -0.08734056353569031, -0.23686015605926514, -0.10182961076498032, -0.15203984081745148, 0.0940532237291336, -0.6534919142723083, -0.12328017503023148, 0.42004823684692383, -0.566735029220581, 0.5001189112663269, 0.11018186062574387, -0.19809389114379883, 0.2634875476360321, -0.11172891408205032, 0.15243887901306152, -0.27513182163238525, 0.30855417251586914, -0.2543765902519226, -0.20967279374599457, 0.7703892588615417, 0.02418537065386772, -0.26443901658058167, -0.0685219094157219, 0.06757829338312149, -0.1840745359659195, -0.04475244879722595, 0.4251755475997925, 0.1480632722377777, -0.37974146008491516, -0.10379935801029205, -0.41742902994155884, 0.15984365344047546, -0.4739419221878052, -0.20669348537921906, 0.29737967252731323, -0.5264551043510437, 0.18238762021064758, -0.1251102238893509, 0.7506612539291382, 0.38034629821777344, 0.18696728348731995, 0.23369669914245605, -0.47985562682151794, -0.3413478136062622, 0.5309168696403503, 0.31008657813072205, 0.3717358410358429, -0.4375511407852173, 0.38013994693756104, 0.44508686661720276, 0.20872284471988678, -0.3468347489833832, 0.33974939584732056, -0.21610261499881744, -0.36114588379859924, -0.2656191885471344, 0.17706593871116638, 0.41028228402137756, 0.042749907821416855, -0.2489563524723053, -0.8954312801361084, -0.21464967727661133, 0.49326303601264954, -0.12000451982021332, -0.06747521460056305, -0.16712868213653564, 0.6887653470039368, -0.46689602732658386, 0.41540342569351196, -0.04697008803486824, 0.2520134150981903, 0.45719611644744873, 0.08957941830158234, -0.01795177161693573, 0.3777362108230591, 0.13151299953460693, 0.02261606603860855, -0.7040358185768127, 0.18058781325817108, -0.08786586672067642, -0.24023230373859406, 0.4847625494003296, -0.2932834327220917, 0.11566231399774551, -0.24420166015625, -0.5576536655426025, -0.31342947483062744, 0.33584311604499817, 0.4568939805030823, 0.33548498153686523, -0.4653536379337311, 0.20726226270198822, -0.03229637071490288, 0.09698180109262466, -0.441379189491272, 0.0535297729074955, -0.09349095821380615, -0.19684015214443207, 0.01276906207203865, 0.1287280023097992, 0.15031123161315918, 0.3620712459087372, -0.45519623160362244, 0.20639415085315704, 0.7606515884399414, -0.28368085622787476, 0.07666224986314774, -1.1882072687149048, 0.3056635856628418, 0.26946187019348145, -0.08661266416311264, 0.18165093660354614, -0.03100143000483513, -0.05893407389521599, -0.22311240434646606, -0.27502426505088806, -0.11385966092348099, 0.10317815095186234, -0.14447177946567535, 0.16559556126594543, 0.1413712352514267, -0.5075892210006714, -0.5648813247680664, -0.3370087444782257, 0.04783661663532257, 0.16469095647335052, 0.24809111654758453, 0.03482040390372276, 0.13309186697006226, -0.1812020093202591, -0.07130252569913864, 0.4566214084625244, 0.6633796691894531, 0.16193819046020508, 0.2600761353969574, -0.14221477508544922, 0.01454386580735445, 0.23340101540088654, 0.44301968812942505, 0.08893135190010071, -0.486427903175354, 0.206560879945755, -0.45470452308654785, -0.09929821640253067, -1.385150671005249, -0.0002780922222882509, 0.09133794903755188, -0.019681846722960472, 0.02203993685543537, 0.14858298003673553, 0.14060434699058533, -0.3021107316017151, -0.47379961609840393, -0.6424012780189514, 0.5023568868637085, -0.4589913785457611, 0.16759763658046722, 0.6820268034934998, 0.16680756211280823, 0.3452330529689789, -0.1972360759973526, 0.6050840020179749, -0.11100894957780838, -0.510363757610321, -0.08912313729524612, 0.11517257243394852, 0.17310787737369537, 0.15361706912517548, -0.5395429134368896, -0.04278768226504326, -0.26977384090423584, 0.09308210760354996, -1.2176642417907715, -0.4499647617340088, -0.33562716841697693, 0.42442968487739563, 0.1522883176803589, 0.09385138005018234, -0.37225109338760376, 0.3548916280269623, 0.42067432403564453, 0.627678394317627, 0.0344727449119091, 0.5598375201225281, 0.5503960847854614, -0.2952142059803009, -0.012524351477622986, 0.012283436954021454, 0.43483367562294006, 0.29531893134117126, -0.43196848034858704, -0.024382878094911575, -0.11916010826826096, 0.3108059763908386, -0.1540125161409378, 0.32270297408103943, -0.23524902760982513, -0.019045092165470123, 0.7699474096298218, -0.16003669798374176, -0.28603610396385193, 0.4354197382926941, 0.32872238755226135, 0.14651402831077576, -0.07737003266811371, 0.023865651339292526, 0.2576844096183777, 0.6571685075759888, -0.30262938141822815, -0.14112119376659393, -0.0215590950101614, -0.35689470171928406, 0.20994648337364197, 0.33223211765289307, 0.019358014687895775, -0.6355398297309875, 0.07777063548564911, 0.209595188498497, -0.07098388671875, -0.06267809867858887, 0.0275383573025465, -0.23485594987869263, -0.14034657180309296, -0.09194977581501007, -0.3650800883769989, -0.28792962431907654, 0.011404474265873432, -0.005220441613346338, -0.3853164613246918, -0.1277349889278412, 0.3588709235191345, 0.15263664722442627, -0.004191967658698559, -0.05783955380320549, 0.12137994915246964, -0.07527406513690948, -0.18207885324954987, 0.18290305137634277, 0.24578964710235596, -0.1637265682220459, -0.01761954464018345, -0.00025532516883686185, -0.0094351377338171, 0.17738810181617737, 0.2953625023365021, 0.7107099890708923, 1.4379550218582153, 0.4524471163749695, 0.05162396281957626, 0.005042964592576027, -0.6951770186424255, 0.14094671607017517, -0.10128679871559143, 1.0786281824111938, -0.08749136328697205, -0.15362317860126495, 0.5131556391716003, -0.17147353291511536, -0.13052023947238922, -0.10434739291667938, 0.1301221251487732, -0.10539582371711731, 0.2776026725769043, -0.21437184512615204, -0.1643209457397461, 0.5302940607070923, 0.010954214259982109, -0.14831845462322235, -0.7327370047569275, 0.36968663334846497, -0.09741581976413727, 0.18861176073551178, -0.149370938539505, -0.3502945899963379, 0.04862421378493309, -0.13225753605365753, 0.2969292998313904, -0.11778353899717331, -0.06966321170330048, 0.16314469277858734, -0.2605127692222595, 0.49633103609085083, -0.0832367092370987, 0.19181214272975922, -0.8390730619430542, -0.48944538831710815, 0.09930971264839172, -0.6776835918426514, 0.5104762315750122, 0.1337675154209137, -0.27036550641059875, -0.2253144085407257, -0.17097212374210358, -0.09238458424806595, 0.6769524812698364, -0.26066190004348755, -0.2178145945072174, -0.5930797457695007, -0.38267603516578674, 0.5308501720428467, -0.19712553918361664, 0.07774872332811356, 0.043608441948890686, -0.5434498190879822, -0.8610665798187256, -0.2132379710674286, -0.5500418543815613, 0.1056670993566513, -0.035330768674612045, 0.11498727649450302, -0.027008933946490288, 0.5488980412483215, -0.36215415596961975, -0.05715092644095421, -1.2378596067428589, -0.3467971980571747, -0.4936836361885071, -0.0747896209359169, -0.8176912069320679, -0.09283944219350815, -0.07204826921224594, -0.11375119537115097, 0.20325638353824615, -0.07206861674785614, 0.08222416043281555, 0.05698508396744728, -0.17583146691322327, -0.24822911620140076, 0.46080344915390015, 0.37688130140304565, -0.2699371874332428, -0.16460369527339935, 0.30957117676734924, -0.1565384566783905, -0.11479168385267258, -0.15534590184688568, 0.07209877669811249, 0.3519728481769562, 0.5973759889602661, 0.16608425974845886, 0.17750944197177887, -0.5443246960639954, -0.42434820532798767, -0.19146201014518738, -0.26154080033302307, -0.26595577597618103, -0.06383269280195236, 0.05295001342892647, 0.03965386375784874, 0.3013915717601776, -0.04853009805083275, -0.2166222631931305, 0.02675396203994751, -0.09766940027475357, -0.015531963668763638, -0.2827916741371155, -0.4351308345794678, -0.1066412478685379, -0.045156314969062805, -0.43029093742370605, -0.6641524434089661, 0.2609129548072815, 0.05565867945551872, 0.11798417568206787, 0.23326630890369415, 0.32602250576019287, -0.284904807806015, 0.03708033636212349, -0.010168191976845264, 0.09619393944740295, -0.06387463212013245, -0.06473168730735779, 0.0013828390510752797, -0.06357575953006744, 0.2617485225200653, -0.39169609546661377, 0.5693202614784241, 0.0029999243561178446, 0.17127421498298645, -0.7521799802780151, 0.01287902146577835, -0.06824527680873871, 0.11646798998117447, -0.24832481145858765, 0.12511028349399567, 0.005784809589385986, -0.34523436427116394, 0.0018901475705206394, 0.32616934180259705, -0.26565316319465637, 0.33379969000816345, 0.04954773932695389, -0.05342349782586098, 0.2912747859954834, -0.04500269144773483, 0.8095032572746277, -0.2563345730304718, 0.1579730212688446], metadata={'file_path': '/content/mixed_data/frame0042.png', 'file_name': 'frame0042.png', 'file_type': 'image/png', 'file_size': 266345, 'creation_date': '2024-04-20', 'last_modified_date': '2024-04-20'}, excluded_embed_metadata_keys=['file_name', 'file_type', 'file_size', 'creation_date', 'last_modified_date', 'last_accessed_date'], excluded_llm_metadata_keys=['file_name', 'file_type', 'file_size', 'creation_date', 'last_modified_date', 'last_accessed_date'], relationships={<NodeRelationship.SOURCE: '1'>: RelatedNodeInfo(node_id='98480f31-42a9-4f10-9556-4cb2de20a8f7', node_type=<ObjectType.DOCUMENT: '4'>, metadata={'file_path': '/content/mixed_data/frame0042.png', 'file_name': 'frame0042.png', 'file_type': 'image/png', 'file_size': 266345, 'creation_date': '2024-04-20', 'last_modified_date': '2024-04-20'}, hash='52d4e8be44a9e1407ea5eba39b4efb4272bd00a50863807ca536920e5d531119'), <NodeRelationship.PREVIOUS: '2'>: RelatedNodeInfo(node_id='f155891f-77b2-41a1-8d57-4f324ef44666', node_type=<ObjectType.IMAGE: '2'>, metadata={'file_path': '/content/mixed_data/frame0041.png', 'file_name': 'frame0041.png', 'file_type': 'image/png', 'file_size': 266334, 'creation_date': '2024-04-20', 'last_modified_date': '2024-04-20'}, hash='bb569443e4d2eb63f9c24b28ac58e9bd0ca286d08c8859741540dccc168c7df6'), <NodeRelationship.NEXT: '3'>: RelatedNodeInfo(node_id='78416cec-d87f-4f31-bc5a-851b9633ca8e', node_type=<ObjectType.IMAGE: '2'>, metadata={}, hash='44136fa355b3678a1146ad16f7e8649e94fb4fc21fe77e8310c060f61caaff8a')}, text='', start_char_idx=0, end_char_idx=0, text_template='{metadata_str}\\n\\n{content}', metadata_template='{key}: {value}', metadata_seperator='\\n', image=None, image_path='/content/mixed_data/frame0042.png', image_url=None, image_mimetype=None, text_embedding=None), score=0.0),\n",
              " NodeWithScore(node=ImageNode(id_='2eb91b76-9892-4d16-8411-c1baa6a17deb', embedding=[0.17523160576820374, -0.167772576212883, -0.2590988278388977, -0.6834733486175537, -0.0402597039937973, 0.037090323865413666, 0.20112553238868713, -0.12469964474439621, 1.0190467834472656, -0.22250604629516602, 0.09561065584421158, -0.17368187010288239, 0.37482860684394836, 0.24644990265369415, -0.202238529920578, 0.21650686860084534, 0.33433061838150024, 0.16711834073066711, 0.3724369406700134, 0.13317464292049408, 0.14223609864711761, 0.6041434407234192, 0.027430197224020958, -0.30744683742523193, -0.144351065158844, -0.018012212589383125, -0.5211675763130188, -0.04266135394573212, -0.06941895931959152, 0.20289571583271027, -0.23440641164779663, 0.09376312792301178, -0.22235487401485443, 0.5766724348068237, 0.3263508677482605, -0.26643672585487366, -0.05904644355177879, 0.4285716116428375, -0.0781644657254219, -2.3636474609375, -0.13245053589344025, 0.2677127718925476, -0.21057477593421936, -0.40977028012275696, 0.15646252036094666, -0.3121131360530853, -0.08623198419809341, 0.19772131741046906, -0.47668567299842834, 0.15846745669841766, 0.3015909492969513, 0.1651715487241745, 0.2713429629802704, -0.5256968140602112, -0.4386114776134491, 0.17332465946674347, 0.21807357668876648, -0.14847704768180847, -0.018859045580029488, -0.011368276551365852, -0.15523932874202728, -0.2864878475666046, 0.28725987672805786, 0.48606935143470764, -0.17124639451503754, -0.4415789842605591, -0.015331713482737541, 0.040702834725379944, 0.46679389476776123, 0.051033832132816315, -0.12631931900978088, 0.1941845864057541, 0.02676457352936268, -0.5073649287223816, 0.18938016891479492, 0.03557288646697998, -0.09650479257106781, -0.4641019105911255, -0.2660881578922272, 0.12636791169643402, 0.3366662859916687, -0.33825981616973877, -0.35449326038360596, -0.03272908180952072, -0.07101733237504959, -0.42476120591163635, 0.40440571308135986, -0.11057165265083313, 0.2730892300605774, 0.20696179568767548, -0.7137458324432373, -0.01947329193353653, -3.8231372833251953, 0.6004964113235474, -0.07808340340852737, 0.2696762681007385, 0.0026169740594923496, -0.26247668266296387, -0.0735408365726471, 0.1825839728116989, -0.2935824692249298, -0.14788463711738586, -0.38028061389923096, 0.2161487340927124, -0.12109466642141342, 0.3469487726688385, -1.5267263650894165, -0.1274704933166504, 0.044998493045568466, -0.08133737742900848, -0.1872854381799698, -0.1855705827474594, 0.45526278018951416, 0.06924601644277573, -0.08734294772148132, -0.2367323338985443, -0.10194271802902222, -0.1521122008562088, 0.0944494754076004, -0.6533900499343872, -0.12352219969034195, 0.4199962615966797, -0.5666841268539429, 0.5002347230911255, 0.10997531563043594, -0.1980544775724411, 0.2633277177810669, -0.11159371584653854, 0.15213406085968018, -0.27524763345718384, 0.3082769513130188, -0.25434964895248413, -0.2096252292394638, 0.7704046368598938, 0.024186689406633377, -0.2644622027873993, -0.06843551248311996, 0.067592553794384, -0.18402321636676788, -0.04481375589966774, 0.42490506172180176, 0.14786264300346375, -0.37968528270721436, -0.10376666486263275, -0.417429119348526, 0.16006433963775635, -0.4741518795490265, -0.20659935474395752, 0.297383576631546, -0.5262816548347473, 0.18219882249832153, -0.12491056323051453, 0.7506222724914551, 0.3802902400493622, 0.18692196905612946, 0.23373600840568542, -0.47961845993995667, -0.3415953516960144, 0.5307377576828003, 0.31007710099220276, 0.37179359793663025, -0.4375408887863159, 0.37986311316490173, 0.4451274275779724, 0.20856939256191254, -0.34684672951698303, 0.33991873264312744, -0.21598774194717407, -0.3610415458679199, -0.265519380569458, 0.1770024597644806, 0.4100794196128845, 0.0427832193672657, -0.24890632927417755, -0.8956016302108765, -0.21467028558254242, 0.49323350191116333, -0.12004723399877548, -0.06768763810396194, -0.16707511246204376, 0.6886876225471497, -0.46724942326545715, 0.41552627086639404, -0.046989500522613525, 0.2521415054798126, 0.4570809304714203, 0.08966202288866043, -0.01800486631691456, 0.3776284456253052, 0.13155266642570496, 0.022440027445554733, -0.7040969729423523, 0.18040288984775543, -0.08792851120233536, -0.24032315611839294, 0.48499399423599243, -0.29302743077278137, 0.11582124978303909, -0.24409911036491394, -0.5578760504722595, -0.3132808208465576, 0.33577388525009155, 0.45735102891921997, 0.335429310798645, -0.465310275554657, 0.20705384016036987, -0.032080408185720444, 0.09651178121566772, -0.44145667552948, 0.053516507148742676, -0.09337343275547028, -0.1969846487045288, 0.012896254658699036, 0.12882328033447266, 0.15027567744255066, 0.3620522916316986, -0.45550671219825745, 0.20634745061397552, 0.7603813409805298, -0.2836814820766449, 0.07657750695943832, -1.1883563995361328, 0.305806964635849, 0.26942989230155945, -0.08666735887527466, 0.18165814876556396, -0.03128725662827492, -0.05908047780394554, -0.22343404591083527, -0.27496176958084106, -0.11366347968578339, 0.10299045592546463, -0.14442560076713562, 0.16549676656723022, 0.1414266675710678, -0.5076116919517517, -0.5649042129516602, -0.336983323097229, 0.047803036868572235, 0.16488829255104065, 0.2480299323797226, 0.034703679382801056, 0.1334621161222458, -0.18129907548427582, -0.07155836373567581, 0.45665353536605835, 0.6629399061203003, 0.16192080080509186, 0.26001089811325073, -0.14195498824119568, 0.014436522498726845, 0.2332533597946167, 0.44303610920906067, 0.08879349380731583, -0.4862266480922699, 0.20653146505355835, -0.4545307755470276, -0.09923002123832703, -1.385231852531433, -0.00023113572387956083, 0.0913599357008934, -0.019501211121678352, 0.021743444725871086, 0.14840154349803925, 0.14078113436698914, -0.30194422602653503, -0.4738524556159973, -0.642237663269043, 0.502373218536377, -0.458915114402771, 0.16739578545093536, 0.6818158626556396, 0.16687893867492676, 0.3451833128929138, -0.19712835550308228, 0.6048431396484375, -0.11096805334091187, -0.5104444026947021, -0.08886177092790604, 0.11506889760494232, 0.1729939877986908, 0.15345506370067596, -0.5397613644599915, -0.04278429225087166, -0.26966771483421326, 0.09274008870124817, -1.2176213264465332, -0.4500471353530884, -0.3356578052043915, 0.4244566261768341, 0.1524575799703598, 0.09402895718812943, -0.3724623918533325, 0.35479220747947693, 0.42082953453063965, 0.6277255415916443, 0.03452030196785927, 0.5600038170814514, 0.550370991230011, -0.295256644487381, -0.01255093328654766, 0.012129724957048893, 0.43466636538505554, 0.29541414976119995, -0.4316456615924835, -0.02457556128501892, -0.11934421956539154, 0.31079381704330444, -0.15407709777355194, 0.3227969706058502, -0.2352674901485443, -0.019070247188210487, 0.7699631452560425, -0.16002045571804047, -0.28620174527168274, 0.43563002347946167, 0.32903048396110535, 0.14656148850917816, -0.07768810540437698, 0.023829510435461998, 0.2578696012496948, 0.6573507189750671, -0.30245473980903625, -0.14115385711193085, -0.021586256101727486, -0.3567383289337158, 0.20993879437446594, 0.33234986662864685, 0.01930433325469494, -0.6354570388793945, 0.07747703045606613, 0.20954135060310364, -0.07098952680826187, -0.06263725459575653, 0.0276664886623621, -0.23455007374286652, -0.14033730328083038, -0.09205213934183121, -0.365274041891098, -0.28795528411865234, 0.011476048268377781, -0.005149283912032843, -0.3854343891143799, -0.1276547908782959, 0.35882654786109924, 0.15263086557388306, -0.004244712181389332, -0.057879071682691574, 0.12148524820804596, -0.07536516338586807, -0.18213897943496704, 0.18295714259147644, 0.2455548644065857, -0.1636980175971985, -0.01756780967116356, -0.0003101315232925117, -0.009343038313090801, 0.17736093699932098, 0.295151948928833, 0.7107377052307129, 1.438239574432373, 0.4523944854736328, 0.05171971768140793, 0.0049200039356946945, -0.6953701972961426, 0.14107730984687805, -0.10142479836940765, 1.0787419080734253, -0.08758743852376938, -0.15377463400363922, 0.5129792094230652, -0.17161211371421814, -0.13056689500808716, -0.10426124930381775, 0.13025616109371185, -0.10568366944789886, 0.2776692509651184, -0.2143203318119049, -0.16410161554813385, 0.5300421714782715, 0.011129723861813545, -0.14839549362659454, -0.7330092191696167, 0.3698299527168274, -0.09743793308734894, 0.18850721418857574, -0.149315744638443, -0.3501811623573303, 0.0486757718026638, -0.13230422139167786, 0.29697081446647644, -0.11798965185880661, -0.06980925053358078, 0.16294457018375397, -0.26063066720962524, 0.49663740396499634, -0.08328843861818314, 0.19178327918052673, -0.8388792276382446, -0.48922199010849, 0.09925172477960587, -0.6775879263877869, 0.5104517340660095, 0.1337704211473465, -0.2703174948692322, -0.22533980011940002, -0.17115150392055511, -0.09261198341846466, 0.6769909262657166, -0.2606317698955536, -0.2177034318447113, -0.5931745767593384, -0.38252466917037964, 0.5310021638870239, -0.19740988314151764, 0.07776826620101929, 0.043440017849206924, -0.5433080196380615, -0.8610325455665588, -0.21316690742969513, -0.5502943992614746, 0.10566927492618561, -0.03533356636762619, 0.11519668996334076, -0.026922622695565224, 0.548723578453064, -0.3622308075428009, -0.05701635405421257, -1.237828254699707, -0.3470878601074219, -0.4937424063682556, -0.07480891048908234, -0.817654550075531, -0.09271285682916641, -0.0720285102725029, -0.1133570671081543, 0.20318809151649475, -0.07250810414552689, 0.08208367228507996, 0.05700715258717537, -0.17604809999465942, -0.24818892776966095, 0.4608093500137329, 0.37648290395736694, -0.2698999345302582, -0.1646329164505005, 0.30949196219444275, -0.15654727816581726, -0.1146945133805275, -0.15565985441207886, 0.07197175174951553, 0.3521694242954254, 0.5973320603370667, 0.16610944271087646, 0.17772801220417023, -0.5444816946983337, -0.42426830530166626, -0.1916232854127884, -0.26145464181900024, -0.2659355103969574, -0.06383389979600906, 0.05289740860462189, 0.03995610773563385, 0.30145010352134705, -0.0486159473657608, -0.21642249822616577, 0.026553424075245857, -0.09774857014417648, -0.015481206588447094, -0.28278616070747375, -0.43518170714378357, -0.10673773288726807, -0.04514053836464882, -0.43010643124580383, -0.6639779806137085, 0.26092639565467834, 0.05555621162056923, 0.11780544370412827, 0.233372762799263, 0.3261551558971405, -0.2847095727920532, 0.03689087927341461, -0.010015727952122688, 0.09635695815086365, -0.06403031200170517, -0.06459368765354156, 0.001433824305422604, -0.06369876116514206, 0.2620040774345398, -0.3916398286819458, 0.5693212747573853, 0.0034211413003504276, 0.17127184569835663, -0.7522063851356506, 0.012837698683142662, -0.06809057295322418, 0.11649325489997864, -0.2482014000415802, 0.12509749829769135, 0.0057307337410748005, -0.3453734219074249, 0.0017161356518045068, 0.32597362995147705, -0.2656313478946686, 0.3339777886867523, 0.049694549292325974, -0.05351993814110756, 0.29120776057243347, -0.045191291719675064, 0.8094969391822815, -0.25647488236427307, 0.15799900889396667], metadata={'file_path': '/content/mixed_data/frame0045.png', 'file_name': 'frame0045.png', 'file_type': 'image/png', 'file_size': 266334, 'creation_date': '2024-04-20', 'last_modified_date': '2024-04-20'}, excluded_embed_metadata_keys=['file_name', 'file_type', 'file_size', 'creation_date', 'last_modified_date', 'last_accessed_date'], excluded_llm_metadata_keys=['file_name', 'file_type', 'file_size', 'creation_date', 'last_modified_date', 'last_accessed_date'], relationships={<NodeRelationship.SOURCE: '1'>: RelatedNodeInfo(node_id='a05956b7-a0fe-4f7e-be37-fa97945a13d2', node_type=<ObjectType.DOCUMENT: '4'>, metadata={'file_path': '/content/mixed_data/frame0045.png', 'file_name': 'frame0045.png', 'file_type': 'image/png', 'file_size': 266334, 'creation_date': '2024-04-20', 'last_modified_date': '2024-04-20'}, hash='f0b37c31eccdb4bf5b5fe4722c5683cabfef8df86b62dd5278f030914c1f64bb'), <NodeRelationship.PREVIOUS: '2'>: RelatedNodeInfo(node_id='9e5b0306-74bf-4e05-88e6-5f4801ea9672', node_type=<ObjectType.IMAGE: '2'>, metadata={'file_path': '/content/mixed_data/frame0044.png', 'file_name': 'frame0044.png', 'file_type': 'image/png', 'file_size': 266346, 'creation_date': '2024-04-20', 'last_modified_date': '2024-04-20'}, hash='1d6176a61a95081c19fe2c208f24f1943d474fdda6299191a6ffbb6486a95637'), <NodeRelationship.NEXT: '3'>: RelatedNodeInfo(node_id='68f7de4f-3a4e-4f14-946e-2d1c860c694f', node_type=<ObjectType.IMAGE: '2'>, metadata={}, hash='44136fa355b3678a1146ad16f7e8649e94fb4fc21fe77e8310c060f61caaff8a')}, text='', start_char_idx=0, end_char_idx=0, text_template='{metadata_str}\\n\\n{content}', metadata_template='{key}: {value}', metadata_seperator='\\n', image=None, image_path='/content/mixed_data/frame0045.png', image_url=None, image_mimetype=None, text_embedding=None), score=0.0),\n",
              " NodeWithScore(node=ImageNode(id_='f155891f-77b2-41a1-8d57-4f324ef44666', embedding=[0.17523160576820374, -0.167772576212883, -0.2590988278388977, -0.6834733486175537, -0.0402597039937973, 0.037090323865413666, 0.20112553238868713, -0.12469964474439621, 1.0190467834472656, -0.22250604629516602, 0.09561065584421158, -0.17368187010288239, 0.37482860684394836, 0.24644990265369415, -0.202238529920578, 0.21650686860084534, 0.33433061838150024, 0.16711834073066711, 0.3724369406700134, 0.13317464292049408, 0.14223609864711761, 0.6041434407234192, 0.027430197224020958, -0.30744683742523193, -0.144351065158844, -0.018012212589383125, -0.5211675763130188, -0.04266135394573212, -0.06941895931959152, 0.20289571583271027, -0.23440641164779663, 0.09376312792301178, -0.22235487401485443, 0.5766724348068237, 0.3263508677482605, -0.26643672585487366, -0.05904644355177879, 0.4285716116428375, -0.0781644657254219, -2.3636474609375, -0.13245053589344025, 0.2677127718925476, -0.21057477593421936, -0.40977028012275696, 0.15646252036094666, -0.3121131360530853, -0.08623198419809341, 0.19772131741046906, -0.47668567299842834, 0.15846745669841766, 0.3015909492969513, 0.1651715487241745, 0.2713429629802704, -0.5256968140602112, -0.4386114776134491, 0.17332465946674347, 0.21807357668876648, -0.14847704768180847, -0.018859045580029488, -0.011368276551365852, -0.15523932874202728, -0.2864878475666046, 0.28725987672805786, 0.48606935143470764, -0.17124639451503754, -0.4415789842605591, -0.015331713482737541, 0.040702834725379944, 0.46679389476776123, 0.051033832132816315, -0.12631931900978088, 0.1941845864057541, 0.02676457352936268, -0.5073649287223816, 0.18938016891479492, 0.03557288646697998, -0.09650479257106781, -0.4641019105911255, -0.2660881578922272, 0.12636791169643402, 0.3366662859916687, -0.33825981616973877, -0.35449326038360596, -0.03272908180952072, -0.07101733237504959, -0.42476120591163635, 0.40440571308135986, -0.11057165265083313, 0.2730892300605774, 0.20696179568767548, -0.7137458324432373, -0.01947329193353653, -3.8231372833251953, 0.6004964113235474, -0.07808340340852737, 0.2696762681007385, 0.0026169740594923496, -0.26247668266296387, -0.0735408365726471, 0.1825839728116989, -0.2935824692249298, -0.14788463711738586, -0.38028061389923096, 0.2161487340927124, -0.12109466642141342, 0.3469487726688385, -1.5267263650894165, -0.1274704933166504, 0.044998493045568466, -0.08133737742900848, -0.1872854381799698, -0.1855705827474594, 0.45526278018951416, 0.06924601644277573, -0.08734294772148132, -0.2367323338985443, -0.10194271802902222, -0.1521122008562088, 0.0944494754076004, -0.6533900499343872, -0.12352219969034195, 0.4199962615966797, -0.5666841268539429, 0.5002347230911255, 0.10997531563043594, -0.1980544775724411, 0.2633277177810669, -0.11159371584653854, 0.15213406085968018, -0.27524763345718384, 0.3082769513130188, -0.25434964895248413, -0.2096252292394638, 0.7704046368598938, 0.024186689406633377, -0.2644622027873993, -0.06843551248311996, 0.067592553794384, -0.18402321636676788, -0.04481375589966774, 0.42490506172180176, 0.14786264300346375, -0.37968528270721436, -0.10376666486263275, -0.417429119348526, 0.16006433963775635, -0.4741518795490265, -0.20659935474395752, 0.297383576631546, -0.5262816548347473, 0.18219882249832153, -0.12491056323051453, 0.7506222724914551, 0.3802902400493622, 0.18692196905612946, 0.23373600840568542, -0.47961845993995667, -0.3415953516960144, 0.5307377576828003, 0.31007710099220276, 0.37179359793663025, -0.4375408887863159, 0.37986311316490173, 0.4451274275779724, 0.20856939256191254, -0.34684672951698303, 0.33991873264312744, -0.21598774194717407, -0.3610415458679199, -0.265519380569458, 0.1770024597644806, 0.4100794196128845, 0.0427832193672657, -0.24890632927417755, -0.8956016302108765, -0.21467028558254242, 0.49323350191116333, -0.12004723399877548, -0.06768763810396194, -0.16707511246204376, 0.6886876225471497, -0.46724942326545715, 0.41552627086639404, -0.046989500522613525, 0.2521415054798126, 0.4570809304714203, 0.08966202288866043, -0.01800486631691456, 0.3776284456253052, 0.13155266642570496, 0.022440027445554733, -0.7040969729423523, 0.18040288984775543, -0.08792851120233536, -0.24032315611839294, 0.48499399423599243, -0.29302743077278137, 0.11582124978303909, -0.24409911036491394, -0.5578760504722595, -0.3132808208465576, 0.33577388525009155, 0.45735102891921997, 0.335429310798645, -0.465310275554657, 0.20705384016036987, -0.032080408185720444, 0.09651178121566772, -0.44145667552948, 0.053516507148742676, -0.09337343275547028, -0.1969846487045288, 0.012896254658699036, 0.12882328033447266, 0.15027567744255066, 0.3620522916316986, -0.45550671219825745, 0.20634745061397552, 0.7603813409805298, -0.2836814820766449, 0.07657750695943832, -1.1883563995361328, 0.305806964635849, 0.26942989230155945, -0.08666735887527466, 0.18165814876556396, -0.03128725662827492, -0.05908047780394554, -0.22343404591083527, -0.27496176958084106, -0.11366347968578339, 0.10299045592546463, -0.14442560076713562, 0.16549676656723022, 0.1414266675710678, -0.5076116919517517, -0.5649042129516602, -0.336983323097229, 0.047803036868572235, 0.16488829255104065, 0.2480299323797226, 0.034703679382801056, 0.1334621161222458, -0.18129907548427582, -0.07155836373567581, 0.45665353536605835, 0.6629399061203003, 0.16192080080509186, 0.26001089811325073, -0.14195498824119568, 0.014436522498726845, 0.2332533597946167, 0.44303610920906067, 0.08879349380731583, -0.4862266480922699, 0.20653146505355835, -0.4545307755470276, -0.09923002123832703, -1.385231852531433, -0.00023113572387956083, 0.0913599357008934, -0.019501211121678352, 0.021743444725871086, 0.14840154349803925, 0.14078113436698914, -0.30194422602653503, -0.4738524556159973, -0.642237663269043, 0.502373218536377, -0.458915114402771, 0.16739578545093536, 0.6818158626556396, 0.16687893867492676, 0.3451833128929138, -0.19712835550308228, 0.6048431396484375, -0.11096805334091187, -0.5104444026947021, -0.08886177092790604, 0.11506889760494232, 0.1729939877986908, 0.15345506370067596, -0.5397613644599915, -0.04278429225087166, -0.26966771483421326, 0.09274008870124817, -1.2176213264465332, -0.4500471353530884, -0.3356578052043915, 0.4244566261768341, 0.1524575799703598, 0.09402895718812943, -0.3724623918533325, 0.35479220747947693, 0.42082953453063965, 0.6277255415916443, 0.03452030196785927, 0.5600038170814514, 0.550370991230011, -0.295256644487381, -0.01255093328654766, 0.012129724957048893, 0.43466636538505554, 0.29541414976119995, -0.4316456615924835, -0.02457556128501892, -0.11934421956539154, 0.31079381704330444, -0.15407709777355194, 0.3227969706058502, -0.2352674901485443, -0.019070247188210487, 0.7699631452560425, -0.16002045571804047, -0.28620174527168274, 0.43563002347946167, 0.32903048396110535, 0.14656148850917816, -0.07768810540437698, 0.023829510435461998, 0.2578696012496948, 0.6573507189750671, -0.30245473980903625, -0.14115385711193085, -0.021586256101727486, -0.3567383289337158, 0.20993879437446594, 0.33234986662864685, 0.01930433325469494, -0.6354570388793945, 0.07747703045606613, 0.20954135060310364, -0.07098952680826187, -0.06263725459575653, 0.0276664886623621, -0.23455007374286652, -0.14033730328083038, -0.09205213934183121, -0.365274041891098, -0.28795528411865234, 0.011476048268377781, -0.005149283912032843, -0.3854343891143799, -0.1276547908782959, 0.35882654786109924, 0.15263086557388306, -0.004244712181389332, -0.057879071682691574, 0.12148524820804596, -0.07536516338586807, -0.18213897943496704, 0.18295714259147644, 0.2455548644065857, -0.1636980175971985, -0.01756780967116356, -0.0003101315232925117, -0.009343038313090801, 0.17736093699932098, 0.295151948928833, 0.7107377052307129, 1.438239574432373, 0.4523944854736328, 0.05171971768140793, 0.0049200039356946945, -0.6953701972961426, 0.14107730984687805, -0.10142479836940765, 1.0787419080734253, -0.08758743852376938, -0.15377463400363922, 0.5129792094230652, -0.17161211371421814, -0.13056689500808716, -0.10426124930381775, 0.13025616109371185, -0.10568366944789886, 0.2776692509651184, -0.2143203318119049, -0.16410161554813385, 0.5300421714782715, 0.011129723861813545, -0.14839549362659454, -0.7330092191696167, 0.3698299527168274, -0.09743793308734894, 0.18850721418857574, -0.149315744638443, -0.3501811623573303, 0.0486757718026638, -0.13230422139167786, 0.29697081446647644, -0.11798965185880661, -0.06980925053358078, 0.16294457018375397, -0.26063066720962524, 0.49663740396499634, -0.08328843861818314, 0.19178327918052673, -0.8388792276382446, -0.48922199010849, 0.09925172477960587, -0.6775879263877869, 0.5104517340660095, 0.1337704211473465, -0.2703174948692322, -0.22533980011940002, -0.17115150392055511, -0.09261198341846466, 0.6769909262657166, -0.2606317698955536, -0.2177034318447113, -0.5931745767593384, -0.38252466917037964, 0.5310021638870239, -0.19740988314151764, 0.07776826620101929, 0.043440017849206924, -0.5433080196380615, -0.8610325455665588, -0.21316690742969513, -0.5502943992614746, 0.10566927492618561, -0.03533356636762619, 0.11519668996334076, -0.026922622695565224, 0.548723578453064, -0.3622308075428009, -0.05701635405421257, -1.237828254699707, -0.3470878601074219, -0.4937424063682556, -0.07480891048908234, -0.817654550075531, -0.09271285682916641, -0.0720285102725029, -0.1133570671081543, 0.20318809151649475, -0.07250810414552689, 0.08208367228507996, 0.05700715258717537, -0.17604809999465942, -0.24818892776966095, 0.4608093500137329, 0.37648290395736694, -0.2698999345302582, -0.1646329164505005, 0.30949196219444275, -0.15654727816581726, -0.1146945133805275, -0.15565985441207886, 0.07197175174951553, 0.3521694242954254, 0.5973320603370667, 0.16610944271087646, 0.17772801220417023, -0.5444816946983337, -0.42426830530166626, -0.1916232854127884, -0.26145464181900024, -0.2659355103969574, -0.06383389979600906, 0.05289740860462189, 0.03995610773563385, 0.30145010352134705, -0.0486159473657608, -0.21642249822616577, 0.026553424075245857, -0.09774857014417648, -0.015481206588447094, -0.28278616070747375, -0.43518170714378357, -0.10673773288726807, -0.04514053836464882, -0.43010643124580383, -0.6639779806137085, 0.26092639565467834, 0.05555621162056923, 0.11780544370412827, 0.233372762799263, 0.3261551558971405, -0.2847095727920532, 0.03689087927341461, -0.010015727952122688, 0.09635695815086365, -0.06403031200170517, -0.06459368765354156, 0.001433824305422604, -0.06369876116514206, 0.2620040774345398, -0.3916398286819458, 0.5693212747573853, 0.0034211413003504276, 0.17127184569835663, -0.7522063851356506, 0.012837698683142662, -0.06809057295322418, 0.11649325489997864, -0.2482014000415802, 0.12509749829769135, 0.0057307337410748005, -0.3453734219074249, 0.0017161356518045068, 0.32597362995147705, -0.2656313478946686, 0.3339777886867523, 0.049694549292325974, -0.05351993814110756, 0.29120776057243347, -0.045191291719675064, 0.8094969391822815, -0.25647488236427307, 0.15799900889396667], metadata={'file_path': '/content/mixed_data/frame0041.png', 'file_name': 'frame0041.png', 'file_type': 'image/png', 'file_size': 266334, 'creation_date': '2024-04-20', 'last_modified_date': '2024-04-20'}, excluded_embed_metadata_keys=['file_name', 'file_type', 'file_size', 'creation_date', 'last_modified_date', 'last_accessed_date'], excluded_llm_metadata_keys=['file_name', 'file_type', 'file_size', 'creation_date', 'last_modified_date', 'last_accessed_date'], relationships={<NodeRelationship.SOURCE: '1'>: RelatedNodeInfo(node_id='7455b6f7-6f7d-4ff9-b500-9bb4f09ef421', node_type=<ObjectType.DOCUMENT: '4'>, metadata={'file_path': '/content/mixed_data/frame0041.png', 'file_name': 'frame0041.png', 'file_type': 'image/png', 'file_size': 266334, 'creation_date': '2024-04-20', 'last_modified_date': '2024-04-20'}, hash='bb569443e4d2eb63f9c24b28ac58e9bd0ca286d08c8859741540dccc168c7df6'), <NodeRelationship.PREVIOUS: '2'>: RelatedNodeInfo(node_id='ba3b466e-3009-4f89-8474-cbe7d90b9730', node_type=<ObjectType.IMAGE: '2'>, metadata={'file_path': '/content/mixed_data/frame0040.png', 'file_name': 'frame0040.png', 'file_type': 'image/png', 'file_size': 266352, 'creation_date': '2024-04-20', 'last_modified_date': '2024-04-20'}, hash='46f83c74e59b2d4cba87c883bea0c29aa419079adff090169415838a71e50e66'), <NodeRelationship.NEXT: '3'>: RelatedNodeInfo(node_id='5806e1f7-5317-4b86-88b3-f2c73c6994f4', node_type=<ObjectType.IMAGE: '2'>, metadata={}, hash='44136fa355b3678a1146ad16f7e8649e94fb4fc21fe77e8310c060f61caaff8a')}, text='', start_char_idx=0, end_char_idx=0, text_template='{metadata_str}\\n\\n{content}', metadata_template='{key}: {value}', metadata_seperator='\\n', image=None, image_path='/content/mixed_data/frame0041.png', image_url=None, image_mimetype=None, text_embedding=None), score=0.0)]"
            ]
          },
          "metadata": {},
          "execution_count": 52
        }
      ]
    },
    {
      "cell_type": "code",
      "source": [
        "retrieved_image=[]\n",
        "retrieved_text=[]"
      ],
      "metadata": {
        "id": "2yx8s3c1wD0C"
      },
      "execution_count": 53,
      "outputs": []
    },
    {
      "cell_type": "code",
      "source": [
        "for res_node in retrieval_results:\n",
        "  if isinstance(res_node.node,ImageNode):\n",
        "    retrieved_image.append(res_node.node.metadata[\"file_path\"])\n",
        "  else:\n",
        "     display_source_node(res_node, source_length=200)\n",
        "     retrieved_text.append(res_node.text)"
      ],
      "metadata": {
        "colab": {
          "base_uri": "https://localhost:8080/",
          "height": 99
        },
        "id": "nj_-e_8AwTQ5",
        "outputId": "0acea4d3-0493-4d2f-96e2-8d3f38035718"
      },
      "execution_count": 54,
      "outputs": [
        {
          "output_type": "display_data",
          "data": {
            "text/plain": [
              "<IPython.core.display.Markdown object>"
            ],
            "text/markdown": "**Node ID:** 5a5080c1-4a08-4d6b-9a1c-3b96a9b47751<br>**Similarity:** 0.5568584203720093<br>**Text:** Lanyard regression is a statistical technique for modeling the relationship between an output variable and one or more input variables. In layman's terms, think of it as fitting a line through some...<br>"
          },
          "metadata": {}
        }
      ]
    },
    {
      "cell_type": "code",
      "source": [
        "retrieved_image"
      ],
      "metadata": {
        "colab": {
          "base_uri": "https://localhost:8080/"
        },
        "id": "yN9Tjt8gwZXu",
        "outputId": "92e01c86-c12b-4df2-f5dc-9e3b2edd687f"
      },
      "execution_count": 55,
      "outputs": [
        {
          "output_type": "execute_result",
          "data": {
            "text/plain": [
              "['/content/mixed_data/frame0040.png',\n",
              " '/content/mixed_data/frame0044.png',\n",
              " '/content/mixed_data/frame0042.png',\n",
              " '/content/mixed_data/frame0045.png',\n",
              " '/content/mixed_data/frame0041.png']"
            ]
          },
          "metadata": {},
          "execution_count": 55
        }
      ]
    },
    {
      "cell_type": "code",
      "source": [
        "retrieved_text"
      ],
      "metadata": {
        "colab": {
          "base_uri": "https://localhost:8080/"
        },
        "id": "xsnhkZFowqfa",
        "outputId": "29e700ec-337f-429c-8e6d-a92f78f76f85"
      },
      "execution_count": 56,
      "outputs": [
        {
          "output_type": "execute_result",
          "data": {
            "text/plain": [
              "[\"Lanyard regression is a statistical technique for modeling the relationship between an output variable and one or more input variables. In layman's terms, think of it as fitting a line through some data points as shown here, so you can make predictions on unknown data, assuming there is a linear relationship between the variables. You might be familiar with the linear function y equals mx plus b, where y is the output variable, also called the dependent variable. You may also see expressed as f of x, the function of the input variable. x on the other hand, would serve as the input variable, also called the independent variable. It's likely you'll see the coefficients m and b expressed as beta 1 and beta 0 respectively. So what do the m and b coefficients do? The m or beta 1 coefficient controls the slope of the line. The b or the beta 0 controls the intercept of the line. In machine learning, we also know it as the bias. These two coefficients are what we are solving for in linear regression. We can also extend to multiple input variables, so x1, x2, x3, with beta 1, beta 2, and beta 3, and so on, acting as slopes for each of those variables. In these higher dimensions, you would visualize the linear regression as a hyperplane. So how do we fit the line to these points? Well, you'll notice that there's these differences between the points and the line, these little red segments, these are called residuals. They are the differences between the data points and the predictions the line would produce. Take each of these residuals and square them. These are the squared errors, and notice that the large of the residuals are, the more amplified area of the squares are. If we total the areas of all of these squares for a given line, we will get the sum of the squared error, and this is known as our loss function. We need to find the beta 0 and beta 1 coefficients that will minimize that sum of squared error. The coefficients can be solved with a variety of techniques ranging from matrix decomposition to gradient descent, which is depicted right here. Thankfully, a lot of libraries are available to do this for us, and we will deep dive into these topics in other videos. To validate a linear regression, there are a number of techniques. Machine learning practitioners will often take a third of the data and put it into the test data set. The remaining two thirds will become the training data set. The training data set will then be used to fit the regression line. The test data set will then be used to validate the regression line. This is done to make sure that the regression performs well on data it has not seen before. The tricks used to evaluate the linear regression vary from the R square, standard error of the estimate, prediction intervals, as well as statistical significance. These are topics we will cover in future videos. If you enjoyed this video, please like and subscribe. Look at my two O'Reilly books, Essential Math for Data Science, and getting started with SQL. Chapter five of Essential Math for Data Science actually covers linear regression and much more depth. If you want live instruction, I also do teach on the O'Reilly platform. Promotional link below. I teach classes including machine learning from scratch, probability, and SQL. Comment on what topics you would like to see next, and I will see you again on 3 Minute Data Science.\"]"
            ]
          },
          "metadata": {},
          "execution_count": 56
        }
      ]
    },
    {
      "cell_type": "code",
      "source": [
        "def retrieve(retriever_engine, query_str):\n",
        "    retrieval_results = retriever_engine.retrieve(query_str)\n",
        "\n",
        "    retrieved_image = []\n",
        "    retrieved_text = []\n",
        "    for res_node in retrieval_results:\n",
        "        if isinstance(res_node.node, ImageNode):\n",
        "            retrieved_image.append(res_node.node.metadata[\"file_path\"])\n",
        "        else:\n",
        "            display_source_node(res_node, source_length=200)\n",
        "            retrieved_text.append(res_node.text)\n",
        "\n",
        "    return retrieved_image, retrieved_text"
      ],
      "metadata": {
        "id": "5YhTE_jqwsjU"
      },
      "execution_count": 57,
      "outputs": []
    },
    {
      "cell_type": "code",
      "source": [
        "img, txt = retrieve(retriever_engine=retriever_engine, query_str=query_str)"
      ],
      "metadata": {
        "colab": {
          "base_uri": "https://localhost:8080/",
          "height": 99
        },
        "id": "sTQxqcxcwv5j",
        "outputId": "951a8452-8778-4233-beff-5f5adae74e90"
      },
      "execution_count": 58,
      "outputs": [
        {
          "output_type": "display_data",
          "data": {
            "text/plain": [
              "<IPython.core.display.Markdown object>"
            ],
            "text/markdown": "**Node ID:** 5a5080c1-4a08-4d6b-9a1c-3b96a9b47751<br>**Similarity:** 0.5568584203720093<br>**Text:** Lanyard regression is a statistical technique for modeling the relationship between an output variable and one or more input variables. In layman's terms, think of it as fitting a line through some...<br>"
          },
          "metadata": {}
        }
      ]
    },
    {
      "cell_type": "code",
      "source": [
        "output_folder"
      ],
      "metadata": {
        "colab": {
          "base_uri": "https://localhost:8080/",
          "height": 36
        },
        "id": "10VFq0oowx-L",
        "outputId": "1df20361-2336-4782-a7cc-f5fba2584ba2"
      },
      "execution_count": 59,
      "outputs": [
        {
          "output_type": "execute_result",
          "data": {
            "text/plain": [
              "'/content/mixed_data/'"
            ],
            "application/vnd.google.colaboratory.intrinsic+json": {
              "type": "string"
            }
          },
          "metadata": {},
          "execution_count": 59
        }
      ]
    },
    {
      "cell_type": "code",
      "source": [
        "img"
      ],
      "metadata": {
        "colab": {
          "base_uri": "https://localhost:8080/"
        },
        "id": "l0bSpc1Kw0EC",
        "outputId": "5be0d791-2118-47e5-942a-4adfe13ca914"
      },
      "execution_count": 60,
      "outputs": [
        {
          "output_type": "execute_result",
          "data": {
            "text/plain": [
              "['/content/mixed_data/frame0040.png',\n",
              " '/content/mixed_data/frame0044.png',\n",
              " '/content/mixed_data/frame0042.png',\n",
              " '/content/mixed_data/frame0045.png',\n",
              " '/content/mixed_data/frame0041.png']"
            ]
          },
          "metadata": {},
          "execution_count": 60
        }
      ]
    },
    {
      "cell_type": "code",
      "source": [
        "image_documents = SimpleDirectoryReader(input_dir=output_folder, input_files=img).load_data()"
      ],
      "metadata": {
        "id": "BAI7VC2Vw1_z"
      },
      "execution_count": 61,
      "outputs": []
    },
    {
      "cell_type": "code",
      "source": [
        "image_documents2 = SimpleDirectoryReader(input_files=img).load_data()"
      ],
      "metadata": {
        "id": "inMkZjiew4EF"
      },
      "execution_count": 62,
      "outputs": []
    },
    {
      "cell_type": "code",
      "source": [
        "context_str = \"\".join(txt)"
      ],
      "metadata": {
        "id": "o3s_g-cnw6H6"
      },
      "execution_count": 63,
      "outputs": []
    },
    {
      "cell_type": "code",
      "source": [
        "context_str"
      ],
      "metadata": {
        "colab": {
          "base_uri": "https://localhost:8080/",
          "height": 226
        },
        "id": "6dUWPwuNw8Nt",
        "outputId": "552c60f9-2309-452d-fe4e-f2002c3930c9"
      },
      "execution_count": 64,
      "outputs": [
        {
          "output_type": "execute_result",
          "data": {
            "text/plain": [
              "\"Lanyard regression is a statistical technique for modeling the relationship between an output variable and one or more input variables. In layman's terms, think of it as fitting a line through some data points as shown here, so you can make predictions on unknown data, assuming there is a linear relationship between the variables. You might be familiar with the linear function y equals mx plus b, where y is the output variable, also called the dependent variable. You may also see expressed as f of x, the function of the input variable. x on the other hand, would serve as the input variable, also called the independent variable. It's likely you'll see the coefficients m and b expressed as beta 1 and beta 0 respectively. So what do the m and b coefficients do? The m or beta 1 coefficient controls the slope of the line. The b or the beta 0 controls the intercept of the line. In machine learning, we also know it as the bias. These two coefficients are what we are solving for in linear regression. We can also extend to multiple input variables, so x1, x2, x3, with beta 1, beta 2, and beta 3, and so on, acting as slopes for each of those variables. In these higher dimensions, you would visualize the linear regression as a hyperplane. So how do we fit the line to these points? Well, you'll notice that there's these differences between the points and the line, these little red segments, these are called residuals. They are the differences between the data points and the predictions the line would produce. Take each of these residuals and square them. These are the squared errors, and notice that the large of the residuals are, the more amplified area of the squares are. If we total the areas of all of these squares for a given line, we will get the sum of the squared error, and this is known as our loss function. We need to find the beta 0 and beta 1 coefficients that will minimize that sum of squared error. The coefficients can be solved with a variety of techniques ranging from matrix decomposition to gradient descent, which is depicted right here. Thankfully, a lot of libraries are available to do this for us, and we will deep dive into these topics in other videos. To validate a linear regression, there are a number of techniques. Machine learning practitioners will often take a third of the data and put it into the test data set. The remaining two thirds will become the training data set. The training data set will then be used to fit the regression line. The test data set will then be used to validate the regression line. This is done to make sure that the regression performs well on data it has not seen before. The tricks used to evaluate the linear regression vary from the R square, standard error of the estimate, prediction intervals, as well as statistical significance. These are topics we will cover in future videos. If you enjoyed this video, please like and subscribe. Look at my two O'Reilly books, Essential Math for Data Science, and getting started with SQL. Chapter five of Essential Math for Data Science actually covers linear regression and much more depth. If you want live instruction, I also do teach on the O'Reilly platform. Promotional link below. I teach classes including machine learning from scratch, probability, and SQL. Comment on what topics you would like to see next, and I will see you again on 3 Minute Data Science.\""
            ],
            "application/vnd.google.colaboratory.intrinsic+json": {
              "type": "string"
            }
          },
          "metadata": {},
          "execution_count": 64
        }
      ]
    },
    {
      "cell_type": "code",
      "source": [
        "plot_images(img)"
      ],
      "metadata": {
        "colab": {
          "base_uri": "https://localhost:8080/",
          "height": 366
        },
        "id": "XAsWZe0Ww-Io",
        "outputId": "64b404e5-ff69-4b4b-b1a2-e7f65614825e"
      },
      "execution_count": 65,
      "outputs": [
        {
          "output_type": "display_data",
          "data": {
            "text/plain": [
              "<Figure size 1600x900 with 5 Axes>"
            ],
            "image/png": "[encoded data removed]"
          },
          "metadata": {}
        }
      ]
    },
    {
      "cell_type": "code",
      "source": [
        "qa_tmpl_str2"
      ],
      "metadata": {
        "colab": {
          "base_uri": "https://localhost:8080/",
          "height": 88
        },
        "id": "T2CLK7TnxAbR",
        "outputId": "e9c159db-93ce-41ad-91b8-b7423f62133d"
      },
      "execution_count": 66,
      "outputs": [
        {
          "output_type": "execute_result",
          "data": {
            "text/plain": [
              "'Given the provided information, including relevant images and retrieved context from the video,     accurately and precisely answer the query without any additional prior knowledge.\\n---------------------\\nMetadata for video: {metadata_str} \\n---------------------\\nQuery: {query_str}\\nAnswer: '"
            ],
            "application/vnd.google.colaboratory.intrinsic+json": {
              "type": "string"
            }
          },
          "metadata": {},
          "execution_count": 66
        }
      ]
    },
    {
      "cell_type": "code",
      "source": [
        "from llama_index.multi_modal_llms.openai import OpenAIMultiModal"
      ],
      "metadata": {
        "id": "hyF-UZmtxDeW"
      },
      "execution_count": 67,
      "outputs": []
    },
    {
      "cell_type": "code",
      "source": [
        "openai_mm_llm = OpenAIMultiModal(model=\"gpt-4-vision-preview\", api_key=OPENAI_API_TOKEN, max_new_tokens=1500)"
      ],
      "metadata": {
        "id": "gJD3WfAOxFY0"
      },
      "execution_count": 68,
      "outputs": []
    },
    {
      "cell_type": "code",
      "source": [
        "result=openai_mm_llm.complete(\n",
        "    prompt=qa_tmpl_str2.format(\n",
        "        query_str=query_str,metadata_str=metadata_str\n",
        "    ),\n",
        "    image_documents=image_documents2,\n",
        ")"
      ],
      "metadata": {
        "id": "hpe1KiSpxHPI"
      },
      "execution_count": 69,
      "outputs": []
    },
    {
      "cell_type": "code",
      "source": [
        "pprint(result.text)"
      ],
      "metadata": {
        "colab": {
          "base_uri": "https://localhost:8080/"
        },
        "id": "zuGDvwOoxJrH",
        "outputId": "b2166946-573b-4bf4-c2e7-c330295c1ecd"
      },
      "execution_count": 70,
      "outputs": [
        {
          "output_type": "stream",
          "name": "stdout",
          "text": [
            "(\"The O'Reilly platform refers to O'Reilly Media, a learning company that \"\n",
            " 'publishes books, produces tech conferences, and provides an online learning '\n",
            " 'platform with a focus on new technologies and professional development. The '\n",
            " \"image you provided shows books published by O'Reilly Media, which is known \"\n",
            " 'for its distinctive cover designs featuring various animals.')\n"
          ]
        }
      ]
    },
    {
      "cell_type": "code",
      "source": [
        "result2=openai_mm_llm.complete(\n",
        "    prompt=\"what is O'Reilly?\",\n",
        "    image_documents=image_documents2\n",
        ")\n",
        "print(result2.text)"
      ],
      "metadata": {
        "colab": {
          "base_uri": "https://localhost:8080/"
        },
        "id": "eDamJ2i-xL_1",
        "outputId": "75e74cca-b3b6-4c6d-fb25-473dad756ede"
      },
      "execution_count": 71,
      "outputs": [
        {
          "output_type": "stream",
          "name": "stdout",
          "text": [
            "O'Reilly is a learning company that offers a variety of educational resources, including books, conferences, and online courses, primarily focused on technology and business topics. O'Reilly is well-known for publishing books with distinctive cover designs featuring various animals. The books shown in the image, \"The Essential Math for Data Science\" and \"Getting Started with SQL,\" are examples of O'Reilly's educational materials aimed at professionals and students who want to learn more about these specific subjects. The image appears to be a slide from a presentation encouraging viewers to support the speaker or author by purchasing their books and engaging with their content online.\n"
          ]
        }
      ]
    },
    {
      "cell_type": "code",
      "source": [
        "result3=openai_mm_llm.complete(\n",
        "    prompt=\"just tell me what you are seeing over the pecific ocean?\",\n",
        "    image_documents=image_documents2\n",
        ")\n",
        "pprint(result3.text)\n",
        "\n",
        "#real time system\n",
        "\n",
        "#sattalites\n",
        "\n",
        "#just tell me what you are seeing over the pecific ocean?"
      ],
      "metadata": {
        "colab": {
          "base_uri": "https://localhost:8080/"
        },
        "id": "c9beCIUXxOfA",
        "outputId": "137300cb-1ebb-47cb-a3d9-09d213532a44"
      },
      "execution_count": 72,
      "outputs": [
        {
          "output_type": "stream",
          "name": "stdout",
          "text": [
            "(\"Sorry, I can't provide real-time or current information about specific \"\n",
            " 'locations such as the Pacific Ocean. However, I can show you an image that '\n",
            " 'you\\'ve uploaded. The image appears to be a slide or graphic with a \"Thank '\n",
            " 'You! Please Support\" message. It features images of two O\\'Reilly book '\n",
            " 'covers: \"Essential Math for Data Science\" and \"Getting Started with SQL,\" '\n",
            " 'both by Thomas Nield. The slide also includes a call to action to buy the '\n",
            " 'books, like, share, and subscribe, and suggests that viewers can suggest the '\n",
            " 'next topic or find links in the description. This seems to be a closing '\n",
            " 'slide from a presentation or a video, typically used by content creators to '\n",
            " 'engage with their audience.')\n"
          ]
        }
      ]
    },
    {
      "cell_type": "code",
      "source": [],
      "metadata": {
        "id": "2j8-9oHQxREL"
      },
      "execution_count": null,
      "outputs": []
    }
  ]
}